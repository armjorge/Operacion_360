{
 "cells": [
  {
   "cell_type": "markdown",
   "id": "0",
   "metadata": {},
   "source": [
    "# 04 Facturas\n",
    "Este algoritmo está orientado a tomar las facturas del reporte correspondiente, pero validando que las referencias, importes y fechas sean consistentes antes de ligarlo, e indicarle al usuario por qué se ligó o por qué no se ligó. "
   ]
  },
  {
   "cell_type": "code",
   "execution_count": null,
   "id": "1",
   "metadata": {
    "jupyter": {
     "source_hidden": true
    }
   },
   "outputs": [],
   "source": [
    "# Importa librerías y chromedriver\n",
    "import sys\n",
    "import os\n",
    "import glob\n",
    "import yaml\n",
    "import pandas as pd\n",
    "from datetime import datetime\n",
    "import shutil\n",
    "import time\n",
    "\n",
    "# Define the root and script directory\n",
    "folder_root = os.getcwd()  # Get current directory (where Orquestación.ipynb is)\n",
    "script_folder = os.path.join(folder_root, \"Scripts\")  # Path to 'Scripts'\n",
    "# Ensure the script folder is added to sys.path\n",
    "if script_folder not in sys.path:\n",
    "    sys.path.append(script_folder)\n",
    "Libreria_facturas = os.path.join(script_folder, \"Libreria_facturas\")\n",
    "if Libreria_facturas not in sys.path:\n",
    "    sys.path.append(Libreria_facturas)\n",
    "Libreria_comunes = os.path.join(script_folder, \"Libreria_comunes\")\n",
    "if Libreria_comunes not in sys.path:\n",
    "    sys.path.append(Libreria_comunes)"
   ]
  },
  {
   "cell_type": "code",
   "execution_count": null,
   "id": "2",
   "metadata": {
    "jupyter": {
     "source_hidden": true
    }
   },
   "outputs": [],
   "source": [
    "# Cargar información general del YAML\n",
    "folder_implementacion = os.path.join(folder_root, \"Implementación\")\n",
    "folder_facturas = os.path.join(folder_implementacion, \"Facturas\")\n",
    "output_yaml = os.path.join(folder_root, \"Implementación\", \"Facturas\", \"facturas.yaml\")\n",
    "yaml_exists = os.path.exists(output_yaml)\n",
    "\n",
    "if yaml_exists:\n",
    "    # Abrir y cargar el contenido YAML en un diccionario\n",
    "    with open(output_yaml, 'r', encoding='utf-8') as f:\n",
    "        paths_y_sheets = yaml.safe_load(f)\n",
    "    #print(f\"Archivo cargado correctamente: {os.path.basename(output_yaml)}\")\n",
    "    #print(\"Contenido:\", data_access)\n",
    "    #sys.exit()\n",
    "\n",
    "else: \n",
    "    secciones = [\"PAQ_IMSS_2023\", \"PAQ_IMSS_2024\", \"PAQ_IMSS_2025\", \"PAQ_INSABI_2023\", \"PAQ_INSABI_2024\", \"PAQ_INSABI_2025\", \"PAQ_CCINSHAE_2023\", \"PAQ_CCINSHAE_2024\", \"PAQ_CCINSHAE_2025\"]\n",
    "    variables    = [\"Dropbox\", \"Excel_sheet\"]\n",
    "    \n",
    "    lines = []\n",
    "    for seccion in secciones:\n",
    "        for variable in variables:\n",
    "            # clave = valor vacío\n",
    "            lines.append(f\"{seccion}_{variable}: \")\n",
    "        lines.append(\"\")  # línea en blanco entre bloques\n",
    "    \n",
    "    # Escribe el archivo YAML (aunque use \"=\" tal como en tu ejemplo)\n",
    "    with open(output_yaml, \"w\", encoding=\"utf-8\") as f:\n",
    "        f.write(\"\\n\".join(lines))\n",
    "    \n",
    "    print(f\"Archivo generado correctamente en: {output_yaml}\")\n"
   ]
  },
  {
   "cell_type": "markdown",
   "id": "3",
   "metadata": {},
   "source": [
    "El yaml contiene la ruta del archivo y el nombre de la hoja de excel que contiene el reporte, por ejemplo: \n",
    "```\n",
    "PAQ_IMSS_2023_Dropbox: 'C:\\Users\\arman\\Dropbox\\FACT 2023\\Generacion facturas IMSS VFinal.xlsx'\n",
    "PAQ_IMSS_2023_Excel_sheet: 'Reporte Paq'\n",
    "```"
   ]
  },
  {
   "cell_type": "code",
   "execution_count": null,
   "id": "4",
   "metadata": {
    "jupyter": {
     "source_hidden": true
    }
   },
   "outputs": [],
   "source": [
    "# Generar banco de XML's\n",
    "from xml_extraction import smart_xml_extraction\n",
    "invoice_paths = [\n",
    "        r'C:\\Users\\arman\\Dropbox\\FACT 2023',\n",
    "        r'C:\\Users\\arman\\Dropbox\\FACT 2024',\n",
    "        r'C:\\Users\\arman\\Dropbox\\FACT 2025']\n",
    "xlsx_database = os.path.join(folder_root, \"Implementación\", \"Facturas\", 'xmls_extraidos.xlsx')\n",
    "smart_xml_extraction(invoice_paths, xlsx_database)"
   ]
  },
  {
   "cell_type": "markdown",
   "id": "5",
   "metadata": {},
   "source": [
    "## IMSS: Reporte de facturas"
   ]
  },
  {
   "cell_type": "code",
   "execution_count": null,
   "id": "6",
   "metadata": {
    "jupyter": {
     "source_hidden": true
    }
   },
   "outputs": [],
   "source": [
    "# Importar la función y ligar órdenes y facturas. \n",
    "from folders_files_open import create_directory_if_not_exists\n",
    "from paqs_validation import validacion_de_paqs\n",
    "xlsx_database = os.path.join(folder_root, \"Implementación\", \"Facturas\", 'xmls_extraidos.xlsx')\n",
    "\n",
    "IMSS_PAQS = {\n",
    "    paths_y_sheets.get(\"PAQ_IMSS_2023_Dropbox\"): paths_y_sheets.get(\"PAQ_IMSS_2023_Excel_sheet\"),\n",
    "    paths_y_sheets.get(\"PAQ_IMSS_2024_Dropbox\"): paths_y_sheets.get(\"PAQ_IMSS_2024_Excel_sheet\"),\n",
    "    paths_y_sheets.get(\"PAQ_IMSS_2025_Dropbox\"): paths_y_sheets.get(\"PAQ_IMSS_2025_Excel_sheet\"),\n",
    "}\n",
    "facturas_IMSS = os.path.join(folder_facturas, 'IMSS')\n",
    "create_directory_if_not_exists(facturas_IMSS)\n",
    "IMSS_columas = {\n",
    "    'IMSS_2023': ['Folio', 'Referencia','Alta', 'Total','UUID'], \n",
    "    'IMSS_2024': ['Folio', 'Referencia','Alta', 'Total', 'UUID'],\n",
    "    'IMSS_2025': ['Folio', 'Referencia','Alta', 'Total', 'UUID']\n",
    "}\n",
    "altas_path = os.path.join(folder_implementacion, \"SAI\", \"Ordenes_altas.xlsx\") \n",
    "altas_sheet = 'df_altas'\n",
    "df_altas = pd.read_excel(altas_path, sheet_name=altas_sheet)\n",
    "info_types = 'IMSS'\n",
    "#print(altas_path)\n",
    "#print(IMSS_PAQS, '\\n', IMSS_columas, '\\n', facturas_IMSS, df_altas)\n",
    "\n",
    "validacion_de_paqs(IMSS_PAQS, IMSS_columas, facturas_IMSS, altas_path, altas_sheet, info_types, xlsx_database)"
   ]
  },
  {
   "cell_type": "code",
   "execution_count": null,
   "id": "7",
   "metadata": {},
   "outputs": [],
   "source": []
  }
 ],
 "metadata": {
  "kernelspec": {
   "display_name": "Eseotres",
   "language": "python",
   "name": "venv"
  },
  "language_info": {
   "codemirror_mode": {
    "name": "ipython",
    "version": 3
   },
   "file_extension": ".py",
   "mimetype": "text/x-python",
   "name": "python",
   "nbconvert_exporter": "python",
   "pygments_lexer": "ipython3",
   "version": "3.13.6"
  }
 },
 "nbformat": 4,
 "nbformat_minor": 5
}
