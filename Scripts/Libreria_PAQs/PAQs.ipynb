{
 "cells": [
  {
   "cell_type": "code",
   "execution_count": 1,
   "id": "cc4cfd55-6431-4908-9dde-3f5b841389d5",
   "metadata": {},
   "outputs": [],
   "source": [
    "import gspread\n",
    "from oauth2client.service_account import ServiceAccountCredentials\n",
    "from gspread_dataframe import set_with_dataframe\n",
    "import pandas as pd\n",
    "import numpy as np\n",
    "import qgrid\n",
    "from IPython.display import display, Markdown"
   ]
  },
  {
   "cell_type": "code",
   "execution_count": 13,
   "id": "69e13add-357f-4bff-b177-fded083b3bd8",
   "metadata": {},
   "outputs": [
    {
     "name": "stdout",
     "output_type": "stream",
     "text": [
      "Index(['Fecha', 'Serie', 'Folio', 'Razón Social', 'Total', 'UUID',\n",
      "       'UUID Descripción', 'Referencia', 'INSABI', 'Método de pago clave',\n",
      "       'Uso CFDI', 'Forma de pago clave'],\n",
      "      dtype='object')\n"
     ]
    },
    {
     "data": {
      "application/vnd.jupyter.widget-view+json": {
       "model_id": "5bd0a2c2b3ae447795b74aac502b1ae4",
       "version_major": 2,
       "version_minor": 0
      },
      "text/plain": [
       "QgridWidget(grid_options={'fullWidthRows': True, 'syncColumnCellResize': True, 'forceFitColumns': True, 'defau…"
      ]
     },
     "execution_count": 13,
     "metadata": {},
     "output_type": "execute_result"
    }
   ],
   "source": [
    "# Reading the Excel files for the year 2023\n",
    "df_PAQ_IMSS2023 = pd.read_excel(r'.\\PAQs\\IMSS2023.xlsx', usecols='A:J')\n",
    "df_PAQ_INSABI2023 = pd.read_excel(r'.\\PAQs\\INSABI2023.xlsx', usecols='A:L')\n",
    "df_PAQ_DESCENTRALIZADOS2023 = pd.read_excel(r'.\\PAQs\\DESCENTRALIZADOS2023.xlsx', usecols='A:L')\n",
    "\n",
    "# Direcciones\n",
    "path_IMSS2024 = r'C:\\Users\\armjorge\\Dropbox\\FACT 2024\\Generacion facturas IMSS 2024.xlsx'\n",
    "path_INSABI2024 = r'C:\\Users\\armjorge\\Dropbox\\FACT 2024\\Consola IMSSB.xlsx'\n",
    "path__DESCENTRALIZADOS2024 = r'C:\\Users\\armjorge\\Dropbox\\FACT 2024\\Consola CCINSAHE.xlsx'\n",
    "dir_razones_excluir = r'C:\\Users\\armjorge\\Dropbox\\3. Armando Cuaxospa\\Reportes GPT\\Integrado\\RazonesNOCCINSHAE.xlsx'\n",
    "dir_pagos_km = r'C:\\Users\\armjorge\\Dropbox\\3. Armando Cuaxospa\\Reportes GPT\\Dataframes\\2023-2024pagos.xlsx'\n",
    "\n",
    "# Carga\n",
    "df_PAQ_IMSS2024 = pd.read_excel(path_IMSS2024, sheet_name='Reporte Paq', usecols='A:J')\n",
    "df_PAQ_INSABI2024 = pd.read_excel(path_INSABI2024, sheet_name='Reporte PAQ', usecols='A:L')\n",
    "df_PAQ_DESCENTRALIZADOS2024 = pd.read_excel(path__DESCENTRALIZADOS2024, sheet_name='Reporte Paq', usecols='A:L')\n",
    "df_razones_no_CCINSHAE = pd.read_excel(dir_razones_excluir)\n",
    "df_razones_no_CCINSHAE_lista = df_razones_no_CCINSHAE.iloc[:, 0].tolist()  # Adjust the index if necessary\n",
    "df_pagos  = pd.read_excel(dir_pagos_km)\n",
    "# Filtra\n",
    "df_PAQ_IMSS2024 = df_PAQ_IMSS2024[df_PAQ_IMSS2024['Folio'].notna() & df_PAQ_IMSS2024['Folio'].str.strip().astype(bool)]\n",
    "df_PAQ_INSABI2024 = df_PAQ_INSABI2024[df_PAQ_INSABI2024['UUID Descripción'] != 'Cancelado']\n",
    "df_pagos_grouped = df_pagos.groupby('Folio').agg({\n",
    "    'Fecha Pago': 'max',  # Get the most recent (newest) date\n",
    "    'Importe pago': 'sum'  # Sum of 'Importe pago'\n",
    "}).reset_index()\n",
    "\n",
    "\n",
    "# Combining (concatenating) the DataFrames from 2023 and 2024\n",
    "df_PAQ_IMSS_20232024 = pd.concat([df_PAQ_IMSS2023, df_PAQ_IMSS2024])\n",
    "df_PAQ_INSABI_20232024 = pd.concat([df_PAQ_INSABI2023, df_PAQ_INSABI2024])\n",
    "df_PAQ_DESCENTRALIZADOS_20232024 = pd.concat([df_PAQ_DESCENTRALIZADOS2023, df_PAQ_DESCENTRALIZADOS2024])\n",
    "\n",
    "df_PAQ_IMSS_20232024.reset_index(drop=True, inplace=True)\n",
    "df_PAQ_INSABI_20232024.reset_index(drop=True, inplace=True)\n",
    "\n",
    "print(df_PAQ_DESCENTRALIZADOS_20232024.columns)\n",
    "qgrid.show_grid(df_PAQ_DESCENTRALIZADOS_20232024, show_toolbar=True)\n"
   ]
  },
  {
   "cell_type": "code",
   "execution_count": 10,
   "id": "7569356e-adbd-4ea4-962d-ebcd9ced07cd",
   "metadata": {},
   "outputs": [
    {
     "name": "stdout",
     "output_type": "stream",
     "text": [
      "Index(['Fecha', 'Serie', 'Folio', 'Razón Social', 'Total', 'UUID',\n",
      "       'UUID Descripción', 'Referencia', 'INSABI', 'Método de pago clave',\n",
      "       'Uso CFDI', 'Forma de pago clave', 'Factura', 'Ciclo fiscal'],\n",
      "      dtype='object')\n"
     ]
    },
    {
     "data": {
      "application/vnd.jupyter.widget-view+json": {
       "model_id": "4870e88801b74954bd9a8882acb99d92",
       "version_major": 2,
       "version_minor": 0
      },
      "text/plain": [
       "QgridWidget(grid_options={'fullWidthRows': True, 'syncColumnCellResize': True, 'forceFitColumns': True, 'defau…"
      ]
     },
     "execution_count": 10,
     "metadata": {},
     "output_type": "execute_result"
    }
   ],
   "source": [
    "# OPERACIONES CCINSHAES\n",
    "df_PAQ_DESCENTRALIZADOS_20232024.reset_index(drop=True, inplace=True)\n",
    "df_PAQ_DESCENTRALIZADOS_20232024 = df_PAQ_DESCENTRALIZADOS_20232024.dropna(subset=['Referencia'])\n",
    "df_PAQ_DESCENTRALIZADOS_20232024 = df_PAQ_DESCENTRALIZADOS_20232024[df_PAQ_DESCENTRALIZADOS_20232024['Referencia'].str.startswith(('SO23', 'SO24'))]\n",
    "df_PAQ_DESCENTRALIZADOS_20232024['Factura'] = df_PAQ_DESCENTRALIZADOS_20232024['Serie'] + '-' + df_PAQ_DESCENTRALIZADOS_20232024['Folio'].astype(str)\n",
    "df_PAQ_DESCENTRALIZADOS_20232024['Factura'] = df_PAQ_DESCENTRALIZADOS_20232024['Factura'].str.replace('.0', '')\n",
    "\n",
    "df_PAQ_DESCENTRALIZADOS_20232024 = df_PAQ_DESCENTRALIZADOS_20232024[df_PAQ_DESCENTRALIZADOS_20232024['UUID Descripción'] == 'Vigente']\n",
    "df_PAQ_DESCENTRALIZADOS_20232024 = df_PAQ_DESCENTRALIZADOS_20232024[~df_PAQ_DESCENTRALIZADOS_20232024['Razón Social'].isin(df_razones_no_CCINSHAE_lista)]\n",
    "df_PAQ_DESCENTRALIZADOS_20232024['Ciclo fiscal'] = np.where(\n",
    "    df_PAQ_DESCENTRALIZADOS_20232024['Referencia'].str.startswith('SO23'), '2023',\n",
    "    np.where(df_PAQ_DESCENTRALIZADOS_20232024['Referencia'].str.startswith('SO24'), '2024', 'Unknown')\n",
    ")\n",
    "print(df_PAQ_DESCENTRALIZADOS_20232024.columns)\n",
    "qgrid.show_grid(df_PAQ_DESCENTRALIZADOS_20232024, show_toolbar=True)\n"
   ]
  },
  {
   "cell_type": "code",
   "execution_count": 11,
   "id": "cf8058ca-206b-409c-8c68-e36ec5670ad0",
   "metadata": {},
   "outputs": [
    {
     "name": "stdout",
     "output_type": "stream",
     "text": [
      "Index(['Total', 'Fecha', 'Serie', 'Folio', 'Razón Social', 'UUID',\n",
      "       'UUID Descripción', 'Referencia', 'INSABI', 'Método de pago clave',\n",
      "       'Uso CFDI', 'Forma de pago clave', 'Ciclo fiscal'],\n",
      "      dtype='object')\n"
     ]
    },
    {
     "data": {
      "application/vnd.jupyter.widget-view+json": {
       "model_id": "41535cb6ed7146e5bac4014bc7262d9b",
       "version_major": 2,
       "version_minor": 0
      },
      "text/plain": [
       "QgridWidget(grid_options={'fullWidthRows': True, 'syncColumnCellResize': True, 'forceFitColumns': True, 'defau…"
      ]
     },
     "execution_count": 11,
     "metadata": {},
     "output_type": "execute_result"
    }
   ],
   "source": [
    "\n",
    "\n",
    "df_PAQ_DESCENTRALIZADOS2324_grouped = df_PAQ_DESCENTRALIZADOS_20232024.groupby('Factura').agg({\n",
    "    'Total': 'sum',  # Sum the 'Total' for each group\n",
    "    'Fecha': 'first',  # Keep the first 'Fecha' from each group\n",
    "    'Serie': 'first',  # Keep the first 'Serie' from each group\n",
    "    'Folio': 'first',  # Keep the first 'Folio' from each group\n",
    "    'Razón Social': 'first',  # Keep the first 'Razón Social' from each group\n",
    "    'UUID': 'first',  # Keep the first 'UUID' from each group\n",
    "    'UUID Descripción': 'first',  # Keep the first 'UUID Descripción' from each group\n",
    "    'Referencia': 'first',  # Keep the first 'Referencia' from each group\n",
    "    'INSABI': 'first',  # Keep the first 'INSABI' from each group\n",
    "    'Método de pago clave': 'first',  # Keep the first 'Método de pago clave' from each group\n",
    "    'Uso CFDI': 'first',  # Keep the first 'Uso CFDI' from each group\n",
    "    'Forma de pago clave': 'first',  # Keep the first 'Forma de pago clave' from each group\n",
    "    'Ciclo fiscal': 'first'\n",
    "})\n",
    "\n",
    "\n",
    "print(df_PAQ_DESCENTRALIZADOS2324_grouped.columns)\n",
    "qgrid.show_grid(df_PAQ_DESCENTRALIZADOS2324_grouped, show_toolbar=True)"
   ]
  },
  {
   "cell_type": "code",
   "execution_count": null,
   "id": "d2d52346-8832-4b23-938f-a135094c8703",
   "metadata": {},
   "outputs": [],
   "source": [
    "\n",
    "fecha_pago_map = df_pagos_grouped.set_index('Folio')['Fecha Pago']\n",
    "importe_pago_map = df_pagos_grouped.set_index('Folio')['Importe pago']\n",
    "\n",
    "# Map 'Fecha Pago' and 'Importe pago' to df_PAQ_DESCENTRALIZADOS_20232024 based on 'Factura'\n",
    "df_PAQ_DESCENTRALIZADOS2324_grouped['Fecha Pago'] = df_PAQ_DESCENTRALIZADOS2324_grouped['Factura'].map(fecha_pago_map)\n",
    "df_PAQ_DESCENTRALIZADOS2324_grouped['Importe pago'] = df_PAQ_DESCENTRALIZADOS2324_grouped['Factura'].map(importe_pago_map)\n",
    "df_PAQ_DESCENTRALIZADOS2324_grouped['Fecha Pago'] = pd.to_datetime(df_PAQ_DESCENTRALIZADOS2324_grouped['Fecha Pago']).dt.strftime('%d/%m/%Y')\n"
   ]
  },
  {
   "cell_type": "code",
   "execution_count": 48,
   "id": "c3408081-6571-42c3-a3d5-96f1a4fa14a6",
   "metadata": {},
   "outputs": [],
   "source": [
    "# Setup Google Sheets API\n",
    "import gspread\n",
    "from oauth2client.service_account import ServiceAccountCredentials\n",
    "\n",
    "scope = ['https://spreadsheets.google.com/feeds',\n",
    "         'https://www.googleapis.com/auth/drive']\n",
    "creds = ServiceAccountCredentials.from_json_keyfile_name('key.json', scope)\n",
    "client = gspread.authorize(creds)\n",
    "spreadsheet = client.open_by_url('https://docs.google.com/spreadsheets/d/1KN4XwXQlZ5jhyErxdpA_R6kNk2tKwwFeDnCDuHCr0fo/edit#gid=2033397596')\n",
    "\n",
    "# Read the worksheets into DataFrames\n",
    "def worksheet_to_df(worksheet_name, columns_range):\n",
    "    worksheet = spreadsheet.worksheet(worksheet_name)\n",
    "    data = worksheet.get(columns_range)\n",
    "    return pd.DataFrame(data[1:], columns=data[0])\n",
    "df_Zoho = worksheet_to_df('ZOHO', 'A:U')\n",
    "\n",
    "\n",
    "df_Zoho['SalesOrder Number'] ['Institución Homologada', 'Contrato', 'Orden','lugarEntrega']"
   ]
  },
  {
   "cell_type": "code",
   "execution_count": 3,
   "id": "3b625175-311c-4023-b2e1-acaf5d24b6da",
   "metadata": {
    "scrolled": true
   },
   "outputs": [
    {
     "name": "stdout",
     "output_type": "stream",
     "text": [
      "Index(['Fecha', 'Serie', 'Folio', 'Razón Social', 'Total', 'UUID',\n",
      "       'UUID Descripción', 'Referencia', 'INSABI', 'Método de pago clave',\n",
      "       'Uso CFDI', 'Forma de pago clave'],\n",
      "      dtype='object')\n"
     ]
    },
    {
     "data": {
      "application/vnd.jupyter.widget-view+json": {
       "model_id": "f76cda0a04c94a80b0a28058fbbf34e9",
       "version_major": 2,
       "version_minor": 0
      },
      "text/plain": [
       "QgridWidget(grid_options={'fullWidthRows': True, 'syncColumnCellResize': True, 'forceFitColumns': True, 'defau…"
      ]
     },
     "execution_count": 3,
     "metadata": {},
     "output_type": "execute_result"
    }
   ],
   "source": []
  },
  {
   "cell_type": "code",
   "execution_count": 45,
   "id": "86ec1375-84a3-43cb-a3a0-ca90bc844068",
   "metadata": {},
   "outputs": [
    {
     "name": "stdout",
     "output_type": "stream",
     "text": [
      "Index(['Factura', 'Total', 'Fecha', 'Serie', 'Folio', 'Razón Social', 'UUID',\n",
      "       'UUID Descripción', 'Referencia', 'INSABI', 'Método de pago clave',\n",
      "       'Uso CFDI', 'Forma de pago clave', 'Ciclo fiscal', 'Fecha Pago',\n",
      "       'Importe pago'],\n",
      "      dtype='object')\n"
     ]
    },
    {
     "data": {
      "application/vnd.jupyter.widget-view+json": {
       "model_id": "825d8b06fb7149459cc69793ff855bd9",
       "version_major": 2,
       "version_minor": 0
      },
      "text/plain": [
       "QgridWidget(grid_options={'fullWidthRows': True, 'syncColumnCellResize': True, 'forceFitColumns': True, 'defau…"
      ]
     },
     "execution_count": 45,
     "metadata": {},
     "output_type": "execute_result"
    }
   ],
   "source": [
    "print(df_PAQ_DESCENTRALIZADOS2324_grouped.columns)\n",
    "qgrid.show_grid(df_PAQ_DESCENTRALIZADOS2324_grouped, show_toolbar=True)"
   ]
  },
  {
   "cell_type": "code",
   "execution_count": 49,
   "id": "def96518-d82e-4669-a02f-da9aec9c3ded",
   "metadata": {},
   "outputs": [
    {
     "name": "stdout",
     "output_type": "stream",
     "text": [
      "Index(['Institución Homologada', 'Contrato', 'Orden', 'Clave',\n",
      "       'fechaExpedicion', 'lugarEntrega', 'descripciónEntrega',\n",
      "       'direccionEntrega', 'fechaEntrega', 'cantidadSolicitada', 'Precio',\n",
      "       'SalesOrder Number', 'Status', 'Importe',\n",
      "       'Fecha de entrega de la orden', 'Factura', 'Fecha de pago',\n",
      "       'Ciclo fiscal', 'Estatus Factura', 'Fecha de Ingreso', 'Institución'],\n",
      "      dtype='object')\n"
     ]
    },
    {
     "data": {
      "application/vnd.jupyter.widget-view+json": {
       "model_id": "0c8fbafbc4cd4e44a9cef4e31254fc57",
       "version_major": 2,
       "version_minor": 0
      },
      "text/plain": [
       "QgridWidget(grid_options={'fullWidthRows': True, 'syncColumnCellResize': True, 'forceFitColumns': True, 'defau…"
      ]
     },
     "execution_count": 49,
     "metadata": {},
     "output_type": "execute_result"
    }
   ],
   "source": [
    "print(df_Zoho.columns)\n",
    "qgrid.show_grid(df_Zoho, show_toolbar=True)"
   ]
  },
  {
   "cell_type": "code",
   "execution_count": 4,
   "id": "84cb7a10-a75d-4dc5-b00d-4b2b7a0cacda",
   "metadata": {},
   "outputs": [
    {
     "name": "stdout",
     "output_type": "stream",
     "text": [
      "Index(['Factura', 'Total', 'Fecha', 'Serie', 'Folio', 'Razón Social', 'UUID',\n",
      "       'UUID Descripción', 'Referencia', 'INSABI', 'Método de pago clave',\n",
      "       'Uso CFDI', 'Forma de pago clave', 'Ciclo fiscal', 'Fecha Pago',\n",
      "       'Importe pago'],\n",
      "      dtype='object')\n"
     ]
    },
    {
     "data": {
      "application/vnd.jupyter.widget-view+json": {
       "model_id": "a625847db7bd4d95accd7626e67d3dbf",
       "version_major": 2,
       "version_minor": 0
      },
      "text/plain": [
       "QgridWidget(grid_options={'fullWidthRows': True, 'syncColumnCellResize': True, 'forceFitColumns': True, 'defau…"
      ]
     },
     "execution_count": 4,
     "metadata": {},
     "output_type": "execute_result"
    }
   ],
   "source": [
    "print(df_PAQ_DESCENTRALIZADOS2324_grouped.columns)\n",
    "qgrid.show_grid(df_PAQ_DESCENTRALIZADOS2324_grouped, show_toolbar=True)"
   ]
  },
  {
   "cell_type": "code",
   "execution_count": null,
   "id": "d278a077-ae5d-4025-9585-aef9cd936546",
   "metadata": {},
   "outputs": [],
   "source": []
  }
 ],
 "metadata": {
  "kernelspec": {
   "display_name": "Python 3 (ipykernel)",
   "language": "python",
   "name": "python3"
  },
  "language_info": {
   "codemirror_mode": {
    "name": "ipython",
    "version": 3
   },
   "file_extension": ".py",
   "mimetype": "text/x-python",
   "name": "python",
   "nbconvert_exporter": "python",
   "pygments_lexer": "ipython3",
   "version": "3.12.5"
  }
 },
 "nbformat": 4,
 "nbformat_minor": 5
}
