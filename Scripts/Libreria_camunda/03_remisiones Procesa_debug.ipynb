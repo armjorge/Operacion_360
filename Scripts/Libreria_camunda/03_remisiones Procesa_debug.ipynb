{
 "cells": [
  {
   "cell_type": "code",
   "execution_count": 7,
   "id": "79b010a6-9905-4a8f-b959-bfaa766842d3",
   "metadata": {},
   "outputs": [],
   "source": [
    "import pandas as pd\n",
    "import re\n",
    "import qgrid\n",
    "from IPython.display import display, Markdown"
   ]
  },
  {
   "cell_type": "code",
   "execution_count": 10,
   "id": "f2c88d01-754d-4c86-88b6-472a10a28fb7",
   "metadata": {},
   "outputs": [],
   "source": [
    "\n",
    "# Read the CSV file\n",
    "df = pd.read_csv('./INSABI_Remisiones 2024/extraccionRemisionesINSABI.csv')\n",
    "df = df.dropna(subset=['Tabla_lotes'])\n",
    "\n",
    "# Define a function to extract the desired data\n",
    "def extract_data(cell_content):\n",
    "    # Regular expression to find the pattern: characters + date + date + number\n",
    "    pattern = re.compile(r'([A-Za-z0-9]+)\\s+(\\d{1,2}/\\d{1,2}/\\d{2,4})\\s+(\\d{1,2}/\\d{1,2}/\\d{2,4}).*')\n",
    "    matches = pattern.finditer(cell_content)\n",
    "    \n",
    "    batches = []\n",
    "    expiry_dates = []\n",
    "    manufacturing_dates = []\n",
    "    pieces = []\n",
    "    \n",
    "    prev_end = 0\n",
    "    for match in matches:\n",
    "        batches.append(match.group(1))\n",
    "        expiry_dates.append(match.group(2))\n",
    "        manufacturing_dates.append(match.group(3))\n",
    "        \n",
    "        # Extract the piece value from the previous match end to the current match start\n",
    "        piece_part = cell_content[prev_end:match.start()]\n",
    "        piece_match = re.search(r'(\\d+)(?=\\D*$)', piece_part)\n",
    "        if piece_match:  # Only append if there's a match\n",
    "            pieces.append(piece_match.group(1))\n",
    "        \n",
    "        prev_end = match.end()\n",
    "    \n",
    "    # Extract the piece value from the last match end to the end of the string\n",
    "    piece_part = cell_content[prev_end:]\n",
    "    piece_match = re.search(r'(\\d+)(?=\\D*$)', piece_part)\n",
    "    if piece_match:  # Only append if there's a match\n",
    "        pieces.append(piece_match.group(1))\n",
    "    \n",
    "    # Join multiple entries with newline character   \n",
    "    return (\n",
    "        \", \".join(batches),\n",
    "        \", \".join(expiry_dates),\n",
    "        \", \".join(manufacturing_dates),\n",
    "        \", \".join(pieces)  # This should now correctly exclude initial empty strings\n",
    "    )\n",
    "    \"\"\"\n",
    "    # Línea original, esto agrega un Char(10) en las celdas encontradas\n",
    "    # Join multiple entries with newline character   \n",
    "    return (\n",
    "        \"\\n\".join(batches),\n",
    "        \"\\n\".join(expiry_dates),\n",
    "        \"\\n\".join(manufacturing_dates),\n",
    "        \"\\n\".join(pieces)\n",
    "    )\n",
    "\"\"\"\n",
    "# Apply the function and create new columns\n",
    "df[['Batch', 'Expiry_date', 'Manufacturing_date', 'Pieces']] = pd.DataFrame(\n",
    "    df['Tabla_lotes'].apply(extract_data).tolist(), \n",
    "    index=df.index\n",
    ")\n"
   ]
  },
  {
   "cell_type": "code",
   "execution_count": 11,
   "id": "46e84250-ed62-4616-a67a-20d6ec316554",
   "metadata": {},
   "outputs": [
    {
     "data": {
      "text/markdown": [
       "# DF"
      ],
      "text/plain": [
       "<IPython.core.display.Markdown object>"
      ]
     },
     "metadata": {},
     "output_type": "display_data"
    },
    {
     "name": "stdout",
     "output_type": "stream",
     "text": [
      "Index(['Archivo', 'Oremision', 'Osuministro', 'Contrato', 'Fecha emisión',\n",
      "       'FEEN', 'Clave', 'Tabla_lotes', 'Batch', 'Expiry_date',\n",
      "       'Manufacturing_date', 'Pieces'],\n",
      "      dtype='object')\n"
     ]
    },
    {
     "data": {
      "application/vnd.jupyter.widget-view+json": {
       "model_id": "e520c1f9d81e4cff8cd1ee1026eaed50",
       "version_major": 2,
       "version_minor": 0
      },
      "text/plain": [
       "QgridWidget(grid_options={'fullWidthRows': True, 'syncColumnCellResize': True, 'forceFitColumns': True, 'defau…"
      ]
     },
     "execution_count": 11,
     "metadata": {},
     "output_type": "execute_result"
    }
   ],
   "source": [
    "display(Markdown('# DF'))\n",
    "print(df.columns)\n",
    "qgrid.show_grid(df, show_toolbar=True)"
   ]
  },
  {
   "cell_type": "code",
   "execution_count": null,
   "id": "a975cb8d-58f4-4d16-9b39-f66fe14fbbf3",
   "metadata": {},
   "outputs": [],
   "source": [
    "\n",
    "# Select columns from A to H and the new columns\n",
    "df = df.iloc[:, :8].join(df[['Batch', 'Expiry_date', 'Manufacturing_date', 'Pieces']])\n",
    "df['Tabla_lotes'].astype(str).apply(extract_data).tolist(),\n",
    "\n",
    "# Save the DataFrame to a new XLSX file\n",
    "#df.to_excel('remisiones_insabi2024.xlsx', index=False, engine='openpyxl')\n",
    "\n",
    "# Path to your existing workbook\n",
    "file_path = 'INSABI_ordenes-contratos-sellos-remisiones.xlsx'\n",
    "\n",
    "\n",
    "# Initialize the ExcelWriter object in append mode\n",
    "with pd.ExcelWriter(file_path, engine='openpyxl', mode='a') as writer:\n",
    "    # Access the OpenPyXL workbook object\n",
    "    workbook = writer.book\n",
    "    \n",
    "    # Check if the 'Remisiones' sheet exists, and remove it\n",
    "    if 'Remisiones' in workbook.sheetnames:\n",
    "        del workbook['Remisiones']\n",
    "    \n",
    "    # Now, write your DataFrame to the 'Remisiones' sheet in the workbook\n",
    "    # This operation will overwrite the 'Remisiones' sheet with your DataFrame\n",
    "    df.to_excel(writer, sheet_name='Remisiones', index=False)\n",
    "    \n",
    "print(f\"\\n*******************************\\n Resultado guardado a: {file_path} Remisiones \\n*******************************\\n\")\n"
   ]
  }
 ],
 "metadata": {
  "kernelspec": {
   "display_name": "Python 3 (ipykernel)",
   "language": "python",
   "name": "python3"
  },
  "language_info": {
   "codemirror_mode": {
    "name": "ipython",
    "version": 3
   },
   "file_extension": ".py",
   "mimetype": "text/x-python",
   "name": "python",
   "nbconvert_exporter": "python",
   "pygments_lexer": "ipython3",
   "version": "3.12.3"
  }
 },
 "nbformat": 4,
 "nbformat_minor": 5
}
