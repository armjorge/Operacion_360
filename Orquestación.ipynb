{
 "cells": [
  {
   "cell_type": "markdown",
   "id": "4fe2091f-6315-4d41-a297-16a4d736a8b0",
   "metadata": {},
   "source": [
    "# Orquestador de ventas 360: resumen\n",
    "Diseño esto para, partiendo de la demanda desagregada: \n",
    "- Capturar contratos\n",
    "- Descargar xlsx de sistemas SAI, CAMUNDA, SAGI, ZOHO y PISP. \n",
    "- Consultar exceles internos\n",
    "- Organizar las órdenes descargadas\n",
    "- Generar los pickle de las órdenes\n",
    "Todo lo anterior es la información mínima indispensable para poder generar información de ventas, que será la referencia interna sobre la que desplegaremos el alimentado de reportes y la generación de reglas para dar retro al usuario."
   ]
  },
  {
   "cell_type": "markdown",
   "id": "6191bc16-8ecd-4592-b77e-0f2b9fd63079",
   "metadata": {},
   "source": [
    "# Librerías"
   ]
  },
  {
   "cell_type": "code",
   "execution_count": 7,
   "id": "94378f05-026f-4b07-805d-04e1bf9db789",
   "metadata": {},
   "outputs": [],
   "source": [
    "# Importa librerías y carpetas con funciones\n",
    "import sys\n",
    "import os\n",
    "import yaml\n",
    "import pandas as pd\n",
    "# Define the root and script directory\n",
    "folder_root = os.getcwd()  # Get current directory (where Orquestación.ipynb is)\n",
    "script_folder = os.path.join(folder_root, \"Scripts\")  # Path to 'Scripts'\n",
    "# Ensure the script folder is added to sys.path\n",
    "if script_folder not in sys.path:\n",
    "    sys.path.append(script_folder)\n",
    "contratos_library_scripts = os.path.join(script_folder, \"Libreria_contratos\")\n",
    "if contratos_library_scripts not in sys.path:\n",
    "    sys.path.append(contratos_library_scripts)\n",
    "\n",
    "# Print sys.path to check\n",
    "#print(sys.path)"
   ]
  },
  {
   "cell_type": "markdown",
   "id": "b4b4b8a8-4c87-411f-909c-31ff889dead4",
   "metadata": {},
   "source": [
    "# Funciones"
   ]
  },
  {
   "cell_type": "code",
   "execution_count": 8,
   "id": "a9db077c-4f81-4568-bbb0-c272ffccd02b",
   "metadata": {},
   "outputs": [],
   "source": [
    "#\n",
    "from folders_files_open import create_directory_if_not_exists\n",
    "from dataframes_generation import create_dataframe #(extension, dataframe_name, columns, output_folder)\n",
    "# Generador de carpetas\n",
    "from folders_files_open import create_directory_if_not_exists\n",
    "# Administración de contratos:\n",
    "from administracion_de_contratos import administracion_de_contratos\n",
    "\n"
   ]
  },
  {
   "cell_type": "markdown",
   "id": "21ec8c60-ae4f-4469-80ec-b73e82f8f280",
   "metadata": {},
   "source": [
    "## Carpetas y dataframes\n",
    "Las siguiente será la estructura de la carpeta con la información."
   ]
  },
  {
   "cell_type": "code",
   "execution_count": 9,
   "id": "b4dd5177-7398-45c9-8662-93549380a6fe",
   "metadata": {},
   "outputs": [
    {
     "name": "stdout",
     "output_type": "stream",
     "text": [
      "\tFolder Implementación encontrado.\n"
     ]
    }
   ],
   "source": [
    "#Folders y working_folder\n",
    "working_folder = os.path.join(folder_root, \"Implementación\")\n",
    "create_directory_if_not_exists(working_folder)\n",
    "bases_folder = os.path.join(working_folder, \"Descarga de bases\")\n",
    "archivos_internos = os.path.join(working_folder, \"Bases internas\")\n",
    "organizador_archivos = os.path.join(working_folder, \"Librería\")\n",
    "data_warehouse = os.path.join(working_folder, \"DF warehouse\")\n",
    "sai_archivos = os.path.join(organizador_archivos, \"SAI\")\n",
    "camunda_archivos = os.path.join(organizador_archivos, \"CAMUNDA\")\n",
    "pisp_archivos = os.path.join(organizador_archivos, \"PISP\")\n",
    "sagi_archivos = os.path.join(organizador_archivos, \"SAGI\")\n",
    "carpeta_contratos = os.path.join(working_folder, \"Contratos\")\n"
   ]
  },
  {
   "cell_type": "code",
   "execution_count": 10,
   "id": "12f17f16-2bc5-4731-b465-e45941cf069f",
   "metadata": {},
   "outputs": [
    {
     "name": "stdout",
     "output_type": "stream",
     "text": [
      "\tFolder Descarga de bases encontrado.\n",
      "\tFolder Bases internas encontrado.\n",
      "\tFolder DF warehouse encontrado.\n",
      "\tFolder Librería encontrado.\n",
      "\tFolder SAI encontrado.\n",
      "\tFolder CAMUNDA encontrado.\n",
      "\tFolder PISP encontrado.\n",
      "\tFolder SAGI encontrado.\n",
      "\tFolder Contratos encontrado.\n"
     ]
    }
   ],
   "source": [
    "#Genera la estructura de carpetas. \n",
    "create_directory_if_not_exists(bases_folder)\n",
    "create_directory_if_not_exists(archivos_internos)\n",
    "create_directory_if_not_exists(data_warehouse)\n",
    "create_directory_if_not_exists(organizador_archivos)\n",
    "create_directory_if_not_exists(sai_archivos)\n",
    "create_directory_if_not_exists(camunda_archivos)\n",
    "create_directory_if_not_exists(pisp_archivos)\n",
    "create_directory_if_not_exists(sagi_archivos)\n",
    "create_directory_if_not_exists(carpeta_contratos)"
   ]
  },
  {
   "cell_type": "markdown",
   "id": "9647b3db-88a5-4e46-a80e-eec440fb9733",
   "metadata": {},
   "source": [
    "## Generador de dataframes"
   ]
  },
  {
   "cell_type": "code",
   "execution_count": 11,
   "id": "72ccdc6a-0a21-4772-bd13-7c31d67b1ade",
   "metadata": {},
   "outputs": [
    {
     "name": "stdout",
     "output_type": "stream",
     "text": [
      "✅ Dataframe desagregada localizado.\n"
     ]
    }
   ],
   "source": [
    "#Carga las columnas del archivo YAML\n",
    "yaml_file_path = os.path.join(folder_root, \"df_headers.yaml\")\n",
    "with open(yaml_file_path, \"r\") as f:\n",
    "    columns_data = yaml.safe_load(f)\n",
    "\n",
    "columnas_desagregada = columns_data[\"Desagregada_columns\"]\n",
    "df_desagregada = create_dataframe(\"xlsx\", \"desagregada\", columns_data[\"Desagregada_columns\"], data_warehouse)\n",
    "#print(df_desagregada.head())"
   ]
  },
  {
   "cell_type": "markdown",
   "id": "940871d0-3d41-4376-95de-0c885ad9435f",
   "metadata": {},
   "source": [
    "# Administrador de contratos\n",
    "Aquí empieza todo, la demanda desagregada nos da una lista de instituciones a las que debemos de visitar. "
   ]
  },
  {
   "cell_type": "markdown",
   "id": "a40ac2e9-2c58-4dd6-be23-9326608775e2",
   "metadata": {},
   "source": [
    "## Capturar y Exportar base de contratos\n",
    "1) Captura de contrato: te va haciendo preguntas hasta que tienes un PDF con la leyenda que necesitamos en su cuerpo.\n",
    "2) Extrae la información de los diccionarios del PDF y genera un archivo .pickle con la información.\n",
    "3) Exporta pickle a excel para consulta de los usuarios."
   ]
  },
  {
   "cell_type": "code",
   "execution_count": null,
   "id": "fdc4126d-e71e-4ca3-8cd5-fc96c4063644",
   "metadata": {},
   "outputs": [],
   "source": []
  },
  {
   "cell_type": "code",
   "execution_count": null,
   "id": "4aa50e15-82e1-45d0-a1d9-c9ba79378c05",
   "metadata": {
    "editable": true,
    "scrolled": true,
    "slideshow": {
     "slide_type": ""
    },
    "tags": []
   },
   "outputs": [
    {
     "name": "stdout",
     "output_type": "stream",
     "text": [
      "Index(['Institución', 'Procedimiento', 'Clave', 'Descripción', 'Precio',\n",
      "       'Total'],\n",
      "      dtype='object') /n\n",
      "                              Institución           Procedimiento  \\\n",
      "0  HOSPITAL DE ESPECIALIDADES PEDIÁTRICAS  LA-012M7B997-E115-2022   \n",
      "1  HOSPITAL DE ESPECIALIDADES PEDIÁTRICAS  LA-012M7B997-E115-2022   \n",
      "2  HOSPITAL DE ESPECIALIDADES PEDIÁTRICAS  LA-012M7B997-E115-2022   \n",
      "3  HOSPITAL DE ESPECIALIDADES PEDIÁTRICAS  LA-012M7B997-E115-2022   \n",
      "4                    HOSPITAL DE LA MUJER  LA-012M7B997-E115-2022   \n",
      "\n",
      "             Clave                                        Descripción  Precio  \\\n",
      "0  010.000.0246.00  Propofol. Cada ampolleta o frasco ámpula conti...      69   \n",
      "1  010.000.4242.00  Enoxaparina. Solución Inyectable Cada jeringa ...     111   \n",
      "2  010.000.4154.00  Vasopresina. Solución Inyectable Cada ampollet...     207   \n",
      "3  010.000.4411.00  Latanoprost. Solución Oftálmica Cada ml contie...      83   \n",
      "4  010.000.0246.00  Propofol. Cada ampolleta o frasco ámpula conti...      69   \n",
      "\n",
      "   Total  \n",
      "0     52  \n",
      "1    240  \n",
      "2    100  \n",
      "3     40  \n",
      "4    268  \n",
      "Columna de procedimiento Procedimiento e institución Institución solicitadas y presentes al cargar el dataframe\n",
      "1) LA-012M7B997-E115-2022\n"
     ]
    },
    {
     "name": "stdin",
     "output_type": "stream",
     "text": [
      "Seleccione el número del procedimiento:  1\n"
     ]
    },
    {
     "name": "stdout",
     "output_type": "stream",
     "text": [
      "Procedimiento seleccionado: LA-012M7B997-E115-2022\n",
      "                              Institución           Procedimiento  \\\n",
      "0  HOSPITAL DE ESPECIALIDADES PEDIÁTRICAS  LA-012M7B997-E115-2022   \n",
      "1  HOSPITAL DE ESPECIALIDADES PEDIÁTRICAS  LA-012M7B997-E115-2022   \n",
      "2  HOSPITAL DE ESPECIALIDADES PEDIÁTRICAS  LA-012M7B997-E115-2022   \n",
      "3  HOSPITAL DE ESPECIALIDADES PEDIÁTRICAS  LA-012M7B997-E115-2022   \n",
      "4                    HOSPITAL DE LA MUJER  LA-012M7B997-E115-2022   \n",
      "\n",
      "             Clave                                        Descripción  Precio  \\\n",
      "0  010.000.0246.00  Propofol. Cada ampolleta o frasco ámpula conti...      69   \n",
      "1  010.000.4242.00  Enoxaparina. Solución Inyectable Cada jeringa ...     111   \n",
      "2  010.000.4154.00  Vasopresina. Solución Inyectable Cada ampollet...     207   \n",
      "3  010.000.4411.00  Latanoprost. Solución Oftálmica Cada ml contie...      83   \n",
      "4  010.000.0246.00  Propofol. Cada ampolleta o frasco ámpula conti...      69   \n",
      "\n",
      "   Total  \n",
      "0     52  \n",
      "1    240  \n",
      "2    100  \n",
      "3     40  \n",
      "4    268  \n",
      "¿1) Capturar un contrato o 2) extraer base contratos existentes?\n"
     ]
    },
    {
     "name": "stdin",
     "output_type": "stream",
     "text": [
      "Seleccione una opción (1 o 2):  1\n",
      "Define el tipo P) Primigenio o M) Modificatorio:  p\n"
     ]
    },
    {
     "name": "stdout",
     "output_type": "stream",
     "text": [
      "Tipo seleccionado: Primigenio\n",
      "Primigenio\n",
      "\tIniciando el orquestador para poblar el diccionario\n",
      "\tFolder PDF_Library encontrado.\n",
      "\n",
      "\tPASO A: GENERAR DE DICCIONARIO PARA NUEVO CONTRATO\n",
      "\n",
      "printing df_clientes before passing to generar_skus                               Institución           Procedimiento  \\\n",
      "0  HOSPITAL DE ESPECIALIDADES PEDIÁTRICAS  LA-012M7B997-E115-2022   \n",
      "1  HOSPITAL DE ESPECIALIDADES PEDIÁTRICAS  LA-012M7B997-E115-2022   \n",
      "2  HOSPITAL DE ESPECIALIDADES PEDIÁTRICAS  LA-012M7B997-E115-2022   \n",
      "3  HOSPITAL DE ESPECIALIDADES PEDIÁTRICAS  LA-012M7B997-E115-2022   \n",
      "4                    HOSPITAL DE LA MUJER  LA-012M7B997-E115-2022   \n",
      "\n",
      "             Clave                                        Descripción  Precio  \\\n",
      "0  010.000.0246.00  Propofol. Cada ampolleta o frasco ámpula conti...      69   \n",
      "1  010.000.4242.00  Enoxaparina. Solución Inyectable Cada jeringa ...     111   \n",
      "2  010.000.4154.00  Vasopresina. Solución Inyectable Cada ampollet...     207   \n",
      "3  010.000.4411.00  Latanoprost. Solución Oftálmica Cada ml contie...      83   \n",
      "4  010.000.0246.00  Propofol. Cada ampolleta o frasco ámpula conti...      69   \n",
      "\n",
      "   Total  \n",
      "0     52  \n",
      "1    240  \n",
      "2    100  \n",
      "3     40  \n",
      "4    268  \n",
      "\t🛠️ Iniciando la generación del diccionario para el contrato...\n",
      "\n",
      "✅ Archivo con información cargada.\n",
      "✅ Se encontró al menos un registro:\n",
      "\t0) HOSPITAL DE ESPECIALIDADES PEDIÁTRICAS\n",
      "\t1) HOSPITAL DE LA MUJER\n",
      "\t2) HOSPITAL GENERAL DE MÉXICO\n",
      "\n",
      "📌 Opciones:\n",
      "\tSeleccionar un valor existente en la columna Institución\n",
      "\n",
      "🔹 Valores disponibles:\n",
      "\t0) HOSPITAL DE ESPECIALIDADES PEDIÁTRICAS\n",
      "\t1) HOSPITAL DE LA MUJER\n",
      "\t2) HOSPITAL GENERAL DE MÉXICO\n",
      "\t3) HOSPITAL GENERAL DR. MANUEL GEA GONZÁLEZ\n",
      "\t4) HOSPITAL INFANTIL DE MÉXICO FEDERICO GÓMEZ\n",
      "\t5) HOSPITAL JUÁREZ DE MÉXICO\n",
      "\t6) HOSPITAL NACIONAL HOMEOPÁTICO\n",
      "\t7) HOSPITAL REGIONAL DE ALTA ESPECIALIDAD CIUDAD SALUD\n",
      "\t8) HOSPITAL REGIONAL DE ALTA ESPECIALIDAD DE LA PENÍNSULA DE YUCATÁN\n",
      "\t9) HOSPITAL REGIONAL DE ALTA ESPECIALIDAD DE OAXACA\n",
      "\t10) HOSPITAL REGIONAL DE ALTA ESPECIALIDAD DEL BAJÍO\n",
      "\t11) HOSPITAL REGIONAL DE ALTA ESPECIALIDAD EN CD VICTORIA BICENTENARIO 2010\n",
      "\t12) HOSPITAL REGIONAL DE ALTA ESPECIALIDAD IXTAPALUCA\n",
      "\t13) IMSS\n",
      "\t14) INSABI\n",
      "\t15) INSTITUTO NACIONAL DE CANCEROLOGÍA\n",
      "\t16) INSTITUTO NACIONAL DE CARDIOLOGÍA IGNACIO CHÁVEZ\n",
      "\t17) INSTITUTO NACIONAL DE CIENCIAS MÉDICAS Y NUTRICIÓN SALVADOR ZUBIRÁN\n",
      "\t18) INSTITUTO NACIONAL DE ENFERMEDADES RESPIRATORIAS ISMAEL COSÍO VILLEGAS\n",
      "\t19) INSTITUTO NACIONAL DE NEUROLOGÍA Y NEUROCIRUGÍA MANUEL VELASCO SUÁREZ\n",
      "\t20) INSTITUTO NACIONAL DE PEDIATRÍA\n",
      "\t21) INSTITUTO NACIONAL DE PERINATOLOGÍA ISIDRO ESPINOSA DE LOS REYES\n",
      "\t22) INSTITUTO NACIONAL DE PSIQUIATRÍA RAMÓN DE LA FUENTE MUÑÍZ\n",
      "\t23) INSTITUTO NACIONAL DE REHABILITACIÓN\n",
      "\t24) ISSSTE\n",
      "\t25) OADPRS\n",
      "\t26) PYRS\n",
      "\t27) SPPS-SAP\n",
      "\t28) UNIDAD MÉDICO QUIRÚRGICA JUÁREZ CENTRO\n"
     ]
    },
    {
     "name": "stdin",
     "output_type": "stream",
     "text": [
      "🔹 Dame el índice del valor:  13\n",
      "Captura el nombre del contrato:  012M7B997E11522032\n"
     ]
    },
    {
     "name": "stdout",
     "output_type": "stream",
     "text": [
      "012M7B997E11522032\n"
     ]
    },
    {
     "name": "stdin",
     "output_type": "stream",
     "text": [
      "\n",
      "Confirmas que es el contrato? Sí o No:  Sí\n"
     ]
    },
    {
     "name": "stdout",
     "output_type": "stream",
     "text": [
      "Capturaremos la fecha de inicio del contrato\n"
     ]
    },
    {
     "name": "stdin",
     "output_type": "stream",
     "text": [
      "¿Cuál es mes? (2 dígitos)?:  01\n",
      "¿Cuál es el año(4 dígitos)?:  2023\n",
      "¿Cuál es día? (2 dígitos)?:  31\n"
     ]
    },
    {
     "name": "stdout",
     "output_type": "stream",
     "text": [
      "Capturaremos la fecha de inicio del contrato\n",
      "Capturaremos la fecha de terminación del contrato\n"
     ]
    },
    {
     "name": "stdin",
     "output_type": "stream",
     "text": [
      "¿Cuál es mes? (2 dígitos)?:  12\n",
      "¿Cuál es el año(4 dígitos)?:  2024\n",
      "¿Cuál es día? (2 dígitos)?:  31\n",
      "\n",
      "1) Formalizado o 2) Copia con firmas incompletas (no formalizado):  1\n"
     ]
    },
    {
     "name": "stdout",
     "output_type": "stream",
     "text": [
      "🚀 Comenzando la función para capturar máximos por contrato\n",
      "Columna institucional IMSS\n",
      "Retira las claves que no se encuentren en el contrato y modifica el total\n",
      "Está basado en la demanda desagregada\n",
      "   Institución            Clave  Precio    Total\n",
      "56        IMSS  010.000.0246.00      69   481844\n",
      "57        IMSS  010.000.4224.00     207    97277\n",
      "58        IMSS  010.000.4242.00     111   124788\n",
      "59        IMSS  010.000.4154.00     207    48580\n",
      "60        IMSS  010.000.4411.00      83  2023270\n",
      "Eliminando archivo previo.\n",
      "Archivo 'Máximos temporal.xlsx' creado con éxito.\n",
      "Máximos temporal.xlsx abierto con éxito.\n"
     ]
    },
    {
     "name": "stdin",
     "output_type": "stream",
     "text": [
      "💡 Por favor, carga los datos de SKU en 'Máximos temporal.xlsx' y presiona Enter cuando hayas terminado... \n"
     ]
    },
    {
     "name": "stdout",
     "output_type": "stream",
     "text": [
      "\n",
      "📊 Verifica las cantidades máximas por clave:\n",
      "             Clave    Total\n",
      "0  010.000.4224.00    97277\n",
      "1  010.000.4242.00   124788\n",
      "2  010.000.4154.00    48580\n",
      "3  010.000.4411.00  2023270\n"
     ]
    },
    {
     "name": "stdin",
     "output_type": "stream",
     "text": [
      "✅ Las cantidades máximas por clave son correctas? (s/n):  s\n"
     ]
    },
    {
     "name": "stdout",
     "output_type": "stream",
     "text": [
      "✔️ Confirmación completada con éxito.\n",
      "\n",
      "🔹 Diccionario generado con valores actuales:\n",
      "\n",
      "    {\n",
      "        'Institución': \"IMSS\",\n",
      "        'Procedimiento': \"LA-012M7B997-E115-2022\",\n",
      "        'Contrato': \"012M7B997E11522032\",\n",
      "        'Modificatorio': \"\",\n",
      "        'Fecha Inicio': \"31/01/2023\",\n",
      "        'Fecha Fin': \"31/12/2024\",\n",
      "        'Estatus': \"Formalizado\",\n",
      "        'SKU': \"[{'Clave': '010.000.4224.00', 'Precio': 207, 'Máximo': 97277}, {'Clave': '010.000.4242.00', 'Precio': 111, 'Máximo': 124788}, {'Clave': '010.000.4154.00', 'Precio': 207, 'Máximo': 48580}, {'Clave': '010.000.4411.00', 'Precio': 83, 'Máximo': 2023270}]\"\n",
      "    }\n",
      "    \n",
      "✅ Diccionario validado y corregido correctamente.\n",
      "Diccionario Capturado\n",
      " \n",
      "    {\n",
      "        'Institución': \"IMSS\",\n",
      "        'Procedimiento': \"LA-012M7B997-E115-2022\",\n",
      "        'Contrato': \"012M7B997E11522032\",\n",
      "        'Modificatorio': \"\",\n",
      "        'Fecha Inicio': \"31/01/2023\",\n",
      "        'Fecha Fin': \"31/12/2024\",\n",
      "        'Estatus': \"Formalizado\",\n",
      "        'SKU': \"[{'Clave': '010.000.4224.00', 'Precio': 207, 'Máximo': 97277}, {'Clave': '010.000.4242.00', 'Precio': 111, 'Máximo': 124788}, {'Clave': '010.000.4154.00', 'Precio': 207, 'Máximo': 48580}, {'Clave': '010.000.4411.00', 'Precio': 83, 'Máximo': 2023270}]\"\n",
      "    }\n",
      "     \n",
      "Diccionario Procesado\n",
      " {'Institución': 'IMSS', 'Procedimiento': 'LA-012M7B997-E115-2022', 'Contrato': '012M7B997E11522032', 'Modificatorio': '', 'Fecha Inicio': '31/01/2023', 'Fecha Fin': '31/12/2024', 'Estatus': 'Formalizado', 'SKU': \"[{'Clave': '010.000.4224.00', 'Precio': 207, 'Máximo': 97277}, {'Clave': '010.000.4242.00', 'Precio': 111, 'Máximo': 124788}, {'Clave': '010.000.4154.00', 'Precio': 207, 'Máximo': 48580}, {'Clave': '010.000.4411.00', 'Precio': 83, 'Máximo': 2023270}]\"}\n",
      "\n",
      "\tPASO C: MANEJAR EL PDF\n",
      "\n",
      "💰 Total del contrato: 211975277\n",
      "\n",
      "📄 Con los datos extraídos, es momento de pasar a cargar el PDF\n",
      "\n",
      "\n",
      "No se localizó el folder Temp, creando.\n",
      "\tFolder Temp creado.\n"
     ]
    },
    {
     "name": "stdin",
     "output_type": "stream",
     "text": [
      "\n",
      "🔄 Por favor presiona Enter cuando hayas movido el PDF a la carpeta temporal que se abrió.\n",
      " \n"
     ]
    },
    {
     "name": "stdout",
     "output_type": "stream",
     "text": [
      "✅ Archivo renombrado a: /Users/armjorge/Library/CloudStorage/Dropbox/3. Armando Cuaxospa/Licitaciones/Licitaciones 2025/E115 360/Implementación/Temp/012M7B997E11522032_Formalizado.pdf\n",
      "\n",
      "📄 **PASO C: COPIAR Y PEGAR ETIQUETA EN PDF**\n",
      "\n",
      "🔹 **Etiqueta generada:**\n",
      "{'Institución': 'IMSS', 'Procedimiento': 'LA-012M7B997-E115-2022', 'Contrato': '012M7B997E11522032', 'Modificatorio': '', 'Fecha Inicio': '31/01/2023', 'Fecha Fin': '31/12/2024', 'Estatus': 'Formalizado', 'SKU': \"[{'Clave': '010.000.4224.00', 'Precio': 207, 'Máximo': 97277}, {'Clave': '010.000.4242.00', 'Precio': 111, 'Máximo': 124788}, {'Clave': '010.000.4154.00', 'Precio': 207, 'Máximo': 48580}, {'Clave': '010.000.4411.00', 'Precio': 83, 'Máximo': 2023270}]\"}\n",
      "✅ **Etiqueta copiada al portapapeles.**\n"
     ]
    }
   ],
   "source": [
    "# Capturar un nuevo contato\n",
    "administracion_de_contratos(data_warehouse, working_folder, libreria_contratos)"
   ]
  },
  {
   "cell_type": "code",
   "execution_count": null,
   "id": "b9f440e6-7088-4478-a79c-65c1adee6e53",
   "metadata": {},
   "outputs": [],
   "source": []
  },
  {
   "cell_type": "code",
   "execution_count": null,
   "id": "e259d2b3-63aa-48be-9796-d0cbfb973de4",
   "metadata": {},
   "outputs": [],
   "source": []
  },
  {
   "cell_type": "code",
   "execution_count": null,
   "id": "ed1f442c-8b35-4a30-8122-15dc9341a4f6",
   "metadata": {},
   "outputs": [],
   "source": []
  }
 ],
 "metadata": {
  "kernelspec": {
   "display_name": "Python (eseotres_deployments)",
   "language": "python",
   "name": "eseotres_deployments"
  },
  "language_info": {
   "codemirror_mode": {
    "name": "ipython",
    "version": 3
   },
   "file_extension": ".py",
   "mimetype": "text/x-python",
   "name": "python",
   "nbconvert_exporter": "python",
   "pygments_lexer": "ipython3",
   "version": "3.13.1"
  }
 },
 "nbformat": 4,
 "nbformat_minor": 5
}
