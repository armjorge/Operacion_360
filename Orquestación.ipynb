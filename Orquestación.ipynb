{
 "cells": [
  {
   "cell_type": "markdown",
   "id": "4fe2091f-6315-4d41-a297-16a4d736a8b0",
   "metadata": {},
   "source": [
    "# Orquestador de ventas 360: resumen\n",
    "Diseño esto para, partiendo de la demanda desagregada: \n",
    "- Capturar contratos\n",
    "- Descargar xlsx de sistemas SAI, CAMUNDA, SAGI, ZOHO y PISP. \n",
    "- Consultar exceles internos\n",
    "- Organizar las órdenes descargadas\n",
    "- Generar los pickle de las órdenes\n",
    "Todo lo anterior es la información mínima indispensable para poder generar información de ventas, que será la referencia interna sobre la que desplegaremos el alimentado de reportes y la generación de reglas para dar retro al usuario."
   ]
  },
  {
   "cell_type": "markdown",
   "id": "6191bc16-8ecd-4592-b77e-0f2b9fd63079",
   "metadata": {},
   "source": [
    "# Librerías"
   ]
  },
  {
   "cell_type": "code",
   "execution_count": 1,
   "id": "94378f05-026f-4b07-805d-04e1bf9db789",
   "metadata": {},
   "outputs": [],
   "source": [
    "# Importa librerías y carpetas con funciones\n",
    "import sys\n",
    "import os\n",
    "import yaml\n",
    "import pandas as pd\n",
    "# Define the root and script directory\n",
    "folder_root = os.getcwd()  # Get current directory (where Orquestación.ipynb is)\n",
    "script_folder = os.path.join(folder_root, \"Scripts\")  # Path to 'Scripts'\n",
    "# Ensure the script folder is added to sys.path\n",
    "if script_folder not in sys.path:\n",
    "    sys.path.append(script_folder)\n",
    "contratos_library_scripts = os.path.join(script_folder, \"Libreria_contratos\")\n",
    "if contratos_library_scripts not in sys.path:\n",
    "    sys.path.append(contratos_library_scripts)\n",
    "\n",
    "# Print sys.path to check\n",
    "#print(sys.path)"
   ]
  },
  {
   "cell_type": "markdown",
   "id": "b4b4b8a8-4c87-411f-909c-31ff889dead4",
   "metadata": {},
   "source": [
    "# Funciones"
   ]
  },
  {
   "cell_type": "code",
   "execution_count": 3,
   "id": "a9db077c-4f81-4568-bbb0-c272ffccd02b",
   "metadata": {},
   "outputs": [],
   "source": [
    "#\n",
    "from folders_files_open import create_directory_if_not_exists\n",
    "from STEP_C_PDFhandling import STEP_C_read_PDF_from_source\n",
    "from dataframes_generation import create_dataframe #(extension, dataframe_name, columns, output_folder)\n",
    "# Generador de carpetas\n",
    "from folders_files_open import create_directory_if_not_exists\n",
    "# Administración de contratos:\n",
    "from administracion_de_contratos import administracion_de_contratos\n",
    "\n"
   ]
  },
  {
   "cell_type": "markdown",
   "id": "21ec8c60-ae4f-4469-80ec-b73e82f8f280",
   "metadata": {},
   "source": [
    "## Carpetas y dataframes\n",
    "Las siguiente será la estructura de la carpeta con la información."
   ]
  },
  {
   "cell_type": "code",
   "execution_count": 5,
   "id": "b4dd5177-7398-45c9-8662-93549380a6fe",
   "metadata": {},
   "outputs": [
    {
     "name": "stdout",
     "output_type": "stream",
     "text": [
      "\tFolder Implementación encontrado.\n"
     ]
    }
   ],
   "source": [
    "#Folders y working_folder\n",
    "working_folder = os.path.join(folder_root, \"Implementación\")\n",
    "create_directory_if_not_exists(working_folder)\n",
    "bases_folder = os.path.join(working_folder, \"Descarga de bases\")\n",
    "archivos_internos = os.path.join(working_folder, \"Bases internas\")\n",
    "organizador_archivos = os.path.join(working_folder, \"Librería\")\n",
    "data_warehouse = os.path.join(working_folder, \"DF warehouse\")\n",
    "sai_archivos = os.path.join(organizador_archivos, \"SAI\")\n",
    "camunda_archivos = os.path.join(organizador_archivos, \"CAMUNDA\")\n",
    "pisp_archivos = os.path.join(organizador_archivos, \"PISP\")\n",
    "sagi_archivos = os.path.join(organizador_archivos, \"SAGI\")\n",
    "libreria_contratos = os.path.join(working_folder, \"Contratos\")\n"
   ]
  },
  {
   "cell_type": "code",
   "execution_count": 6,
   "id": "12f17f16-2bc5-4731-b465-e45941cf069f",
   "metadata": {},
   "outputs": [
    {
     "name": "stdout",
     "output_type": "stream",
     "text": [
      "\tFolder Descarga de bases encontrado.\n",
      "\tFolder Bases internas encontrado.\n",
      "\tFolder DF warehouse encontrado.\n",
      "\tFolder Librería encontrado.\n",
      "\tFolder SAI encontrado.\n",
      "\tFolder CAMUNDA encontrado.\n",
      "\tFolder PISP encontrado.\n",
      "\tFolder SAGI encontrado.\n",
      "\tFolder Contratos encontrado.\n"
     ]
    }
   ],
   "source": [
    "#Genera la estructura de carpetas. \n",
    "create_directory_if_not_exists(bases_folder)\n",
    "create_directory_if_not_exists(archivos_internos)\n",
    "create_directory_if_not_exists(data_warehouse)\n",
    "create_directory_if_not_exists(organizador_archivos)\n",
    "create_directory_if_not_exists(sai_archivos)\n",
    "create_directory_if_not_exists(camunda_archivos)\n",
    "create_directory_if_not_exists(pisp_archivos)\n",
    "create_directory_if_not_exists(sagi_archivos)\n",
    "create_directory_if_not_exists(libreria_contratos)"
   ]
  },
  {
   "cell_type": "markdown",
   "id": "9647b3db-88a5-4e46-a80e-eec440fb9733",
   "metadata": {},
   "source": [
    "## Generador de dataframes"
   ]
  },
  {
   "cell_type": "code",
   "execution_count": 5,
   "id": "72ccdc6a-0a21-4772-bd13-7c31d67b1ade",
   "metadata": {},
   "outputs": [
    {
     "name": "stdout",
     "output_type": "stream",
     "text": [
      "✅ Dataframe desagregada localizado.\n"
     ]
    }
   ],
   "source": [
    "#Carga las columnas del archivo YAML\n",
    "yaml_file_path = os.path.join(folder_root, \"df_headers.yaml\")\n",
    "with open(yaml_file_path, \"r\") as f:\n",
    "    columns_data = yaml.safe_load(f)\n",
    "\n",
    "columnas_desagregada = columns_data[\"Desagregada_columns\"]\n",
    "df_desagregada = create_dataframe(\"xlsx\", \"desagregada\", columns_data[\"Desagregada_columns\"], data_warehouse)\n",
    "#print(df_desagregada.head())"
   ]
  },
  {
   "cell_type": "markdown",
   "id": "940871d0-3d41-4376-95de-0c885ad9435f",
   "metadata": {},
   "source": [
    "# Administrador de contratos\n",
    "Aquí empieza todo, la demanda desagregada nos da una lista de instituciones a las que debemos de visitar. "
   ]
  },
  {
   "cell_type": "markdown",
   "id": "a40ac2e9-2c58-4dd6-be23-9326608775e2",
   "metadata": {},
   "source": [
    "## Capturar y Exportar base de contratos\n",
    "1) Captura de contrato: te va haciendo preguntas hasta que tienes un PDF con la leyenda que necesitamos en su cuerpo.\n",
    "2) Extrae la información de los diccionarios del PDF y genera un archivo .pickle con la información.\n",
    "3) Exporta pickle a excel para consulta de los usuarios."
   ]
  },
  {
   "cell_type": "code",
   "execution_count": 6,
   "id": "4aa50e15-82e1-45d0-a1d9-c9ba79378c05",
   "metadata": {
    "editable": true,
    "scrolled": true,
    "slideshow": {
     "slide_type": ""
    },
    "tags": []
   },
   "outputs": [
    {
     "name": "stdout",
     "output_type": "stream",
     "text": [
      "Index(['Institución', 'Procedimiento', 'Clave', 'Descripción', 'Precio',\n",
      "       'Total'],\n",
      "      dtype='object') /n\n",
      "                              Institución           Procedimiento  \\\n",
      "0  HOSPITAL DE ESPECIALIDADES PEDIÁTRICAS  LA-012M7B997-E115-2022   \n",
      "1  HOSPITAL DE ESPECIALIDADES PEDIÁTRICAS  LA-012M7B997-E115-2022   \n",
      "2  HOSPITAL DE ESPECIALIDADES PEDIÁTRICAS  LA-012M7B997-E115-2022   \n",
      "3  HOSPITAL DE ESPECIALIDADES PEDIÁTRICAS  LA-012M7B997-E115-2022   \n",
      "4                    HOSPITAL DE LA MUJER  LA-012M7B997-E115-2022   \n",
      "\n",
      "             Clave                                        Descripción  Precio  \\\n",
      "0  010.000.0246.00  Propofol. Cada ampolleta o frasco ámpula conti...      69   \n",
      "1  010.000.4242.00  Enoxaparina. Solución Inyectable Cada jeringa ...     111   \n",
      "2  010.000.4154.00  Vasopresina. Solución Inyectable Cada ampollet...     207   \n",
      "3  010.000.4411.00  Latanoprost. Solución Oftálmica Cada ml contie...      83   \n",
      "4  010.000.0246.00  Propofol. Cada ampolleta o frasco ámpula conti...      69   \n",
      "\n",
      "   Total  \n",
      "0     52  \n",
      "1    240  \n",
      "2    100  \n",
      "3     40  \n",
      "4    268  \n",
      "Columna de procedimiento Procedimiento e institución Institución solicitadas y presentes al cargar el dataframe\n",
      "1) LA-012M7B997-E115-2022\n"
     ]
    },
    {
     "ename": "KeyboardInterrupt",
     "evalue": "Interrupted by user",
     "output_type": "error",
     "traceback": [
      "\u001b[0;31m---------------------------------------------------------------------------\u001b[0m",
      "\u001b[0;31mKeyboardInterrupt\u001b[0m                         Traceback (most recent call last)",
      "Cell \u001b[0;32mIn[6], line 2\u001b[0m\n\u001b[1;32m      1\u001b[0m \u001b[38;5;66;03m# Capturar un nuevo contato\u001b[39;00m\n\u001b[0;32m----> 2\u001b[0m \u001b[43madministracion_de_contratos\u001b[49m\u001b[43m(\u001b[49m\u001b[43mdata_warehouse\u001b[49m\u001b[43m,\u001b[49m\u001b[43m \u001b[49m\u001b[43mworking_folder\u001b[49m\u001b[43m,\u001b[49m\u001b[43m \u001b[49m\u001b[43mlibreria_contratos\u001b[49m\u001b[43m)\u001b[49m\n",
      "File \u001b[0;32m~/Library/CloudStorage/Dropbox/3. Armando Cuaxospa/Licitaciones/Licitaciones 2025/E115 360/Scripts/administracion_de_contratos.py:33\u001b[0m, in \u001b[0;36madministracion_de_contratos\u001b[0;34m(data_warehouse, working_folder, carpeta_contratos)\u001b[0m\n\u001b[1;32m     31\u001b[0m \u001b[38;5;66;03m# Ask user to select a procedure\u001b[39;00m\n\u001b[1;32m     32\u001b[0m \u001b[38;5;28;01mtry\u001b[39;00m:\n\u001b[0;32m---> 33\u001b[0m     selected_index \u001b[38;5;241m=\u001b[39m \u001b[38;5;28mint\u001b[39m(\u001b[38;5;28;43minput\u001b[39;49m\u001b[43m(\u001b[49m\u001b[38;5;124;43m\"\u001b[39;49m\u001b[38;5;124;43mSeleccione el número del procedimiento: \u001b[39;49m\u001b[38;5;124;43m\"\u001b[39;49m\u001b[43m)\u001b[49m) \u001b[38;5;241m-\u001b[39m \u001b[38;5;241m1\u001b[39m\n\u001b[1;32m     34\u001b[0m     \u001b[38;5;28;01mif\u001b[39;00m \u001b[38;5;241m0\u001b[39m \u001b[38;5;241m<\u001b[39m\u001b[38;5;241m=\u001b[39m selected_index \u001b[38;5;241m<\u001b[39m \u001b[38;5;28mlen\u001b[39m(unique_procedimientos):\n\u001b[1;32m     35\u001b[0m         selected_procedimiento \u001b[38;5;241m=\u001b[39m unique_procedimientos[selected_index]\n",
      "File \u001b[0;32m~/Ambientes Virtuales/eseotres_deployments/lib/python3.13/site-packages/ipykernel/kernelbase.py:1282\u001b[0m, in \u001b[0;36mKernel.raw_input\u001b[0;34m(self, prompt)\u001b[0m\n\u001b[1;32m   1280\u001b[0m     msg \u001b[38;5;241m=\u001b[39m \u001b[38;5;124m\"\u001b[39m\u001b[38;5;124mraw_input was called, but this frontend does not support input requests.\u001b[39m\u001b[38;5;124m\"\u001b[39m\n\u001b[1;32m   1281\u001b[0m     \u001b[38;5;28;01mraise\u001b[39;00m StdinNotImplementedError(msg)\n\u001b[0;32m-> 1282\u001b[0m \u001b[38;5;28;01mreturn\u001b[39;00m \u001b[38;5;28;43mself\u001b[39;49m\u001b[38;5;241;43m.\u001b[39;49m\u001b[43m_input_request\u001b[49m\u001b[43m(\u001b[49m\n\u001b[1;32m   1283\u001b[0m \u001b[43m    \u001b[49m\u001b[38;5;28;43mstr\u001b[39;49m\u001b[43m(\u001b[49m\u001b[43mprompt\u001b[49m\u001b[43m)\u001b[49m\u001b[43m,\u001b[49m\n\u001b[1;32m   1284\u001b[0m \u001b[43m    \u001b[49m\u001b[38;5;28;43mself\u001b[39;49m\u001b[38;5;241;43m.\u001b[39;49m\u001b[43m_parent_ident\u001b[49m\u001b[43m[\u001b[49m\u001b[38;5;124;43m\"\u001b[39;49m\u001b[38;5;124;43mshell\u001b[39;49m\u001b[38;5;124;43m\"\u001b[39;49m\u001b[43m]\u001b[49m\u001b[43m,\u001b[49m\n\u001b[1;32m   1285\u001b[0m \u001b[43m    \u001b[49m\u001b[38;5;28;43mself\u001b[39;49m\u001b[38;5;241;43m.\u001b[39;49m\u001b[43mget_parent\u001b[49m\u001b[43m(\u001b[49m\u001b[38;5;124;43m\"\u001b[39;49m\u001b[38;5;124;43mshell\u001b[39;49m\u001b[38;5;124;43m\"\u001b[39;49m\u001b[43m)\u001b[49m\u001b[43m,\u001b[49m\n\u001b[1;32m   1286\u001b[0m \u001b[43m    \u001b[49m\u001b[43mpassword\u001b[49m\u001b[38;5;241;43m=\u001b[39;49m\u001b[38;5;28;43;01mFalse\u001b[39;49;00m\u001b[43m,\u001b[49m\n\u001b[1;32m   1287\u001b[0m \u001b[43m\u001b[49m\u001b[43m)\u001b[49m\n",
      "File \u001b[0;32m~/Ambientes Virtuales/eseotres_deployments/lib/python3.13/site-packages/ipykernel/kernelbase.py:1325\u001b[0m, in \u001b[0;36mKernel._input_request\u001b[0;34m(self, prompt, ident, parent, password)\u001b[0m\n\u001b[1;32m   1322\u001b[0m \u001b[38;5;28;01mexcept\u001b[39;00m \u001b[38;5;167;01mKeyboardInterrupt\u001b[39;00m:\n\u001b[1;32m   1323\u001b[0m     \u001b[38;5;66;03m# re-raise KeyboardInterrupt, to truncate traceback\u001b[39;00m\n\u001b[1;32m   1324\u001b[0m     msg \u001b[38;5;241m=\u001b[39m \u001b[38;5;124m\"\u001b[39m\u001b[38;5;124mInterrupted by user\u001b[39m\u001b[38;5;124m\"\u001b[39m\n\u001b[0;32m-> 1325\u001b[0m     \u001b[38;5;28;01mraise\u001b[39;00m \u001b[38;5;167;01mKeyboardInterrupt\u001b[39;00m(msg) \u001b[38;5;28;01mfrom\u001b[39;00m\u001b[38;5;250m \u001b[39m\u001b[38;5;28;01mNone\u001b[39;00m\n\u001b[1;32m   1326\u001b[0m \u001b[38;5;28;01mexcept\u001b[39;00m \u001b[38;5;167;01mException\u001b[39;00m:\n\u001b[1;32m   1327\u001b[0m     \u001b[38;5;28mself\u001b[39m\u001b[38;5;241m.\u001b[39mlog\u001b[38;5;241m.\u001b[39mwarning(\u001b[38;5;124m\"\u001b[39m\u001b[38;5;124mInvalid Message:\u001b[39m\u001b[38;5;124m\"\u001b[39m, exc_info\u001b[38;5;241m=\u001b[39m\u001b[38;5;28;01mTrue\u001b[39;00m)\n",
      "\u001b[0;31mKeyboardInterrupt\u001b[0m: Interrupted by user"
     ]
    }
   ],
   "source": [
    "# Capturar un nuevo contato\n",
    "administracion_de_contratos(data_warehouse, working_folder, libreria_contratos)"
   ]
  },
  {
   "cell_type": "code",
   "execution_count": 7,
   "id": "b9f440e6-7088-4478-a79c-65c1adee6e53",
   "metadata": {},
   "outputs": [
    {
     "name": "stdout",
     "output_type": "stream",
     "text": [
      "\n",
      "📖 Procesando: 012M7B997E11522032_Formalizado.pdf\n",
      "🐞 Intentando abrir el archivo PDF en la ruta: /Users/armjorge/Library/CloudStorage/Dropbox/3. Armando Cuaxospa/Licitaciones/Licitaciones 2025/E115 360/Implementación/Contratos/012M7B997E11522032_Formalizado.pdf\n",
      "🐞 El PDF tiene 169 páginas. Leyendo solo la última...\n",
      "✅ Datos extraídos de 012M7B997E11522032_Formalizado.pdf: {'Institución': 'IMSS', 'Procedimiento': 'LA-012M7B997-E115-2022', 'Contrato': '012M7B997E11522032', 'Modificatorio': '', 'Fecha Inicio': '01/01/2023', 'Fecha Fin': '31/12/2024', 'Estatus': 'Formalizado', 'SKU': \"[{'Clave': '010.000.4224.00', 'Precio': 207, 'Máximo': 97277}, {'Clave':  '010.000.4242.00', 'Precio': 111, 'Máximo': 124788}, {'Clave': '010.000.4154.00', 'Precio': 207,  'Máximo': 48580}, {'Clave': '010.000.4411.00', 'Precio': 83, 'Máximo': 2023270}]\"}\n",
      "  Modificatorio      Estatus Fecha Inicio Institución  \\\n",
      "0                Formalizado   01/01/2023        IMSS   \n",
      "\n",
      "                                                 SKU            Contrato  \\\n",
      "0  [{'Clave': '010.000.4224.00', 'Precio': 207, '...  012M7B997E11522032   \n",
      "\n",
      "            Procedimiento   Fecha Fin  \n",
      "0  LA-012M7B997-E115-2022  31/12/2024  \n"
     ]
    }
   ],
   "source": [
    "STEP_C_read_PDF_from_source(libreria_contratos)"
   ]
  },
  {
   "cell_type": "code",
   "execution_count": null,
   "id": "e259d2b3-63aa-48be-9796-d0cbfb973de4",
   "metadata": {},
   "outputs": [],
   "source": []
  },
  {
   "cell_type": "code",
   "execution_count": null,
   "id": "ed1f442c-8b35-4a30-8122-15dc9341a4f6",
   "metadata": {},
   "outputs": [],
   "source": []
  }
 ],
 "metadata": {
  "kernelspec": {
   "display_name": "Python (eseotres_deployments)",
   "language": "python",
   "name": "eseotres_deployments"
  },
  "language_info": {
   "codemirror_mode": {
    "name": "ipython",
    "version": 3
   },
   "file_extension": ".py",
   "mimetype": "text/x-python",
   "name": "python",
   "nbconvert_exporter": "python",
   "pygments_lexer": "ipython3",
   "version": "3.13.1"
  }
 },
 "nbformat": 4,
 "nbformat_minor": 5
}
