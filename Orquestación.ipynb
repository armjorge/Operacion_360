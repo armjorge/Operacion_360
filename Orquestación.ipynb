{
 "cells": [
  {
   "cell_type": "markdown",
   "id": "4fe2091f-6315-4d41-a297-16a4d736a8b0",
   "metadata": {},
   "source": [
    "# Orquestador de ventas 360: resumen\n",
    "Diseño esto para, partiendo de la demanda desagregada: \n",
    "- Capturar contratos\n",
    "- Descargar xlsx de sistemas SAI, CAMUNDA, SAGI, ZOHO y PISP. \n",
    "- Consultar exceles internos\n",
    "- Organizar las órdenes descargadas\n",
    "- Generar los pickle de las órdenes\n",
    "Todo lo anterior es la información mínima indispensable para poder generar información de ventas, que será la referencia interna sobre la que desplegaremos el alimentado de reportes y la generación de reglas para dar retro al usuario."
   ]
  },
  {
   "cell_type": "markdown",
   "id": "6191bc16-8ecd-4592-b77e-0f2b9fd63079",
   "metadata": {},
   "source": [
    "# Librerías"
   ]
  },
  {
   "cell_type": "code",
   "execution_count": null,
   "id": "94378f05-026f-4b07-805d-04e1bf9db789",
   "metadata": {},
   "outputs": [],
   "source": [
    "# Improta librerías y carpetas con funciones\n",
    "import sys\n",
    "import os\n",
    "# Define the root and script directory\n",
    "folder_root = os.getcwd()  # Get current directory (where Orquestación.ipynb is)\n",
    "script_folder = os.path.join(folder_root, \"Scripts\")  # Path to 'Scripts'\n",
    "# Ensure the script folder is added to sys.path\n",
    "if script_folder not in sys.path:\n",
    "    sys.path.append(script_folder)\n",
    "\n",
    "contratos_library_scripts = os.path.join(script_folder, \"Libreria_contratos\")\n",
    "if contratos_library_scripts not in sys.path:\n",
    "    sys.path.append(contratos_library_scripts)\n",
    "\n",
    "\n",
    "# Print sys.path to check\n",
    "#print(sys.path)"
   ]
  },
  {
   "cell_type": "markdown",
   "id": "b4b4b8a8-4c87-411f-909c-31ff889dead4",
   "metadata": {},
   "source": [
    "# Funciones"
   ]
  },
  {
   "cell_type": "code",
   "execution_count": null,
   "id": "a9db077c-4f81-4568-bbb0-c272ffccd02b",
   "metadata": {},
   "outputs": [],
   "source": [
    "# Administración de contratos:\n",
    "from administracion_de_contratos import administracion_de_contratos\n",
    "from folders_files_open import create_directory_if_not_exists\n"
   ]
  },
  {
   "cell_type": "markdown",
   "id": "21ec8c60-ae4f-4469-80ec-b73e82f8f280",
   "metadata": {},
   "source": [
    "## Carpetas\n",
    "Las siguiente será la estructura de la carpeta con la información."
   ]
  },
  {
   "cell_type": "code",
   "execution_count": null,
   "id": "b4dd5177-7398-45c9-8662-93549380a6fe",
   "metadata": {},
   "outputs": [],
   "source": [
    "#Folders y working_folder\n",
    "working_folder = os.path.join(folder_root, \"Implementación\")\n",
    "create_directory_if_not_exists(working_folder)\n",
    "bases_folder = os.path.join(working_folder, \"Descarga de bases\")\n",
    "archivos_internos = os.path.join(working_folder, \"Bases internas\")\n",
    "organizador_archivos = os.path.join(working_folder, \"Librería\")\n",
    "sai_archivos = os.path.join(organizador_archivos, \"SAI\")\n",
    "camunda_archivos = os.path.join(organizador_archivos, \"CAMUNDA\")\n",
    "pisp_archivos = os.path.join(organizador_archivos, \"PISP\")\n",
    "sagi_archivos = os.path.join(organizador_archivos, \"SAGI\")"
   ]
  },
  {
   "cell_type": "code",
   "execution_count": null,
   "id": "12f17f16-2bc5-4731-b465-e45941cf069f",
   "metadata": {
    "jupyter": {
     "source_hidden": true
    }
   },
   "outputs": [],
   "source": [
    "#Genera la estructura de carpetas. \n",
    "create_directory_if_not_exists(bases_folder)\n",
    "create_directory_if_not_exists(archivos_internos)\n",
    "create_directory_if_not_exists(organizador_archivos)\n",
    "create_directory_if_not_exists(sai_archivos)\n",
    "create_directory_if_not_exists(camunda_archivos)\n",
    "create_directory_if_not_exists(pisp_archivos)\n",
    "create_directory_if_not_exists(sagi_archivos)"
   ]
  },
  {
   "cell_type": "markdown",
   "id": "96ff2d91-41d6-4f55-9096-776cf6e6ce41",
   "metadata": {},
   "source": [
    "# Administrador de contratos\n",
    "Aquí empieza todo, la demanda desagregada nos da una lista de instituciones a las que debemos de visitar. "
   ]
  },
  {
   "cell_type": "markdown",
   "id": "a40ac2e9-2c58-4dd6-be23-9326608775e2",
   "metadata": {},
   "source": [
    "## Capturar y Exportar base de contratos\n",
    "1) Captura de contrato: te va haciendo preguntas hasta que tienes un PDF con la leyenda que necesitamos en su cuerpo.\n",
    "2) Extrae la información de los diccionarios del PDF y genera un archivo .pickle con la información.\n",
    "3) Exporta pickle a excel para consulta de los usuarios."
   ]
  },
  {
   "cell_type": "code",
   "execution_count": null,
   "id": "4aa50e15-82e1-45d0-a1d9-c9ba79378c05",
   "metadata": {
    "editable": true,
    "slideshow": {
     "slide_type": ""
    },
    "tags": []
   },
   "outputs": [],
   "source": [
    "# Capturar un nuevo contrato\n",
    "administracion_de_contratos(working_folder)"
   ]
  },
  {
   "cell_type": "code",
   "execution_count": null,
   "id": "b9f440e6-7088-4478-a79c-65c1adee6e53",
   "metadata": {},
   "outputs": [],
   "source": []
  },
  {
   "cell_type": "code",
   "execution_count": null,
   "id": "e259d2b3-63aa-48be-9796-d0cbfb973de4",
   "metadata": {},
   "outputs": [],
   "source": []
  },
  {
   "cell_type": "code",
   "execution_count": null,
   "id": "ed1f442c-8b35-4a30-8122-15dc9341a4f6",
   "metadata": {},
   "outputs": [],
   "source": []
  }
 ],
 "metadata": {
  "kernelspec": {
   "display_name": "Python (eseotres_deployments)",
   "language": "python",
   "name": "eseotres_deployments"
  },
  "language_info": {
   "codemirror_mode": {
    "name": "ipython",
    "version": 3
   },
   "file_extension": ".py",
   "mimetype": "text/x-python",
   "name": "python",
   "nbconvert_exporter": "python",
   "pygments_lexer": "ipython3",
   "version": "3.13.1"
  }
 },
 "nbformat": 4,
 "nbformat_minor": 5
}
