{
 "cells": [
  {
   "cell_type": "markdown",
   "id": "db9c2460-55b5-417c-913d-1655e565d9e5",
   "metadata": {},
   "source": [
    "# Procesador de Sanciones IMSS Bienestar"
   ]
  },
  {
   "cell_type": "code",
   "execution_count": 1,
   "id": "7bdd59d1-33e2-40e6-9556-62e86a100522",
   "metadata": {
    "jupyter": {
     "source_hidden": true
    }
   },
   "outputs": [],
   "source": [
    "# Importa librerías, chromedriver y carpeta de trabajo\n",
    "import sys\n",
    "import os\n",
    "import glob\n",
    "import yaml\n",
    "import pandas as pd\n",
    "from datetime import datetime\n",
    "import shutil\n",
    "# Define the root and script directory\n",
    "folder_root = os.getcwd()  # Get current directory (whee Orquestación.ipynb is)\n",
    "script_folder = os.path.join(folder_root, \"Scripts\")  # Path to 'Scripts'\n",
    "# Ensure the script folder is added to sys.path\n",
    "if script_folder not in sys.path:\n",
    "    sys.path.append(script_folder)\n",
    "Libreria_sancionesIMSSB = os.path.join(script_folder, \"Libreria_SancionesIMSSB\")\n",
    "if Libreria_sancionesIMSSB not in sys.path:\n",
    "    sys.path.append(Libreria_sancionesIMSSB)\n",
    "Libreria_comunes = os.path.join(script_folder, \"Libreria_comunes\")\n",
    "if Libreria_comunes not in sys.path:\n",
    "    sys.path.append(Libreria_comunes)\n",
    "\n",
    "sanciones_folder = os.path.join(folder_root, \"Implementación\", \"Sanciones IMSSB\")\n",
    "from chrome_driver_load import load_chrome\n"
   ]
  },
  {
   "cell_type": "code",
   "execution_count": 2,
   "id": "5f6df3f2-d37d-4567-b036-fcba0f4213ab",
   "metadata": {
    "jupyter": {
     "source_hidden": true
    }
   },
   "outputs": [
    {
     "name": "stdout",
     "output_type": "stream",
     "text": [
      "📂 Folders sin _acuse.pdf_:\n",
      "\n",
      "CCPA-4994                          INSABI-UCNAF-CPP-DF-AS-5709-2023   \n",
      "DPS-AS-02563-2025                  INSABI-UCNAF-CPP-DF-AS-6036-2023   \n",
      "DPS-AS-02564-2025                  INSABI-UCNAF-CPP-DF-AS-7323-2023   \n",
      "INSABI-UCNAF-CPP-DF-AS-10190-2023  INSABI-UCNAF-CPP-DF-AS-7362-2023   \n",
      "INSABI-UCNAF-CPP-DF-AS-10192-2023  Oficio 00132                       \n",
      "INSABI-UCNAF-CPP-DF-AS-5704-2023   \n"
     ]
    },
    {
     "name": "stdin",
     "output_type": "stream",
     "text": [
      "Please input the folder to process:  DPS-AS-02563-2025\n"
     ]
    },
    {
     "name": "stdout",
     "output_type": "stream",
     "text": [
      "\n",
      "📂 Folder a procesar: DPS-AS-02563-2025\n"
     ]
    }
   ],
   "source": [
    "# Obtén folders sin acuse y define cuál vas a procesar\n",
    "from sanciones_IMSSB_processing import get_folders_pending, print_columns\n",
    "\n",
    "pending = get_folders_pending(sanciones_folder)\n",
    "print(\"📂 Folders sin _acuse.pdf_:\\n\")\n",
    "print_columns(pending, n_cols=2)\n",
    "# Solicita al usuario una carpeta válida de la lista `pending`\n",
    "while True:\n",
    "    processing_folder = input(\"Please input the folder to process: \")\n",
    "    if processing_folder in pending:\n",
    "        processing_folder = os.path.join(folder_root, \"Implementación\", \"Sanciones IMSSB\",f\"{processing_folder}\")\n",
    "        print(f\"\\n📂 Folder a procesar: {os.path.basename(processing_folder)}\")\n",
    "        \n",
    "        break\n",
    "    print(f\"'{processing_folder}' no está en la lista de pendientes, intenta de nuevo.\")\n"
   ]
  },
  {
   "cell_type": "markdown",
   "id": "c3165297-eb89-4571-ad46-551141945e3b",
   "metadata": {},
   "source": [
    "## Generación de relación, limpieza de nombres."
   ]
  },
  {
   "cell_type": "markdown",
   "id": "acdc4dd4-5901-42f2-818a-de4cfa507098",
   "metadata": {},
   "source": [
    "### Genera relación"
   ]
  },
  {
   "cell_type": "code",
   "execution_count": 4,
   "id": "265c368e-11c1-4fdf-9212-085c94d2df90",
   "metadata": {
    "jupyter": {
     "source_hidden": true
    },
    "scrolled": true
   },
   "outputs": [
    {
     "name": "stdout",
     "output_type": "stream",
     "text": [
      "\n",
      "*******************************\n",
      "Oficios con excel: ['CCPA-00695', 'CCPA-01726', 'CCPA-02199', 'CCPA-03424', 'CCPA-3647', 'CCPA-4994', 'CDS-1205', 'COA-00149', 'COA-00906', 'COA-01190', 'COA-01219', 'COA-02804', 'COA-03069', 'COA-03071', 'COA-03225', 'COA-03359-1', 'COA-03598', 'COA-03833', 'COA-04724', 'COA-05493', 'COA-05534', 'COA-06065', 'COA-08146', 'COA-08698', 'COA-08699', 'COA-09042', 'COA-09541', 'COA-10090', 'COA-10093', 'COA-10816', 'COA-10955', 'COA-11001', 'COA-11003', 'COA-11090', 'COA-11726', 'COA-2290', 'COA-7751', 'DPS-AS-02563-2025', 'DPS-AS-02564-2025', 'INSABI-UCNAF-CPP-DF-AS-10190-2023', 'INSABI-UCNAF-CPP-DF-AS-10192-2023', 'INSABI-UCNAF-CPP-DF-AS-5704-2023', 'INSABI-UCNAF-CPP-DF-AS-5709-2023', 'INSABI-UCNAF-CPP-DF-AS-6036-2023', 'INSABI-UCNAF-CPP-DF-AS-7323-2023', 'INSABI-UCNAF-CPP-DF-AS-7362-2023', 'Oficio 00132', 'Oficio 00476', 'Oficio 00797', 'Oficio 00798', 'Oficio 01265']\n",
      "Exceles válidos: ['CCPA-00695_relacion.xlsx', 'CCPA-01726_relacion.xlsx', 'CCPA-02199_relacion.xlsx', 'CCPA-03424_relacion.xlsx', 'CCPA-3647_relacion.xlsx', 'CCPA-4994_relacion.xlsx', 'CDS-1205_relacion.xlsx', 'COA-00149_relacion.xlsx', 'COA-00906_relacion.xlsx', 'COA-01190_relacion.xlsx', 'COA-01219_relacion.xlsx', 'COA-02804_relacion.xlsx', 'COA-03069_relacion.xlsx', 'COA-03071_relacion.xlsx', 'COA-03225_relacion.xlsx', 'COA-03359-1_relacion.xlsx', 'COA-03598_relacion.xlsx', 'COA-03833_relacion.xlsx', 'COA-04724_relacion.xlsx', 'COA-05493_relacion.xlsx', 'COA-05534_relacion.xlsx', 'COA-06065_relacion.xlsx', 'COA-08146_relacion.xlsx', 'COA-08698_relacion.xlsx', 'COA-08699_relacion.xlsx', 'COA-09042_relacion.xlsx', 'COA-09541_relacion.xlsx', 'COA-10090_relacion.xlsx', 'COA-10093_relacion.xlsx', 'COA-10816_relacion.xlsx', 'COA-10955_relacion.xlsx', 'COA-11001_relacion.xlsx', 'COA-11003_relacion.xlsx', 'COA-11090_relacion.xlsx', 'COA-11726_relacion.xlsx', 'COA-2290_relacion.xlsx', 'COA-7751_relacion.xlsx', 'DPS-AS-02563-2025_relacion.xlsx', 'DPS-AS-02564-2025_relacion.xlsx', 'INSABI-UCNAF-CPP-DF-AS-10190-2023_relacion.xlsx', 'INSABI-UCNAF-CPP-DF-AS-10192-2023_relacion.xlsx', 'INSABI-UCNAF-CPP-DF-AS-5704-2023_relacion.xlsx', 'INSABI-UCNAF-CPP-DF-AS-5709-2023_relacion.xlsx', 'INSABI-UCNAF-CPP-DF-AS-6036-2023_relacion.xlsx', 'INSABI-UCNAF-CPP-DF-AS-7323-2023_relacion.xlsx', 'INSABI-UCNAF-CPP-DF-AS-7362-2023_relacion.xlsx', 'Oficio 00132_relacion.xlsx', 'Oficio 00476_relacion.xlsx', 'Oficio 00797_relacion.xlsx', 'Oficio 00798_relacion.xlsx', 'Oficio 01265_relacion.xlsx']\n",
      "\n",
      "Carpetas Sin oficio [] \n",
      "*******************************\n",
      "\n",
      "Exceles incompletos: []\n",
      "Carpetas sin relación en excel: []\n",
      "Ciudad de México, a 19 de Septiembre de 2024\n",
      "Ciudad de México, a 15 de Octubre de 2024\n",
      "Ciudad de México, a 15 de Octubre de 2024\n",
      "Ciudad de México, a 31 de Diciembre de 2024\n",
      "Ciudad de México, a 07 de Febrero de 2025Coordinación de Control Presupuestal del Abasto\n",
      "Ciudad de México, a 08 de Abril de 2025Coordinación de Control Presupuestal del Abasto\n",
      "Ciudad de México, a 14 de noviembre de 2023\n",
      "Ciudad de México, a 15 de Enero de 2024\n",
      "Ciudad de México, a 01 de Febrero de 2024\n",
      "Ciudad de México, a 13 de Febrero de 2024\n",
      "Ciudad de México, a 13 de Febrero de 2024\n",
      "Ciudad de México, a 03 de Abril de 2024\n",
      "Ciudad de México, a 9 de Abril de 2024\n",
      "Ciudad de México, a 9 de Abril de 2024\n",
      "Ciudad de México a 10/05/2024  \n",
      "Ciudad de México, a 19 de Abril de 2024\n",
      "Ciudad de México, a 25 de Abril de 2024\n",
      "Ciudad de México a 10/05/2024  \n",
      "Ciudad de México, a 23 de Mayo de 2024\n",
      "Ciudad de México, a 12 de Junio de 2024\n",
      "Ciudad de México, a 12 de Junio de 2024\n",
      "Ciudad de México a 26/06/2024  \n",
      "Ciudad de México, a 05 de Agosto de 2024\n",
      "Ciudad de México, a 09 de Agosto de 2024\n",
      "Ciudad de México, a 09 de Agosto de 2024\n",
      "Ciudad de México, a 12 de Agosto de 2024\n",
      "Ciudad de México, a 15 de Agosto de 2024\n",
      "Ciudad de México, a 15 de Agosto de 2024\n",
      "Ciudad de México, a 15 de Agosto de 2024\n",
      "Ciudad de México, a 15 de Agosto de 2024\n",
      "Ciudad de México, a 15 de Agosto de 2024\n",
      "Ciudad de México, a 15 de Agosto de 2024\n",
      "Ciudad de México, a 15 de Agosto de 2024\n",
      "Ciudad de México, a 15 de Agosto de 2024\n",
      "Ciudad de México, a 15 de Agosto de 2024\n",
      "Ciudad de México a 10 /05/2024  \n",
      "Ciudad de México a 12/08/2024  \n",
      "Ciudad de México, a 4 de Noviembre de 2023\n",
      "Ciudad de México, a 4 de Noviembre de 2023\n",
      "Ciudad de México, a 2 de Agosto de 2023\n",
      "Ciudad de México, a 2 de Agosto de 2023\n",
      "Ciudad de México, a 9 de Agosto de 2023\n",
      "Ciudad de México, a 7 de Septiembre de 2023\n",
      "Ciudad de México, a 7 de Septiembre de 2023\n"
     ]
    }
   ],
   "source": [
    "# Genera resumen, confirma que _relacion tiene columnas necesarias, extrae fechas\n",
    "from sanciones_IMSSB_folders_completos import folders_completos\n",
    "folders_completos(sanciones_folder)"
   ]
  },
  {
   "cell_type": "markdown",
   "id": "7e90b744-00f7-450a-8aa4-8e8db51671fb",
   "metadata": {},
   "source": [
    "### Limpieza de nombres"
   ]
  },
  {
   "cell_type": "code",
   "execution_count": 5,
   "id": "21037038-64d0-4c77-bd75-42ed4c0ac073",
   "metadata": {},
   "outputs": [],
   "source": [
    "# Limpia los nombres de las NC\n",
    "from Sanciones_IMSSB_clean import clean_names\n",
    "clean_names(processing_folder)"
   ]
  },
  {
   "cell_type": "markdown",
   "id": "41934cfb-12a0-446a-8355-9d01450a0d6f",
   "metadata": {},
   "source": [
    "## Procesamiento de XML's y generación de wordpads"
   ]
  },
  {
   "cell_type": "code",
   "execution_count": null,
   "id": "d3745d66-f2c0-45a7-9cf8-6d4b216106c9",
   "metadata": {
    "jupyter": {
     "source_hidden": true
    }
   },
   "outputs": [],
   "source": [
    "# Aplica estructura a los XML y cambia a PUE\n",
    "from sanciones_IMSSB_XMLS import pretty_xml_files, XML_PUE\n",
    "pretty_xml_files(processing_folder)\n",
    "XML_PUE(processing_folder)"
   ]
  },
  {
   "cell_type": "code",
   "execution_count": null,
   "id": "f19ecd27-e208-41d0-bbc9-4d30ce8eb5c2",
   "metadata": {
    "jupyter": {
     "source_hidden": true
    },
    "scrolled": true
   },
   "outputs": [],
   "source": [
    "# Transforma los XML's a wordpads\n",
    "from Sanciones_IMSSB_XMLwordpad import xml_to_wordpad\n",
    "xml_to_wordpad(processing_folder)"
   ]
  },
  {
   "cell_type": "markdown",
   "id": "0a3798a6-d2e4-48e4-bd0f-e2b07d3f7cff",
   "metadata": {},
   "source": [
    "## Procesamiento y generación de PDF's"
   ]
  },
  {
   "cell_type": "code",
   "execution_count": null,
   "id": "2afdd2ee-b656-44c6-ba9f-41631abe1851",
   "metadata": {
    "jupyter": {
     "source_hidden": true
    },
    "scrolled": true
   },
   "outputs": [],
   "source": [
    "# Cambia manualmente los PDF's a PUE\n",
    "from sanciones_IMSSB_PDFsaPUESelectivo import PDFsaPUE\n",
    "string_to_change= \"PUE - Pago en una sola exhibición\"\n",
    "PDFsaPUE(processing_folder, string_to_change)"
   ]
  },
  {
   "cell_type": "code",
   "execution_count": null,
   "id": "2fc0ac1f-ae13-4568-8c32-3d48f0a4fe72",
   "metadata": {
    "jupyter": {
     "source_hidden": true
    }
   },
   "outputs": [],
   "source": [
    "# Descarga los _SAT de los QRS\n",
    "from sanciones_IMSSB_processing_QRS_Total import descargaQRSs\n",
    "chrome_driver = load_chrome(processing_folder)\n",
    "descargaQRSs(processing_folder, chrome_driver)"
   ]
  },
  {
   "cell_type": "markdown",
   "id": "f656cc91-d58c-4c7e-92e0-eb541c360d0f",
   "metadata": {},
   "source": [
    "## Auditoría previa a la generación de entregables"
   ]
  },
  {
   "cell_type": "code",
   "execution_count": null,
   "id": "835ec8e1-e0c4-4b79-b063-2032fe56a9c9",
   "metadata": {
    "jupyter": {
     "source_hidden": true
    }
   },
   "outputs": [],
   "source": [
    "# Generación de auditoría\n",
    "from Sanciones_IMSSB_extraeauditoriaUUIDNC import auditarentregables\n",
    "auditarentregables(processing_folder)"
   ]
  },
  {
   "cell_type": "markdown",
   "id": "d6c0b8ac-296d-4c98-ad52-bfd369e77eb9",
   "metadata": {},
   "source": [
    "## Generación de entregables"
   ]
  },
  {
   "cell_type": "code",
   "execution_count": null,
   "id": "707b1427-af9e-4330-ae68-3adce2d00cb2",
   "metadata": {
    "jupyter": {
     "source_hidden": true
    }
   },
   "outputs": [],
   "source": [
    "# Generar excel INSABI\n",
    "from sanciones_IMSSB_Generar_FormatoINSABI import GenerarFormatoINSABI\n",
    "json_path = os.path.join(folder_root, \"Implementación\", \"key.json\")\n",
    "template_file = os.path.join(folder_root, \"Implementación\", \"Templates\", \"TemplateIMSSB.xlsx\")\n",
    "GenerarFormatoINSABI(processing_folder, json_path, template_file)"
   ]
  },
  {
   "cell_type": "code",
   "execution_count": null,
   "id": "de342012-8580-4ebd-a6be-c8e9d4428d8f",
   "metadata": {
    "jupyter": {
     "source_hidden": true
    }
   },
   "outputs": [],
   "source": [
    "# Generar ZIP\n",
    "from sanciones_IMSSB_genera_zip import genera_zip\n",
    "genera_zip(processing_folder)"
   ]
  },
  {
   "cell_type": "code",
   "execution_count": null,
   "id": "ff8971c8-a73b-48e1-b7c7-069f9ea45549",
   "metadata": {
    "jupyter": {
     "source_hidden": true
    }
   },
   "outputs": [],
   "source": [
    "# Generar archivo para imprimir\n",
    "from sanciones_IMSSB_PDFprint import PDF_para_imprimir\n",
    "PDF_para_imprimir(processing_folder)"
   ]
  },
  {
   "cell_type": "code",
   "execution_count": null,
   "id": "472f72eb-231e-48a2-bd97-2faef603ed6a",
   "metadata": {
    "jupyter": {
     "source_hidden": true
    }
   },
   "outputs": [],
   "source": []
  }
 ],
 "metadata": {
  "kernelspec": {
   "display_name": "Eseotres",
   "language": "python",
   "name": "venv"
  },
  "language_info": {
   "codemirror_mode": {
    "name": "ipython",
    "version": 3
   },
   "file_extension": ".py",
   "mimetype": "text/x-python",
   "name": "python",
   "nbconvert_exporter": "python",
   "pygments_lexer": "ipython3",
   "version": "3.13.3"
  }
 },
 "nbformat": 4,
 "nbformat_minor": 5
}
