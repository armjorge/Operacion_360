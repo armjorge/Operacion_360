{
 "cells": [
  {
   "cell_type": "markdown",
   "id": "0",
   "metadata": {},
   "source": [
    "# Procesador de Sanciones IMSS Bienestar"
   ]
  },
  {
   "cell_type": "code",
   "execution_count": null,
   "id": "1",
   "metadata": {
    "jupyter": {
     "source_hidden": true
    }
   },
   "outputs": [],
   "source": [
    "# Importa librerías, chromedriver y carpeta de trabajo\n",
    "import sys\n",
    "import os\n",
    "import glob\n",
    "import yaml\n",
    "import pandas as pd\n",
    "from datetime import datetime\n",
    "import shutil\n",
    "# Define the root and script directory\n",
    "folder_root = os.getcwd()  # Get current directory (whee Orquestación.ipynb is)\n",
    "script_folder = os.path.join(folder_root, \"Scripts\")  # Path to 'Scripts'\n",
    "# Ensure the script folder is added to sys.path\n",
    "if script_folder not in sys.path:\n",
    "    sys.path.append(script_folder)\n",
    "Libreria_sancionesIMSSB = os.path.join(script_folder, \"Libreria_SancionesIMSSB\")\n",
    "if Libreria_sancionesIMSSB not in sys.path:\n",
    "    sys.path.append(Libreria_sancionesIMSSB)\n",
    "Libreria_comunes = os.path.join(script_folder, \"Libreria_comunes\")\n",
    "if Libreria_comunes not in sys.path:\n",
    "    sys.path.append(Libreria_comunes)\n",
    "\n",
    "sanciones_folder = os.path.join(folder_root, \"Implementación\", \"Sanciones IMSSB\")\n",
    "from chrome_driver_load import load_chrome\n"
   ]
  },
  {
   "cell_type": "code",
   "execution_count": null,
   "id": "2",
   "metadata": {
    "jupyter": {
     "source_hidden": true
    }
   },
   "outputs": [],
   "source": [
    "# Obtén folders sin acuse y define cuál vas a procesar\n",
    "from sanciones_IMSSB_processing import get_folders_pending, print_columns\n",
    "\n",
    "pending = get_folders_pending(sanciones_folder)\n",
    "print(\"📂 Folders sin _acuse.pdf_:\\n\")\n",
    "print_columns(pending, n_cols=2)\n",
    "# Solicita al usuario una carpeta válida de la lista `pending`\n",
    "while True:\n",
    "    processing_folder = input(\"Please input the folder to process: \")\n",
    "    if processing_folder in pending:\n",
    "        processing_folder = os.path.join(folder_root, \"Implementación\", \"Sanciones IMSSB\",f\"{processing_folder}\")\n",
    "        print(f\"\\n📂 Folder a procesar: {os.path.basename(processing_folder)}\")\n",
    "        \n",
    "        break\n",
    "    print(f\"'{processing_folder}' no está en la lista de pendientes, intenta de nuevo.\")\n"
   ]
  },
  {
   "cell_type": "markdown",
   "id": "3",
   "metadata": {},
   "source": [
    "## Generación de relación, limpieza de nombres."
   ]
  },
  {
   "cell_type": "markdown",
   "id": "4",
   "metadata": {},
   "source": [
    "### Genera relación"
   ]
  },
  {
   "cell_type": "code",
   "execution_count": null,
   "id": "5",
   "metadata": {
    "jupyter": {
     "source_hidden": true
    }
   },
   "outputs": [],
   "source": [
    "# Genera resumen, confirma que _relacion tiene columnas necesarias, extrae fechas\n",
    "from sanciones_IMSSB_folders_completos import folders_completos\n",
    "folders_completos(sanciones_folder)"
   ]
  },
  {
   "cell_type": "markdown",
   "id": "6",
   "metadata": {},
   "source": [
    "### Limpieza de nombres"
   ]
  },
  {
   "cell_type": "code",
   "execution_count": null,
   "id": "7",
   "metadata": {
    "jupyter": {
     "source_hidden": true
    }
   },
   "outputs": [],
   "source": [
    "# Limpia los nombres de las NC\n",
    "from Sanciones_IMSSB_clean import clean_names\n",
    "clean_names(processing_folder)"
   ]
  },
  {
   "cell_type": "markdown",
   "id": "8",
   "metadata": {},
   "source": [
    "## Procesamiento de XML's y generación de wordpads"
   ]
  },
  {
   "cell_type": "code",
   "execution_count": null,
   "id": "9",
   "metadata": {
    "jupyter": {
     "source_hidden": true
    }
   },
   "outputs": [],
   "source": [
    "# Aplica estructura a los XML y cambia a PUE\n",
    "from sanciones_IMSSB_XMLS import pretty_xml_files, XML_PUE\n",
    "pretty_xml_files(processing_folder)\n",
    "XML_PUE(processing_folder)"
   ]
  },
  {
   "cell_type": "code",
   "execution_count": null,
   "id": "10",
   "metadata": {
    "jupyter": {
     "source_hidden": true
    }
   },
   "outputs": [],
   "source": [
    "# Transforma los XML's a wordpads\n",
    "from Sanciones_IMSSB_XMLwordpad import xml_to_wordpad\n",
    "xml_to_wordpad(processing_folder)"
   ]
  },
  {
   "cell_type": "markdown",
   "id": "11",
   "metadata": {},
   "source": [
    "## Procesamiento y generación de PDF's"
   ]
  },
  {
   "cell_type": "code",
   "execution_count": null,
   "id": "12",
   "metadata": {
    "jupyter": {
     "source_hidden": true
    }
   },
   "outputs": [],
   "source": [
    "## Cambia manualmente los PDF's a PUE\n",
    "from sanciones_IMSSB_PDFsaPUESelectivo import PDFsaPUE\n",
    "string_to_change = \"PUE - Pago en una sola exhibición\"\n",
    "PDFsaPUE(processing_folder, string_to_change)"
   ]
  },
  {
   "cell_type": "code",
   "execution_count": null,
   "id": "13",
   "metadata": {
    "jupyter": {
     "source_hidden": true
    }
   },
   "outputs": [],
   "source": [
    "## Descarga los _SAT de los QRS\n",
    "from sanciones_IMSSB_processing_QRS_Total import descargaQRSs\n",
    "chrome_driver = load_chrome(processing_folder)\n",
    "descargaQRSs(processing_folder, chrome_driver)"
   ]
  },
  {
   "cell_type": "markdown",
   "id": "14",
   "metadata": {},
   "source": [
    "## Auditoría previa a la generación de entregables"
   ]
  },
  {
   "cell_type": "code",
   "execution_count": null,
   "id": "15",
   "metadata": {
    "jupyter": {
     "source_hidden": true
    }
   },
   "outputs": [],
   "source": [
    "# Generación de auditoría\n",
    "from Sanciones_IMSSB_extraeauditoriaUUIDNC import auditarentregables\n",
    "auditarentregables(processing_folder)"
   ]
  },
  {
   "cell_type": "markdown",
   "id": "16",
   "metadata": {},
   "source": [
    "## Generación de entregables"
   ]
  },
  {
   "cell_type": "code",
   "execution_count": null,
   "id": "17",
   "metadata": {
    "jupyter": {
     "source_hidden": true
    }
   },
   "outputs": [],
   "source": [
    "# Generar excel INSABI\n",
    "from sanciones_IMSSB_Generar_FormatoINSABI import GenerarFormatoINSABI\n",
    "json_path = os.path.join(folder_root, \"Implementación\", \"key.json\")\n",
    "template_file = os.path.join(folder_root, \"Implementación\", \"Templates\", \"TemplateIMSSB.xlsx\")\n",
    "GenerarFormatoINSABI(processing_folder, json_path, template_file)"
   ]
  },
  {
   "cell_type": "code",
   "execution_count": null,
   "id": "18",
   "metadata": {
    "jupyter": {
     "source_hidden": true
    }
   },
   "outputs": [],
   "source": [
    "# Generar ZIP\n",
    "from sanciones_IMSSB_genera_zip import genera_zip\n",
    "genera_zip(processing_folder)"
   ]
  },
  {
   "cell_type": "code",
   "execution_count": null,
   "id": "19",
   "metadata": {
    "jupyter": {
     "source_hidden": true
    }
   },
   "outputs": [],
   "source": [
    "# Generar archivo para imprimir\n",
    "from sanciones_IMSSB_PDFprint import PDF_para_imprimir\n",
    "PDF_para_imprimir(processing_folder)"
   ]
  },
  {
   "cell_type": "code",
   "execution_count": null,
   "id": "20",
   "metadata": {},
   "outputs": [],
   "source": []
  }
 ],
 "metadata": {
  "kernelspec": {
   "display_name": "Eseotres",
   "language": "python",
   "name": "venv"
  },
  "language_info": {
   "codemirror_mode": {
    "name": "ipython",
    "version": 3
   },
   "file_extension": ".py",
   "mimetype": "text/x-python",
   "name": "python",
   "nbconvert_exporter": "python",
   "pygments_lexer": "ipython3",
   "version": "3.13.5"
  }
 },
 "nbformat": 4,
 "nbformat_minor": 5
}
