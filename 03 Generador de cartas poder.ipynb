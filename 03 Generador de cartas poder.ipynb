{
 "cells": [
  {
   "cell_type": "code",
   "execution_count": null,
   "id": "0",
   "metadata": {
    "jupyter": {
     "source_hidden": true
    }
   },
   "outputs": [],
   "source": [
    "# Importa librerías y chromedriver\n",
    "import sys\n",
    "import os\n",
    "import glob\n",
    "import yaml\n",
    "import pandas as pd\n",
    "from datetime import datetime\n",
    "import shutil\n",
    "# Define the root and script directory\n",
    "folder_root = os.getcwd()  # Get current directory (where Orquestación.ipynb is)\n",
    "script_folder = os.path.join(folder_root, \"Scripts\")  # Path to 'Scripts'\n",
    "# Ensure the script folder is added to sys.path\n",
    "if script_folder not in sys.path:\n",
    "    sys.path.append(script_folder)\n",
    "Libreria_cartas_poder = os.path.join(script_folder, \"Libreria_cartas_poder\")\n",
    "if Libreria_cartas_poder not in sys.path:\n",
    "    sys.path.append(Libreria_cartas_poder)\n",
    "Libreria_comunes = os.path.join(script_folder, \"Libreria_comunes\")\n"
   ]
  },
  {
   "cell_type": "code",
   "execution_count": null,
   "id": "1",
   "metadata": {
    "jupyter": {
     "source_hidden": true
    }
   },
   "outputs": [],
   "source": [
    "# Load the data from the Excel file\n",
    "df_clientes = pd.read_excel('./Bases/db_clientes_personas_testigos.xlsx', sheet_name='Clientes')\n",
    "df_reciben_poder = pd.read_excel('./Bases/db_clientes_personas_testigos.xlsx', sheet_name='Equipo')\n",
    "df_testigos = pd.read_excel('./Bases/db_clientes_personas_testigos.xlsx', sheet_name='Testigos')\n",
    "today = datetime.today().strftime(\"%d/%m/%Y\")\n",
    "word_sin_testigos = './Cartas poder/plantilla_sintestigos.docx'\n",
    "word_con_testigos = './Cartas poder/plantilla_contestigos.docx'"
   ]
  },
  {
   "cell_type": "code",
   "execution_count": null,
   "id": "2",
   "metadata": {
    "jupyter": {
     "source_hidden": true
    }
   },
   "outputs": [],
   "source": [
    "from Libreria_cartas_poder import Libreria_cartas_poder\n",
    "deploy_folder = os.path.join(folder_root, \"Implementación\")\n",
    "source_folder = os.path.join(deploy_folder, \"Implementación\", \"Cartas Poder\", \"Source\")\n",
    "\n",
    "print(\"1. Letter without witnesses\")\n",
    "print(\"2. Letter with witnesses\")\n",
    "choice = input(\"What kind of letter? \")\n",
    "\n",
    "if choice == \"1\":\n",
    "    letter_simple()\n",
    "elif choice == \"2\":\n",
    "    print(\"Letter with witnesses functionality is not implemented yet. XD XD\")\n",
    "    "
   ]
  }
 ],
 "metadata": {
  "kernelspec": {
   "display_name": "Eseotres",
   "language": "python",
   "name": "venv"
  },
  "language_info": {
   "codemirror_mode": {
    "name": "ipython",
    "version": 3
   },
   "file_extension": ".py",
   "mimetype": "text/x-python",
   "name": "python",
   "nbconvert_exporter": "python",
   "pygments_lexer": "ipython3",
   "version": "3.13.5"
  }
 },
 "nbformat": 4,
 "nbformat_minor": 5
}
