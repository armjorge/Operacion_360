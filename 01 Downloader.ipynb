{
 "cells": [
  {
   "cell_type": "markdown",
   "id": "02977ba0-07cb-4b2b-af33-fb73b4687ccf",
   "metadata": {},
   "source": [
    "# Orquestador de ventas 360: resumen\n",
    "Diseño esto para, partiendo de la demanda desagregada: \n",
    "- Capturar contratos\n",
    "- Descargar xlsx de sistemas SAI, CAMUNDA, SAGI, ZOHO y PISP. \n",
    "- Consultar exceles internos\n",
    "- Organizar las órdenes descargadas\n",
    "- Generar los pickle de las órdenes\n",
    "Todo lo anterior es la información mínima indispensable para poder generar información de ventas, que será la referencia interna sobre la que desplegaremos el alimentado de reportes y la generación de reglas para dar retro al usuario."
   ]
  },
  {
   "cell_type": "code",
   "execution_count": 1,
   "id": "4fd5fb35-7fd7-4d94-a322-8d3357926be9",
   "metadata": {},
   "outputs": [],
   "source": [
    "# Importa librerías y chromedriver\n",
    "import sys\n",
    "import os\n",
    "import glob\n",
    "import yaml\n",
    "import pandas as pd\n",
    "from datetime import datetime\n",
    "# Define the root and script directory\n",
    "folder_root = os.getcwd()  # Get current directory (where Orquestación.ipynb is)\n",
    "script_folder = os.path.join(folder_root, \"Scripts\")  # Path to 'Scripts'\n",
    "# Ensure the script folder is added to sys.path\n",
    "if script_folder not in sys.path:\n",
    "    sys.path.append(script_folder)\n",
    "Libreria_SAI = os.path.join(script_folder, \"Libreria_SAI\")\n",
    "if Libreria_SAI not in sys.path:\n",
    "    sys.path.append(Libreria_SAI)\n",
    "Libreria_comunes = os.path.join(script_folder, \"Libreria_comunes\")\n",
    "if Libreria_comunes not in sys.path:\n",
    "    sys.path.append(Libreria_comunes)\n",
    "Libreria_camunda = os.path.join(script_folder, \"Libreria_camunda\")\n",
    "if Libreria_camunda not in sys.path:\n",
    "    sys.path.append(Libreria_camunda)\n",
    "Libreria_SAGI = os.path.join(script_folder, \"Libreria_SAGI\")\n",
    "if Libreria_SAGI not in sys.path:\n",
    "    sys.path.append(Libreria_SAGI)\n",
    "\n",
    "Libreria_PREI = os.path.join(script_folder, \"Libreria_PREI\")\n",
    "if Libreria_PREI not in sys.path:\n",
    "    sys.path.append(Libreria_PREI)\n",
    "from chrome_driver_load import load_chrome\n"
   ]
  },
  {
   "cell_type": "markdown",
   "id": "7d2e99ce-57f8-4a4d-98d0-3b571d13a87c",
   "metadata": {},
   "source": [
    "## SAI\n",
    "Esta consola de jupyter lab es se va a encargar de: \n",
    "- Descargar xlsx de sistemas SAI"
   ]
  },
  {
   "cell_type": "code",
   "execution_count": null,
   "id": "c5676773-3299-44b3-b68b-ca9ec1ff7ec8",
   "metadata": {
    "jupyter": {
     "source_hidden": true
    }
   },
   "outputs": [],
   "source": [
    "# Descargar SAI\n",
    "from SAI_download import SAI_download\n",
    "# Define your download directory\n",
    "download_directory = os.path.join(folder_root,'Implementación', 'Descarga de bases')\n",
    "#print(download_directory)\n",
    "driver = load_chrome(download_directory)\n",
    "if driver:\n",
    "    # Execute the SAI download process\n",
    "    SAI_download(driver, \"EPH -161215-NS9\",\"Epharma2021\" )\n",
    "    # Optionally, close the driver when done\n",
    "    driver.quit()"
   ]
  },
  {
   "cell_type": "markdown",
   "id": "3b57783b-8431-4758-93c5-de1136276580",
   "metadata": {},
   "source": [
    "## Camunda - Órdenes"
   ]
  },
  {
   "cell_type": "code",
   "execution_count": null,
   "id": "4fc16f2b-17eb-4492-a09a-d900a93ae527",
   "metadata": {
    "jupyter": {
     "source_hidden": true
    }
   },
   "outputs": [],
   "source": [
    "from CAMUNDA_login import SAI_camunda\n",
    "\n",
    "download_directory = os.path.join(folder_root,'Implementación', 'Descarga de bases')\n",
    "\n",
    "# Initialize the Chrome driver with your custom settings\n",
    "driver = load_chrome(download_directory)\n",
    "\n",
    "if driver:\n",
    "    # Execute the Camunda login and initial automation\n",
    "    SAI_camunda(driver, \"ArmandoJimenez\", \"N29f6Mwif\")\n",
    "    driver.quit()"
   ]
  },
  {
   "cell_type": "markdown",
   "id": "8cc56e5a-9ed7-4f57-8c24-904a59b6dc34",
   "metadata": {},
   "source": [
    "## Camunda - Remisiones"
   ]
  },
  {
   "cell_type": "code",
   "execution_count": null,
   "id": "06065f02-d525-4374-b3f0-6a926e84ac41",
   "metadata": {},
   "outputs": [],
   "source": [
    "## Aquí debemos pasar el CSV maestro de la extracción, si no existe skip function entera. \n",
    "## La dirección del output\n",
    "## El webdriver es el mismo"
   ]
  },
  {
   "cell_type": "markdown",
   "id": "fe54e74b-5e80-484b-915a-fe672608b7d2",
   "metadata": {},
   "source": [
    "## SAGI\n"
   ]
  },
  {
   "cell_type": "code",
   "execution_count": null,
   "id": "c8547426-f593-4955-a6bc-a58d9bd5b0b0",
   "metadata": {
    "jupyter": {
     "source_hidden": true
    }
   },
   "outputs": [],
   "source": [
    "from SAGI_download import SAGI_download\n",
    "# Initialize Chrome with your custom settings\n",
    "download_directory = os.path.join(folder_root,'Implementación', 'Descarga de bases')\n",
    "driver = load_chrome(download_directory)\n",
    "if driver:\n",
    "    # Call the function with your login credentials (username and password)\n",
    "    SAGI_download(driver, \"EPH161215NS9\", \"Pharmas21\", download_directory)\n",
    "    driver.quit()"
   ]
  },
  {
   "cell_type": "code",
   "execution_count": null,
   "id": "081d6828-1baa-41c6-90f3-3ef3c8eaa094",
   "metadata": {
    "jupyter": {
     "source_hidden": true
    },
    "scrolled": true
   },
   "outputs": [],
   "source": [
    "from SAGI_Join_2023_2024 import join_SAGI_files, worksheet_to_df\n",
    "\n",
    "json_key = os.path.join(folder_root, 'Implementación', 'Key.json')\n",
    "file2023_2024 = os.path.join(folder_root, 'Implementación', 'Descarga de bases', \"03 07 2023-2024.xlsx\")\n",
    "file_2024 = os.path.join(folder_root, 'Implementación', 'Descarga de bases', \"03 07 2024.xlsx\")\n",
    "output_joined_file = os.path.join(folder_root, 'Implementación', \"03 07 2024 ESTATUS_SAGI.xlsx\")\n",
    "\n",
    "join_SAGI_files(json_key, file2023_2024, file_2024, output_joined_file)"
   ]
  },
  {
   "cell_type": "markdown",
   "id": "2c4479f1-e9b1-42b2-85cf-44ec5a6db342",
   "metadata": {},
   "source": [
    "## PISP (PREI)\n"
   ]
  },
  {
   "cell_type": "code",
   "execution_count": 2,
   "id": "e64afae5-66b2-44ef-a343-a216eb76a795",
   "metadata": {},
   "outputs": [
    {
     "name": "stdin",
     "output_type": "stream",
     "text": [
      " 2024\n",
      "Enter a year (2023, 2024, 2025):  2024\n"
     ]
    },
    {
     "name": "stdout",
     "output_type": "stream",
     "text": [
      "The file 2024_dates.xlsx exists.\n",
      "The file 2024 Temporal exists.\n",
      "The file 2024 Final exists.\n"
     ]
    }
   ],
   "source": [
    "# Carga librerías y define el año a descargar.\n",
    "from PREI_downloader import PREI_downloader\n",
    "\n",
    "user = '0000150462'\n",
    "password = 'EPH161215NS9'\n",
    "\n",
    "year = input() \n",
    "dates = os.path.join(folder_root,'Implementación', 'PREI', f\"{year}_dates.xlsx\")\n",
    "temp_folder = os.path.join(folder_root,'Implementación', 'PREI', '{year} Temporal')\n",
    "\n",
    "# Allowed years\n",
    "valid_years = {\"2023\", \"2024\", \"2025\"}\n",
    "\n",
    "# Loop until a valid year is entered\n",
    "while True:\n",
    "    year = input(\"Enter a year (2023, 2024, 2025): \").strip()\n",
    "    if year in valid_years:\n",
    "        break\n",
    "    else:\n",
    "        print(\"Invalid year. Please try again.\")\n",
    "\n",
    "# Create paths using f-strings to substitute the year\n",
    "dates = os.path.join(folder_root, 'Implementación', 'PREI', f\"{year}_dates.xlsx\")\n",
    "temp_folder = os.path.join(folder_root, 'Implementación', 'PREI', f\"{year} Temporal\")\n",
    "final_folder = os.path.join(folder_root, 'Implementación', 'PREI', f\"{year} Final\")\n",
    "# Check if the Excel file exists\n",
    "def check_if_exists(element):\n",
    "    if os.path.exists(element):\n",
    "        print(f\"The file {os.path.basename(element)} exists.\")\n",
    "    else:\n",
    "        print(f\"The file {os.path.basename(element)} does not exist.\")\n",
    "check_if_exists(dates)\n",
    "check_if_exists(temp_folder)\n",
    "check_if_exists(final_folder)\n"
   ]
  },
  {
   "cell_type": "code",
   "execution_count": 3,
   "id": "1f5b1b69-d04a-469b-9df5-eb1e609a7720",
   "metadata": {
    "jupyter": {
     "source_hidden": true
    },
    "scrolled": true
   },
   "outputs": [
    {
     "name": "stdout",
     "output_type": "stream",
     "text": [
      "Processing row 1: Date START = 16/08/2024, Date END = 31/08/2024\n",
      "Calling input_date for fecha_inicial...\n",
      "Date passed: 16/08/2024\n",
      "Field cleared successfully on attempt 1\n",
      "Attempting to input date: 16/08/2024\n",
      "fecha_inicial set successfully.\n",
      "Calling input_date for fecha_final...\n",
      "Date passed: 31/08/2024\n",
      "Field cleared successfully on attempt 1\n",
      "Attempting to input date: 31/08/2024\n",
      "fecha_final set successfully.\n",
      "Clicking 'buscar' button...\n",
      "Dates 16/08/2024 to 31/08/2024 were processed\n",
      "Moving to the next set.\n",
      "Processing row 2: Date START = 01/09/2024, Date END = 15/09/2024\n",
      "Calling input_date for fecha_inicial...\n",
      "Date passed: 01/09/2024\n",
      "Field cleared successfully on attempt 1\n",
      "Attempting to input date: 01/09/2024\n",
      "fecha_inicial set successfully.\n",
      "Calling input_date for fecha_final...\n",
      "Date passed: 15/09/2024\n",
      "Field cleared successfully on attempt 1\n",
      "Attempting to input date: 15/09/2024\n",
      "fecha_final set successfully.\n",
      "Clicking 'buscar' button...\n",
      "Dates 01/09/2024 to 15/09/2024 were processed\n",
      "Moving to the next set.\n",
      "Processing row 3: Date START = 16/09/2024, Date END = 30/09/2024\n",
      "Calling input_date for fecha_inicial...\n",
      "Date passed: 16/09/2024\n",
      "Field cleared successfully on attempt 1\n",
      "Attempting to input date: 16/09/2024\n",
      "fecha_inicial set successfully.\n",
      "Calling input_date for fecha_final...\n",
      "Date passed: 30/09/2024\n",
      "Field cleared successfully on attempt 1\n",
      "Attempting to input date: 30/09/2024\n",
      "fecha_final set successfully.\n",
      "Clicking 'buscar' button...\n",
      "Dates 16/09/2024 to 30/09/2024 were processed\n",
      "Moving to the next set.\n",
      "Processing row 4: Date START = 01/10/2024, Date END = 31/10/2024\n",
      "Calling input_date for fecha_inicial...\n",
      "Date passed: 01/10/2024\n",
      "Field cleared successfully on attempt 1\n",
      "Attempting to input date: 01/10/2024\n",
      "fecha_inicial set successfully.\n",
      "Calling input_date for fecha_final...\n",
      "Date passed: 31/10/2024\n",
      "Field cleared successfully on attempt 1\n",
      "Attempting to input date: 31/10/2024\n",
      "fecha_final set successfully.\n",
      "Clicking 'buscar' button...\n",
      "Dates 01/10/2024 to 31/10/2024 were processed\n",
      "Moving to the next set.\n",
      "Processing row 5: Date START = 01/11/2024, Date END = 20/11/2024\n",
      "Calling input_date for fecha_inicial...\n",
      "Date passed: 01/11/2024\n",
      "Field cleared successfully on attempt 1\n",
      "Attempting to input date: 01/11/2024\n",
      "fecha_inicial set successfully.\n",
      "Calling input_date for fecha_final...\n",
      "Date passed: 20/11/2024\n",
      "Field cleared successfully on attempt 1\n",
      "Attempting to input date: 20/11/2024\n",
      "fecha_final set successfully.\n",
      "Clicking 'buscar' button...\n",
      "Dates 01/11/2024 to 20/11/2024 were processed\n",
      "Moving to the next set.\n",
      "Processing row 6: Date START = 21/11/2024, Date END = 01/12/2024\n",
      "Calling input_date for fecha_inicial...\n",
      "Date passed: 21/11/2024\n",
      "Field cleared successfully on attempt 1\n",
      "Attempting to input date: 21/11/2024\n",
      "fecha_inicial set successfully.\n",
      "Calling input_date for fecha_final...\n",
      "Date passed: 01/12/2024\n",
      "Field cleared successfully on attempt 1\n",
      "Attempting to input date: 01/12/2024\n",
      "fecha_final set successfully.\n",
      "Clicking 'buscar' button...\n",
      "Dates 21/11/2024 to 01/12/2024 were processed\n",
      "Moving to the next set.\n",
      "Processing row 7: Date START = 02/12/2024, Date END = 10/12/2024\n",
      "Calling input_date for fecha_inicial...\n",
      "Date passed: 02/12/2024\n",
      "Field cleared successfully on attempt 1\n",
      "Attempting to input date: 02/12/2024\n",
      "fecha_inicial set successfully.\n",
      "Calling input_date for fecha_final...\n",
      "Date passed: 10/12/2024\n",
      "Field cleared successfully on attempt 1\n",
      "Attempting to input date: 10/12/2024\n",
      "fecha_final set successfully.\n",
      "Clicking 'buscar' button...\n",
      "Dates 02/12/2024 to 10/12/2024 were processed\n",
      "Moving to the next set.\n",
      "Processing row 8: Date START = 11/12/2024, Date END = 15/12/2024\n",
      "Calling input_date for fecha_inicial...\n",
      "Date passed: 11/12/2024\n",
      "Field cleared successfully on attempt 1\n",
      "Attempting to input date: 11/12/2024\n",
      "fecha_inicial set successfully.\n",
      "Calling input_date for fecha_final...\n",
      "Date passed: 15/12/2024\n",
      "Field cleared successfully on attempt 1\n",
      "Attempting to input date: 15/12/2024\n",
      "fecha_final set successfully.\n",
      "Clicking 'buscar' button...\n",
      "Dates 11/12/2024 to 15/12/2024 were processed\n",
      "Moving to the next set.\n",
      "Processing row 9: Date START = 16/12/2024, Date END = 31/12/2024\n",
      "Calling input_date for fecha_inicial...\n",
      "Date passed: 16/12/2024\n",
      "Field cleared successfully on attempt 1\n",
      "Attempting to input date: 16/12/2024\n",
      "fecha_inicial set successfully.\n",
      "Calling input_date for fecha_final...\n",
      "Date passed: 31/12/2024\n",
      "Field cleared successfully on attempt 1\n",
      "Attempting to input date: 31/12/2024\n",
      "fecha_final set successfully.\n",
      "Clicking 'buscar' button...\n",
      "Dates 16/12/2024 to 31/12/2024 were processed\n",
      "Moving to the next set.\n",
      "All files are present.\n"
     ]
    }
   ],
   "source": [
    "#Descargar XLS del PREI\n",
    "driver = load_chrome(temp_folder)\n",
    "if driver:\n",
    "    # Call the function with your login credentialstemp_folder(username and password)\n",
    "    PREI_downloader(driver, user, password, temp_folder, dates)\n",
    "    driver.quit()"
   ]
  },
  {
   "cell_type": "code",
   "execution_count": 4,
   "id": "b904f968-c4d3-407f-9b64-0b05c0e84649",
   "metadata": {
    "jupyter": {
     "source_hidden": true
    }
   },
   "outputs": [
    {
     "name": "stdout",
     "output_type": "stream",
     "text": [
      "Moved file: [FacturaVsCR][0000150462][21-11-2024][01-12-2024].xls to 2024 Final\n",
      "Moved file: [FacturaVsCR][0000150462][16-08-2024][31-08-2024].xls to 2024 Final\n",
      "Moved file: [FacturaVsCR][0000150462][16-04-2024][30-04-2024].xls to 2024 Final\n",
      "Moved file: [FacturaVsCR][0000150462][16-01-2024][31-01-2024].xls to 2024 Final\n",
      "Moved file: [FacturaVsCR][0000150462][01-07-2024][15-07-2024].xls to 2024 Final\n",
      "Moved file: [FacturaVsCR][0000150462][11-12-2024][15-12-2024].xls to 2024 Final\n",
      "Moved file: [FacturaVsCR][0000150462][17-02-2024][29-02-2024].xls to 2024 Final\n",
      "Moved file: [FacturaVsCR][0000150462][01-08-2024][15-08-2024].xls to 2024 Final\n",
      "Moved file: [FacturaVsCR][0000150462][01-04-2024][15-04-2024].xls to 2024 Final\n",
      "Moved file: [FacturaVsCR][0000150462][01-10-2024][31-10-2024].xls to 2024 Final\n",
      "Moved file: [FacturaVsCR][0000150462][01-11-2024][20-11-2024].xls to 2024 Final\n",
      "Moved file: [FacturaVsCR][0000150462][16-07-2024][31-07-2024].xls to 2024 Final\n",
      "Moved file: [FacturaVsCR][0000150462][01-01-2024][15-01-2024].xls to 2024 Final\n",
      "Moved file: [FacturaVsCR][0000150462][02-12-2024][10-12-2024].xls to 2024 Final\n",
      "Moved file: [FacturaVsCR][0000150462][16-06-2024][30-06-2024].xls to 2024 Final\n",
      "Moved file: [FacturaVsCR][0000150462][16-12-2024][31-12-2024].xls to 2024 Final\n",
      "Moved file: [FacturaVsCR][0000150462][16-03-2024][31-03-2024].xls to 2024 Final\n",
      "Moved file: [FacturaVsCR][0000150462][01-05-2024][15-05-2024].xls to 2024 Final\n",
      "Moved file: [FacturaVsCR][0000150462][01-09-2024][15-09-2024].xls to 2024 Final\n",
      "Moved file: [FacturaVsCR][0000150462][01-02-2024][16-02-2024].xls to 2024 Final\n",
      "Moved file: [FacturaVsCR][0000150462][16-05-2024][31-05-2024].xls to 2024 Final\n",
      "Moved file: [FacturaVsCR][0000150462][01-03-2024][15-03-2024].xls to 2024 Final\n",
      "Moved file: [FacturaVsCR][0000150462][16-09-2024][30-09-2024].xls to 2024 Final\n",
      "Moved file: [FacturaVsCR][0000150462][01-06-2024][15-06-2024].xls to 2024 Final\n"
     ]
    }
   ],
   "source": [
    "# Mover arhivos descargados a su carpeta final\n",
    "from PREI_merger_and_audit import move_files\n",
    "move_files(temp_folder, final_folder)"
   ]
  },
  {
   "cell_type": "code",
   "execution_count": 3,
   "id": "77cca7e4-285a-4741-9b45-523f0a8fd76b",
   "metadata": {
    "jupyter": {
     "source_hidden": true
    }
   },
   "outputs": [
    {
     "name": "stdout",
     "output_type": "stream",
     "text": [
      "\n",
      "Abriendo los exceles fuentes:\n",
      "Combinando exceles en la carpeta: {'2024 Final'} \n",
      "\n",
      "Duplicated rows before merging:\n",
      "     Documento                          Folio Fiscal       Fecha Factura  \\\n",
      "1     34132303  774451F0-5205-43C2-A1A2-FF3D64E37D8A 2024-11-26 08:56:33   \n",
      "2     34132303  774451F0-5205-43C2-A1A2-FF3D64E37D8A 2024-11-26 08:56:33   \n",
      "3     34132305  96AEDC73-B5AB-4AE3-9D96-0BECD52C5846 2024-11-26 08:45:31   \n",
      "4     34132305  96AEDC73-B5AB-4AE3-9D96-0BECD52C5846 2024-11-26 08:45:31   \n",
      "5     34132308  AD20FC95-46AE-450E-8D66-262C04F4D781 2024-11-26 08:55:02   \n",
      "..         ...                                   ...                 ...   \n",
      "773   34335645  E74E7BCF-1DA5-4D08-83DE-5DDBDEDF13B3 2024-12-26 09:23:26   \n",
      "774   34335646  DC20D500-6B81-4D80-BBCE-4898DF4979A2 2024-12-26 09:19:50   \n",
      "775   34335646  DC20D500-6B81-4D80-BBCE-4898DF4979A2 2024-12-26 09:19:50   \n",
      "776   34335647  1B3B2F69-F1F0-4C38-9AB6-B11D5ACC55F9 2024-12-26 09:17:55   \n",
      "777   34335647  1B3B2F69-F1F0-4C38-9AB6-B11D5ACC55F9 2024-12-26 09:17:55   \n",
      "\n",
      "      Importe         Fecha Carga Unidad Negocio Contra Recibo Estado C.R.  \n",
      "1    145831.0 2024-11-26 18:00:46          00018      00419801    Aprobado  \n",
      "2    145831.0 2024-11-26 18:00:46          00018      00419801        Otro  \n",
      "3     87316.0 2024-11-26 18:01:05          00018      00419801    Aprobado  \n",
      "4     87316.0 2024-11-26 18:01:05          00018      00419801        Otro  \n",
      "5    159941.0 2024-11-26 18:01:25          00018      00419801    Aprobado  \n",
      "..        ...                 ...            ...           ...         ...  \n",
      "773  309465.0 2024-12-30 18:07:46          03705      00156890        Otro  \n",
      "774   16146.0 2024-12-30 18:08:06          03705      00156890    Aprobado  \n",
      "775   16146.0 2024-12-30 18:08:06          03705      00156890        Otro  \n",
      "776   21528.0 2024-12-30 18:08:26          03705      00156890    Aprobado  \n",
      "777   21528.0 2024-12-30 18:08:26          03705      00156890        Otro  \n",
      "\n",
      "[184 rows x 8 columns]\n",
      "Reporte al 13/03/25 10:46\n",
      "\n",
      "Reporte Al: 13/03/25 10:46\n",
      "\n",
      "En proceso: 0.00\n",
      "Aprobado: 0.00\n",
      "Pagado: 84,195,744.00\n",
      "Total: 84,195,744.00\n",
      "\n",
      "\n",
      "Información copiada al portapapeles\n"
     ]
    }
   ],
   "source": [
    "# Genera un solo excel con la información de todos\n",
    "from PREI_merger_and_audit import merge_files\n",
    "merge_files(temp_folder, final_folder)"
   ]
  },
  {
   "cell_type": "code",
   "execution_count": 4,
   "id": "5f489eae-5031-4e08-8bf3-f87e916c25f6",
   "metadata": {},
   "outputs": [
    {
     "name": "stdout",
     "output_type": "stream",
     "text": [
      "Data extraction and processing complete. 2024 audit.xlsx has been updated.\n"
     ]
    }
   ],
   "source": [
    "# Audita los archivos\n",
    "from PREI_merger_and_audit import audit\n",
    "audit(final_folder, year)"
   ]
  },
  {
   "cell_type": "code",
   "execution_count": 5,
   "id": "cdae6d07-58be-4b3c-b769-ccb4184f0af5",
   "metadata": {},
   "outputs": [
    {
     "name": "stdout",
     "output_type": "stream",
     "text": [
      "Recent file in /Users/armjorge/Library/CloudStorage/Dropbox/3. Armando Cuaxospa/Licitaciones/Licitaciones 2025/E115 360/Implementación/PREI/2023 Final: 2025 03 13 PISP 10h.xlsx (Created: 2025-03-13 10:06:26)\n",
      "Recent file in /Users/armjorge/Library/CloudStorage/Dropbox/3. Armando Cuaxospa/Licitaciones/Licitaciones 2025/E115 360/Implementación/PREI/2024 Final: 2024 audit.xlsx (Created: 2025-03-13 10:52:51)\n",
      "Headers in 2024 audit.xlsx do not match expected headers. Skipping this file.\n",
      "Recent file in /Users/armjorge/Library/CloudStorage/Dropbox/3. Armando Cuaxospa/Licitaciones/Licitaciones 2025/E115 360/Implementación/PREI/2025 Final: 2025 audit.xlsx (Created: 2025-03-13 10:15:38)\n",
      "Headers in 2025 audit.xlsx do not match expected headers. Skipping this file.\n",
      "Master file saved as: /Users/armjorge/Library/CloudStorage/Dropbox/3. Armando Cuaxospa/Licitaciones/Licitaciones 2025/E115 360/Implementación/PREI/PREI.xlsx\n"
     ]
    }
   ],
   "source": [
    "\n",
    "import os\n",
    "import glob\n",
    "import pandas as pd\n",
    "from datetime import datetime\n",
    "#Une todo\n",
    "\n",
    "# Define expected headers (adjust as needed)\n",
    "expected_headers = [\"Documento\", \"Folio Fiscal\", \"Fecha Factura\", \"Importe\", \n",
    "                    \"Fecha Carga\", \"Unidad Negocio\", \"Contra Recibo\", \"Estado C.R.\", \"Fecha\"]\n",
    "\n",
    "# List to collect DataFrames from each recent xlsx file\n",
    "dataframes = []\n",
    "\n",
    "# Loop through each valid year\n",
    "for year in valid_years:\n",
    "    final_folder = os.path.join(folder_root, 'Implementación', 'PREI', f\"{year} Final\")\n",
    "    # Find all xlsx files in the final folder\n",
    "    xlsx_files = glob.glob(os.path.join(final_folder, \"*.xlsx\"))\n",
    "    if not xlsx_files:\n",
    "        print(f\"No xlsx files found in {final_folder}\")\n",
    "        continue\n",
    "\n",
    "    # Find the most recent xlsx file based on creation time\n",
    "    recent_file = max(xlsx_files, key=os.path.getctime)\n",
    "    creation_time = os.path.getctime(recent_file)\n",
    "    creation_dt = datetime.fromtimestamp(creation_time)\n",
    "    print(f\"Recent file in {final_folder}: {os.path.basename(recent_file)} (Created: {creation_dt.strftime('%Y-%m-%d %H:%M:%S')})\")\n",
    "\n",
    "    # Load the recent file\n",
    "    try:\n",
    "        df = pd.read_excel(recent_file, engine='openpyxl')\n",
    "    except Exception as e:\n",
    "        print(f\"Error reading {recent_file}: {e}\")\n",
    "        continue\n",
    "\n",
    "    # Check if the file's headers match the expected headers\n",
    "    if list(df.columns) != expected_headers:\n",
    "        print(f\"Headers in {os.path.basename(recent_file)} do not match expected headers. Skipping this file.\")\n",
    "        continue\n",
    "\n",
    "    dataframes.append(df)\n",
    "\n",
    "# Merge all valid DataFrames into one master DataFrame and save\n",
    "if dataframes:\n",
    "    master_df = pd.concat(dataframes, ignore_index=True)\n",
    "    master_file = os.path.join(folder_root, 'Implementación', 'PREI', \"PREI.xlsx\")\n",
    "    master_df.to_excel(master_file, index=False, engine='openpyxl')\n",
    "    print(f\"Master file saved as: {master_file}\")\n",
    "else:\n",
    "    print(\"No valid files found to merge.\")"
   ]
  },
  {
   "cell_type": "code",
   "execution_count": null,
   "id": "2b0010b0-27ca-4fec-afa7-b370f7afada9",
   "metadata": {},
   "outputs": [],
   "source": []
  }
 ],
 "metadata": {
  "kernelspec": {
   "display_name": "Python 3 (ipykernel)",
   "language": "python",
   "name": "python3"
  },
  "language_info": {
   "codemirror_mode": {
    "name": "ipython",
    "version": 3
   },
   "file_extension": ".py",
   "mimetype": "text/x-python",
   "name": "python",
   "nbconvert_exporter": "python",
   "pygments_lexer": "ipython3",
   "version": "3.13.1"
  }
 },
 "nbformat": 4,
 "nbformat_minor": 5
}
