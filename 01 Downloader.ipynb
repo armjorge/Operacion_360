{
 "cells": [
  {
   "cell_type": "markdown",
   "id": "02977ba0-07cb-4b2b-af33-fb73b4687ccf",
   "metadata": {},
   "source": [
    "# Orquestador de ventas 360: resumen\n",
    "Diseño esto para, partiendo de la demanda desagregada: \n",
    "- Capturar contratos\n",
    "- Descargar xlsx de sistemas SAI, CAMUNDA, SAGI, ZOHO y PISP. \n",
    "- Consultar exceles internos\n",
    "- Organizar las órdenes descargadas\n",
    "- Generar los pickle de las órdenes\n",
    "Todo lo anterior es la información mínima indispensable para poder generar información de ventas, que será la referencia interna sobre la que desplegaremos el alimentado de reportes y la generación de reglas para dar retro al usuario."
   ]
  },
  {
   "cell_type": "code",
   "execution_count": 1,
   "id": "4fd5fb35-7fd7-4d94-a322-8d3357926be9",
   "metadata": {
    "jupyter": {
     "source_hidden": true
    }
   },
   "outputs": [],
   "source": [
    "# Importa librerías y chromedriver\n",
    "import sys\n",
    "import os\n",
    "import glob\n",
    "import yaml\n",
    "import pandas as pd\n",
    "from datetime import datetime\n",
    "import shutil\n",
    "# Define the root and script directory\n",
    "folder_root = os.getcwd()  # Get current directory (where Orquestación.ipynb is)\n",
    "script_folder = os.path.join(folder_root, \"Scripts\")  # Path to 'Scripts'\n",
    "# Ensure the script folder is added to sys.path\n",
    "if script_folder not in sys.path:\n",
    "    sys.path.append(script_folder)\n",
    "Libreria_SAI = os.path.join(script_folder, \"Libreria_SAI\")\n",
    "if Libreria_SAI not in sys.path:\n",
    "    sys.path.append(Libreria_SAI)\n",
    "Libreria_comunes = os.path.join(script_folder, \"Libreria_comunes\")\n",
    "if Libreria_comunes not in sys.path:\n",
    "    sys.path.append(Libreria_comunes)\n",
    "Libreria_camunda = os.path.join(script_folder, \"Libreria_camunda\")\n",
    "if Libreria_camunda not in sys.path:\n",
    "    sys.path.append(Libreria_camunda)\n",
    "Libreria_SAGI = os.path.join(script_folder, \"Libreria_SAGI\")\n",
    "if Libreria_SAGI not in sys.path:\n",
    "    sys.path.append(Libreria_SAGI)\n",
    "\n",
    "Libreria_PREI = os.path.join(script_folder, \"Libreria_PREI\")\n",
    "if Libreria_PREI not in sys.path:\n",
    "    sys.path.append(Libreria_PREI)\n",
    "from chrome_driver_load import load_chrome\n"
   ]
  },
  {
   "cell_type": "markdown",
   "id": "7d2e99ce-57f8-4a4d-98d0-3b571d13a87c",
   "metadata": {},
   "source": [
    "## SAI\n",
    "Esta consola de jupyter lab es se va a encargar de: \n",
    "- Descargar xlsx de sistemas SAI"
   ]
  },
  {
   "cell_type": "code",
   "execution_count": 16,
   "id": "c5676773-3299-44b3-b68b-ca9ec1ff7ec8",
   "metadata": {
    "jupyter": {
     "source_hidden": true
    }
   },
   "outputs": [
    {
     "name": "stdin",
     "output_type": "stream",
     "text": [
      "Which year will we download? [2023, 2024, 2025]:  2025\n"
     ]
    }
   ],
   "source": [
    "# Descargar SAI\n",
    "from SAI_download import SAI_download\n",
    "\n",
    "# Define the available date ranges\n",
    "today_date = datetime.now().strftime('%d/%m/%Y')\n",
    "date_ranges = {\n",
    "    2023: ('01/01/2023', '31/12/2023'), \n",
    "    2024: ('01/01/2024', '31/12/2024'), \n",
    "    2025: ('01/01/2025', today_date)  # Uses today's date for 2025 end date\n",
    "}\n",
    "\n",
    "# Ask the user for a valid year\n",
    "while True:\n",
    "    try:\n",
    "        year_selected = int(input(f\"Which year will we download? {list(date_ranges.keys())}: \"))\n",
    "        if year_selected in date_ranges:\n",
    "            break\n",
    "        else:\n",
    "            print(\"Invalid year. Please select from the available options.\")\n",
    "    except ValueError:\n",
    "        print(\"Invalid input. Please enter a valid year.\")\n",
    "\n",
    "# Retrieve the selected date range\n",
    "range_date = date_ranges[year_selected]\n",
    "\n",
    "# Define your download directory\n",
    "download_directory = os.path.join(folder_root, 'Implementación', 'SAI', f\"{year_selected} Temporal\")\n",
    "\n",
    "# Load Chrome with the download directory\n",
    "driver = load_chrome(download_directory)\n",
    "\n",
    "if driver:\n",
    "    # Execute the SAI download process with the selected date range\n",
    "    SAI_download(driver, \"EPH -161215-NS9\", \"Epharma2021\", range_date)\n",
    "    \n",
    "    # Optionally, close the driver when done\n",
    "    driver.quit()"
   ]
  },
  {
   "cell_type": "code",
   "execution_count": 17,
   "id": "76d821af-f361-4919-9621-afa7fa174957",
   "metadata": {
    "jupyter": {
     "source_hidden": true
    },
    "scrolled": true
   },
   "outputs": [
    {
     "name": "stdout",
     "output_type": "stream",
     "text": [
      "Moved: altas_export_1742514707818.xlsx -> 2025 03 20 Altas.xlsx\n",
      "Moved: ordenes_export_1742514725882.xlsx -> 2025 03 20 Ordenes.xlsx\n",
      "Moved: ordenes_export_1742514798627.xlsx -> 2025 03 20 Ordenes.xlsx\n",
      "Moved: altas_export_1742514782064.xlsx -> 2025 03 20 Altas.xlsx\n",
      "Moved: altas_export_1742514872305.xlsx -> 2025 03 20 Altas.xlsx\n",
      "Moved: altas_export_1742514828700.xlsx -> 2025 03 20 Altas.xlsx\n",
      "Moved: ordenes_export_1742514884170.xlsx -> 2025 03 20 Ordenes.xlsx\n"
     ]
    }
   ],
   "source": [
    "# Mover los archivos descargados\n",
    "# Define headers\n",
    "from openpyxl import load_workbook  # To read metadata from Excel files\n",
    "\n",
    "Altas_headers = [\n",
    "    \"noAlta\", \"fechaAltaTrunc\", \"noContrato\", \"noOrden\", \"clave\", \"cantRecibida\", \"importe\",\n",
    "    \"fpp\", \"clasPtalRecep\", \"descUnidad\", \"clasPtalDist\", \"descDist\", \"totalItems\", \"resguardo\"\n",
    "]\n",
    "\n",
    "Ordenes_headers = [\n",
    "    \"contrato\", \"solicitud\", \"orden\", \"generacion\", \"cveArticulo\", \"fechaExpedicion\",\n",
    "    \"lugarEntrega\", \"descripciónEntrega\", \"direccionEntrega\", \"destinoFinal\", \"estatus\",\n",
    "    \"fechaEntrega\", \"cantidadSolicitada\", \"precio\", \"importeSinIva\"\n",
    "]\n",
    "\n",
    "\n",
    "# Iterate through each year\n",
    "\n",
    "def get_excel_creation_date(file_path):\n",
    "    \"\"\"\n",
    "    Extracts the real creation date from an Excel file's metadata.\n",
    "    If metadata is unavailable, falls back to file system modification time.\n",
    "    \"\"\"\n",
    "    try:\n",
    "        workbook = load_workbook(file_path, read_only=True)\n",
    "        props = workbook.properties\n",
    "        if props.created:\n",
    "            return props.created  # This is a datetime object\n",
    "    except Exception as e:\n",
    "        print(f\"Error reading metadata from {file_path}: {e}\")\n",
    "\n",
    "    # If metadata is missing, use file system modification time\n",
    "    return datetime.fromtimestamp(os.path.getmtime(file_path))\n",
    "\n",
    "for year_processed in date_ranges.keys():\n",
    "    # Define directories\n",
    "    Temporal = os.path.join(folder_root, 'Implementación', 'SAI', f\"{year_processed} Temporal\")\n",
    "    Final = os.path.join(folder_root, 'Implementación', 'SAI', f\"{year_processed} Final\")\n",
    "\n",
    "    # Ensure directories exist\n",
    "    os.makedirs(Final, exist_ok=True)\n",
    "\n",
    "    # Get all Excel files in Temporal\n",
    "    files = [f for f in os.listdir(Temporal) if f.endswith('.xlsx')]\n",
    "\n",
    "    for file in files:\n",
    "        file_path = os.path.join(Temporal, file)\n",
    "\n",
    "        # Read the file headers\n",
    "        try:\n",
    "            df = pd.read_excel(file_path, nrows=1)  # Read only the first row for headers\n",
    "        except Exception as e:\n",
    "            print(f\"Error reading {file}: {e}\")\n",
    "            continue\n",
    "\n",
    "        file_headers = list(df.columns)  # Get the headers from the file\n",
    "\n",
    "        # Determine file type\n",
    "        if file_headers == Ordenes_headers:\n",
    "            prefix = \"Ordenes\"\n",
    "        elif file_headers == Altas_headers:\n",
    "            prefix = \"Altas\"\n",
    "        else:\n",
    "            print(f\"{file} does not fit either as Altas or Ordenes. Skipping.\")\n",
    "            continue\n",
    "\n",
    "        # Get file creation date\n",
    "        # Get file creation date from metadata or system\n",
    "        file_creation_time = get_excel_creation_date(file_path)\n",
    "        formatted_date = f\"{file_creation_time.year} {file_creation_time.month:02d} {file_creation_time.day:02d}\"\n",
    "\n",
    "        # Define new file name\n",
    "        new_filename = f\"{formatted_date} {prefix}.xlsx\"\n",
    "        new_file_path = os.path.join(Final, new_filename)\n",
    "\n",
    "        # Move and rename file\n",
    "        shutil.move(file_path, new_file_path)\n",
    "        print(f\"Moved: {file} -> {new_filename}\")"
   ]
  },
  {
   "cell_type": "markdown",
   "id": "3b57783b-8431-4758-93c5-de1136276580",
   "metadata": {},
   "source": [
    "## Camunda - Órdenes"
   ]
  },
  {
   "cell_type": "code",
   "execution_count": null,
   "id": "4fc16f2b-17eb-4492-a09a-d900a93ae527",
   "metadata": {
    "jupyter": {
     "source_hidden": true
    }
   },
   "outputs": [],
   "source": [
    "from CAMUNDA_login import SAI_camunda\n",
    "\n",
    "download_directory = os.path.join(folder_root,'Implementación', 'Descarga de bases')\n",
    "\n",
    "# Initialize the Chrome driver with your custom settings\n",
    "driver = load_chrome(download_directory)\n",
    "\n",
    "if driver:\n",
    "    # Execute the Camunda login and initial automation\n",
    "    SAI_camunda(driver, \"ArmandoJimenez\", \"N29f6Mwif\")\n",
    "    driver.quit()"
   ]
  },
  {
   "cell_type": "markdown",
   "id": "8cc56e5a-9ed7-4f57-8c24-904a59b6dc34",
   "metadata": {},
   "source": [
    "## Camunda - Remisiones"
   ]
  },
  {
   "cell_type": "code",
   "execution_count": null,
   "id": "06065f02-d525-4374-b3f0-6a926e84ac41",
   "metadata": {
    "jupyter": {
     "source_hidden": true
    }
   },
   "outputs": [],
   "source": [
    "## Aquí debemos pasar el CSV maestro de la extracción, si no existe skip function entera. \n",
    "## La dirección del output\n",
    "## El webdriver es el mismo"
   ]
  },
  {
   "cell_type": "markdown",
   "id": "fe54e74b-5e80-484b-915a-fe672608b7d2",
   "metadata": {},
   "source": [
    "## SAGI\n"
   ]
  },
  {
   "cell_type": "code",
   "execution_count": null,
   "id": "c8547426-f593-4955-a6bc-a58d9bd5b0b0",
   "metadata": {
    "jupyter": {
     "source_hidden": true
    }
   },
   "outputs": [],
   "source": [
    "from SAGI_download import SAGI_download\n",
    "# Initialize Chrome with your custom settings\n",
    "download_directory = os.path.join(folder_root,'Implementación', 'Descarga de bases')\n",
    "driver = load_chrome(download_directory)\n",
    "if driver:\n",
    "    # Call the function with your login credentials (username and password)\n",
    "    SAGI_download(driver, \"EPH161215NS9\", \"Pharmas21\", download_directory)\n",
    "    driver.quit()"
   ]
  },
  {
   "cell_type": "code",
   "execution_count": null,
   "id": "081d6828-1baa-41c6-90f3-3ef3c8eaa094",
   "metadata": {
    "jupyter": {
     "source_hidden": true
    },
    "scrolled": true
   },
   "outputs": [],
   "source": [
    "from SAGI_Join_2023_2024 import join_SAGI_files, worksheet_to_df\n",
    "\n",
    "json_key = os.path.join(folder_root, 'Implementación', 'Key.json')\n",
    "file2023_2024 = os.path.join(folder_root, 'Implementación', 'Descarga de bases', \"03 07 2023-2024.xlsx\")\n",
    "file_2024 = os.path.join(folder_root, 'Implementación', 'Descarga de bases', \"03 07 2024.xlsx\")\n",
    "output_joined_file = os.path.join(folder_root, 'Implementación', \"03 07 2024 ESTATUS_SAGI.xlsx\")\n",
    "\n",
    "join_SAGI_files(json_key, file2023_2024, file_2024, output_joined_file)"
   ]
  },
  {
   "cell_type": "markdown",
   "id": "2c4479f1-e9b1-42b2-85cf-44ec5a6db342",
   "metadata": {},
   "source": [
    "## PISP (PREI)\n"
   ]
  },
  {
   "cell_type": "code",
   "execution_count": null,
   "id": "e64afae5-66b2-44ef-a343-a216eb76a795",
   "metadata": {
    "jupyter": {
     "source_hidden": true
    }
   },
   "outputs": [],
   "source": [
    "# Carga librerías y define el año a descargar.\n",
    "from PREI_downloader import PREI_downloader\n",
    "\n",
    "user = '0000150462'\n",
    "password = 'EPH161215NS9'\n",
    "\n",
    "# Allowed years\n",
    "valid_years = {\"2023\", \"2024\", \"2025\"}"
   ]
  },
  {
   "cell_type": "code",
   "execution_count": null,
   "id": "35f48409-627c-4c44-a8f1-9539d0b3716d",
   "metadata": {
    "jupyter": {
     "source_hidden": true
    }
   },
   "outputs": [],
   "source": [
    "# Loop until a valid year is entered\n",
    "\n",
    "while True:\n",
    "    year = input(\"Enter a year (2023, 2024, 2025): \").strip()\n",
    "    if year in valid_years:\n",
    "        break\n",
    "    else:\n",
    "        print(\"Invalid year. Please try again.\")\n",
    "\n",
    "# Create paths using f-strings to substitute the year\n",
    "dates = os.path.join(folder_root, 'Implementación', 'PREI', f\"{year}_dates.xlsx\")\n",
    "temp_folder = os.path.join(folder_root, 'Implementación', 'PREI', f\"{year} Temporal\")\n",
    "final_folder = os.path.join(folder_root, 'Implementación', 'PREI', f\"{year} Final\")\n",
    "# Check if the Excel file exists\n",
    "def check_if_exists(element):\n",
    "    if os.path.exists(element):\n",
    "        print(f\"The file {os.path.basename(element)} exists.\")\n",
    "    else:\n",
    "        print(f\"The file {os.path.basename(element)} does not exist.\")\n",
    "check_if_exists(dates)\n",
    "check_if_exists(temp_folder)\n",
    "check_if_exists(final_folder)\n"
   ]
  },
  {
   "cell_type": "code",
   "execution_count": null,
   "id": "1f5b1b69-d04a-469b-9df5-eb1e609a7720",
   "metadata": {
    "jupyter": {
     "source_hidden": true
    },
    "scrolled": true
   },
   "outputs": [],
   "source": [
    "# Descargar XLS del PREI\n",
    "driver = load_chrome(temp_folder)\n",
    "if driver:\n",
    "    # Call the function with your login credentialstemp_folder(username and password)\n",
    "    PREI_downloader(driver, user, password, temp_folder, dates)\n",
    "    driver.quit()"
   ]
  },
  {
   "cell_type": "code",
   "execution_count": null,
   "id": "b904f968-c4d3-407f-9b64-0b05c0e84649",
   "metadata": {
    "jupyter": {
     "source_hidden": true
    }
   },
   "outputs": [],
   "source": [
    "# Mover arhivos descargados a su carpeta final\n",
    "from PREI_merger_and_audit import move_files\n",
    "move_files(temp_folder, final_folder)"
   ]
  },
  {
   "cell_type": "code",
   "execution_count": null,
   "id": "77cca7e4-285a-4741-9b45-523f0a8fd76b",
   "metadata": {
    "jupyter": {
     "source_hidden": true
    }
   },
   "outputs": [],
   "source": [
    "# Genera un solo excel con la información de todos\n",
    "from PREI_merger_and_audit import merge_files\n",
    "merge_files(temp_folder, final_folder)"
   ]
  },
  {
   "cell_type": "code",
   "execution_count": null,
   "id": "5f489eae-5031-4e08-8bf3-f87e916c25f6",
   "metadata": {
    "jupyter": {
     "source_hidden": true
    }
   },
   "outputs": [],
   "source": [
    "# Audita los archivos\n",
    "from PREI_merger_and_audit import audit\n",
    "audit(final_folder, year)"
   ]
  },
  {
   "cell_type": "code",
   "execution_count": null,
   "id": "cdae6d07-58be-4b3c-b769-ccb4184f0af5",
   "metadata": {
    "jupyter": {
     "source_hidden": true
    },
    "scrolled": true
   },
   "outputs": [],
   "source": [
    "# Fusiona ciclos fiscales 2023, 2024, 2025\n",
    "from PREI_merger_and_audit import fusion_2023_2025\n",
    "# Define expected headers (adjust as needed)\n",
    "fusion_2023_2025(valid_years, folder_root)"
   ]
  }
 ],
 "metadata": {
  "kernelspec": {
   "display_name": "Python 3 (ipykernel)",
   "language": "python",
   "name": "python3"
  },
  "language_info": {
   "codemirror_mode": {
    "name": "ipython",
    "version": 3
   },
   "file_extension": ".py",
   "mimetype": "text/x-python",
   "name": "python",
   "nbconvert_exporter": "python",
   "pygments_lexer": "ipython3",
   "version": "3.13.1"
  }
 },
 "nbformat": 4,
 "nbformat_minor": 5
}
