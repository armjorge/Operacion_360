{
 "cells": [
  {
   "cell_type": "markdown",
   "id": "02977ba0-07cb-4b2b-af33-fb73b4687ccf",
   "metadata": {},
   "source": [
    "# Orquestador de ventas 360: resumen\n",
    "Diseño esto para, partiendo de la demanda desagregada: \n",
    "- Capturar contratos\n",
    "- Descargar xlsx de sistemas SAI, CAMUNDA, SAGI, ZOHO y PISP. \n",
    "- Consultar exceles internos\n",
    "- Organizar las órdenes descargadas\n",
    "- Generar los pickle de las órdenes\n",
    "Todo lo anterior es la información mínima indispensable para poder generar información de ventas, que será la referencia interna sobre la que desplegaremos el alimentado de reportes y la generación de reglas para dar retro al usuario."
   ]
  },
  {
   "cell_type": "code",
   "execution_count": 2,
   "id": "4fd5fb35-7fd7-4d94-a322-8d3357926be9",
   "metadata": {
    "jupyter": {
     "source_hidden": true
    }
   },
   "outputs": [],
   "source": [
    "# Importa librerías y chromedriver\n",
    "import sys\n",
    "import os\n",
    "import yaml\n",
    "import pandas as pd\n",
    "# Define the root and script directory\n",
    "folder_root = os.getcwd()  # Get current directory (where Orquestación.ipynb is)\n",
    "script_folder = os.path.join(folder_root, \"Scripts\")  # Path to 'Scripts'\n",
    "# Ensure the script folder is added to sys.path\n",
    "if script_folder not in sys.path:\n",
    "    sys.path.append(script_folder)\n",
    "Libreria_SAI = os.path.join(script_folder, \"Libreria_SAI\")\n",
    "if Libreria_SAI not in sys.path:\n",
    "    sys.path.append(Libreria_SAI)\n",
    "Libreria_comunes = os.path.join(script_folder, \"Libreria_comunes\")\n",
    "if Libreria_comunes not in sys.path:\n",
    "    sys.path.append(Libreria_comunes)\n",
    "Libreria_camunda = os.path.join(script_folder, \"Libreria_camunda\")\n",
    "if Libreria_camunda not in sys.path:\n",
    "    sys.path.append(Libreria_camunda)\n",
    "Libreria_SAGI = os.path.join(script_folder, \"Libreria_SAGI\")\n",
    "if Libreria_SAGI not in sys.path:\n",
    "    sys.path.append(Libreria_SAGI)\n",
    "\n",
    "Libreria_PREI = os.path.join(script_folder, \"Libreria_PREI\")\n",
    "if Libreria_PREI not in sys.path:\n",
    "    sys.path.append(Libreria_PREI)\n",
    "from chrome_driver_load import load_chrome"
   ]
  },
  {
   "cell_type": "markdown",
   "id": "7d2e99ce-57f8-4a4d-98d0-3b571d13a87c",
   "metadata": {},
   "source": [
    "## SAI\n",
    "Esta consola de jupyter lab es se va a encargar de: \n",
    "- Descargar xlsx de sistemas SAI"
   ]
  },
  {
   "cell_type": "code",
   "execution_count": 5,
   "id": "c5676773-3299-44b3-b68b-ca9ec1ff7ec8",
   "metadata": {
    "jupyter": {
     "source_hidden": true
    }
   },
   "outputs": [
    {
     "name": "stdout",
     "output_type": "stream",
     "text": [
      "An error occurred: Message: invalid session id: session deleted as the browser has closed the connection\n",
      "from disconnected: not connected to DevTools\n",
      "  (Session info: chrome=133.0.6943.53)\n",
      "Stacktrace:\n",
      "0   chromedriver                        0x000000010279394c cxxbridge1$str$ptr + 2728228\n",
      "1   chromedriver                        0x000000010278bfa8 cxxbridge1$str$ptr + 2697088\n",
      "2   chromedriver                        0x00000001022f1ff0 cxxbridge1$string$len + 93348\n",
      "3   chromedriver                        0x00000001022daf44 chromedriver + 192324\n",
      "4   chromedriver                        0x00000001022fe61c cxxbridge1$string$len + 144080\n",
      "5   chromedriver                        0x0000000102361004 cxxbridge1$string$len + 548024\n",
      "6   chromedriver                        0x0000000102379a14 cxxbridge1$string$len + 648904\n",
      "7   chromedriver                        0x000000010232d004 cxxbridge1$string$len + 335032\n",
      "8   chromedriver                        0x000000010275c1f4 cxxbridge1$str$ptr + 2501068\n",
      "9   chromedriver                        0x000000010275f508 cxxbridge1$str$ptr + 2514144\n",
      "10  chromedriver                        0x00000001027418a4 cxxbridge1$str$ptr + 2392188\n",
      "11  chromedriver                        0x000000010275fdb0 cxxbridge1$str$ptr + 2516360\n",
      "12  chromedriver                        0x0000000102732934 cxxbridge1$str$ptr + 2330892\n",
      "13  chromedriver                        0x000000010277c1e0 cxxbridge1$str$ptr + 2632120\n",
      "14  chromedriver                        0x000000010277c368 cxxbridge1$str$ptr + 2632512\n",
      "15  chromedriver                        0x000000010278bc1c cxxbridge1$str$ptr + 2696180\n",
      "16  libsystem_pthread.dylib             0x0000000185af42e4 _pthread_start + 136\n",
      "17  libsystem_pthread.dylib             0x0000000185aef0fc thread_start + 8\n",
      "\n"
     ]
    }
   ],
   "source": [
    "# Descargar SAI\n",
    "from SAI_download import SAI_download\n",
    "# Define your download directory\n",
    "download_directory = os.path.join(folder_root,'Implementación', 'Descarga de bases')\n",
    "#print(download_directory)\n",
    "driver = load_chrome(download_directory)\n",
    "if driver:\n",
    "    # Execute the SAI download process\n",
    "    SAI_download(driver, \"EPH -161215-NS9\",\"Epharma2021\" )\n",
    "    # Optionally, close the driver when done\n",
    "    driver.quit()"
   ]
  },
  {
   "cell_type": "markdown",
   "id": "3b57783b-8431-4758-93c5-de1136276580",
   "metadata": {},
   "source": [
    "## Camunda"
   ]
  },
  {
   "cell_type": "code",
   "execution_count": 8,
   "id": "4fc16f2b-17eb-4492-a09a-d900a93ae527",
   "metadata": {
    "jupyter": {
     "source_hidden": true
    }
   },
   "outputs": [
    {
     "name": "stdin",
     "output_type": "stream",
     "text": [
      "Filtra y presiona enter cuando estés listo... \n"
     ]
    }
   ],
   "source": [
    "from CAMUNDA_login import SAI_camunda\n",
    "\n",
    "download_directory = os.path.join(folder_root,'Implementación', 'Descarga de bases')\n",
    "\n",
    "# Initialize the Chrome driver with your custom settings\n",
    "driver = load_chrome(download_directory)\n",
    "\n",
    "if driver:\n",
    "    # Execute the Camunda login and initial automation\n",
    "    SAI_camunda(driver, \"ArmandoJimenez\", \"N29f6Mwif\")\n",
    "    driver.quit()"
   ]
  },
  {
   "cell_type": "markdown",
   "id": "fe54e74b-5e80-484b-915a-fe672608b7d2",
   "metadata": {},
   "source": [
    "## SAGI\n"
   ]
  },
  {
   "cell_type": "code",
   "execution_count": 4,
   "id": "c8547426-f593-4955-a6bc-a58d9bd5b0b0",
   "metadata": {},
   "outputs": [
    {
     "name": "stdin",
     "output_type": "stream",
     "text": [
      "\n",
      "Descargamos facturas \n",
      "1)2023-2024 o \n",
      "2)2024?\n",
      " 1\n"
     ]
    },
    {
     "name": "stdout",
     "output_type": "stream",
     "text": [
      "\n",
      "*******************************\n",
      "Navega a la sección elegida: 2023-2024\n",
      "El script va a seleccionar 50 resultados por página y continuar...\n",
      "\n"
     ]
    },
    {
     "name": "stdin",
     "output_type": "stream",
     "text": [
      "Please navigate to the 2023-2024 section and press Enter to continue. \n"
     ]
    },
    {
     "name": "stdout",
     "output_type": "stream",
     "text": [
      "Data extracted and added to output.\n",
      "Data extracted and added to output.\n",
      "Data extracted and added to output.\n",
      "Data extracted and added to output.\n",
      "Data extracted and added to output.\n",
      "Data extracted and added to output.\n",
      "Data extracted and added to output.\n",
      "Data extracted and added to output.\n",
      "Data extracted and added to output.\n",
      "Data extracted and added to output.\n",
      "Data extracted and added to output.\n",
      "Data extracted and added to output.\n",
      "Data extracted and added to output.\n",
      "Data extracted and added to output.\n",
      "Data extracted and added to output.\n",
      "Data extracted and added to output.\n",
      "Data extracted and added to output.\n",
      "Data extracted and added to output.\n",
      "Data extracted and added to output.\n",
      "Data extracted and added to output.\n",
      "Data extracted and added to output.\n",
      "Data extracted and added to output.\n",
      "Data extracted and added to output.\n",
      "Data extracted and added to output.\n",
      "Data extracted and added to output.\n",
      "Data extracted and added to output.\n",
      "Data extracted and added to output.\n",
      "Data extracted and added to output.\n",
      "Data extracted and added to output.\n",
      "Data extracted and added to output.\n",
      "Data extracted and added to output.\n",
      "Data extracted and added to output.\n",
      "Data extracted and added to output.\n",
      "Data extracted and added to output.\n",
      "Data extracted and added to output.\n",
      "Data extracted and added to output.\n",
      "Data extracted and added to output.\n",
      "Data extracted and added to output.\n",
      "Data extracted and added to output.\n",
      "Data extracted and added to output.\n",
      "Data extracted and added to output.\n",
      "Data extracted and added to output.\n",
      "Data extracted and added to output.\n",
      "Data extracted and added to output.\n",
      "Data extracted and added to output.\n",
      "Data extracted and added to output.\n",
      "Data extracted and added to output.\n",
      "Next page button is not clickable. End of pages.\n",
      "Data for 2023-2024 saved to /Users/armjorge/Library/CloudStorage/Dropbox/3. Armando Cuaxospa/Licitaciones/Licitaciones 2025/E115 360/Implementación/Descarga de bases/03 04 2023-2024.xlsx\n",
      "Extraction process completed.\n"
     ]
    }
   ],
   "source": [
    "from SAGI_download import SAGI_download\n",
    "# Initialize Chrome with your custom settings\n",
    "download_directory = os.path.join(folder_root,'Implementación', 'Descarga de bases')\n",
    "driver = load_chrome(download_directory)\n",
    "if driver:\n",
    "    # Call the function with your login credentials (username and password)\n",
    "    SAGI_download(driver, \"EPH161215NS9\", \"Pharmas21\", download_directory)\n",
    "    driver.quit()"
   ]
  },
  {
   "cell_type": "markdown",
   "id": "2c4479f1-e9b1-42b2-85cf-44ec5a6db342",
   "metadata": {},
   "source": [
    "## PISP (PREI)\n"
   ]
  },
  {
   "cell_type": "code",
   "execution_count": null,
   "id": "e64afae5-66b2-44ef-a343-a216eb76a795",
   "metadata": {},
   "outputs": [
    {
     "name": "stdout",
     "output_type": "stream",
     "text": [
      "Processing row 1: Date START = 01/01/2024, Date END = 15/01/2024\n",
      "Calling input_date for fecha_inicial...\n",
      "Date passed: 01/01/2024\n",
      "Attempt 1: Current value (via JS): '__/__/____'\n",
      "Field cleared successfully on attempt 1\n",
      "Attempting to input date: 01/01/2024\n",
      "Date '01/01/2024' entered successfully into the field.\n",
      "fecha_inicial set successfully.\n",
      "Calling input_date for fecha_final...\n",
      "Date passed: 15/01/2024\n",
      "Attempt 1: Current value (via JS): '__/__/____'\n",
      "Field cleared successfully on attempt 1\n",
      "Attempting to input date: 15/01/2024\n",
      "Date '15/01/2024' entered successfully into the field.\n",
      "fecha_final set successfully.\n",
      "Clicking 'buscar' button...\n",
      "Dates 01/01/2024 to 15/01/2024 were processed\n",
      "Moving to the next set.\n",
      "Processing row 2: Date START = 16/01/2024, Date END = 31/01/2024\n",
      "Calling input_date for fecha_inicial...\n",
      "Date passed: 16/01/2024\n",
      "Attempt 1: Current value (via JS): '__/__/____'\n",
      "Field cleared successfully on attempt 1\n",
      "Attempting to input date: 16/01/2024\n",
      "Date '16/01/2024' entered successfully into the field.\n",
      "fecha_inicial set successfully.\n",
      "Calling input_date for fecha_final...\n",
      "Date passed: 31/01/2024\n",
      "Attempt 1: Current value (via JS): '__/__/____'\n",
      "Field cleared successfully on attempt 1\n",
      "Attempting to input date: 31/01/2024\n",
      "Date '31/01/2024' entered successfully into the field.\n",
      "fecha_final set successfully.\n",
      "Clicking 'buscar' button...\n",
      "Dates 16/01/2024 to 31/01/2024 were processed\n",
      "Moving to the next set.\n",
      "Processing row 3: Date START = 01/02/2024, Date END = 16/02/2024\n",
      "Calling input_date for fecha_inicial...\n",
      "Date passed: 01/02/2024\n",
      "Attempt 1: Current value (via JS): '__/__/____'\n",
      "Field cleared successfully on attempt 1\n",
      "Attempting to input date: 01/02/2024\n",
      "Date '01/02/2024' entered successfully into the field.\n",
      "fecha_inicial set successfully.\n",
      "Calling input_date for fecha_final...\n",
      "Date passed: 16/02/2024\n",
      "Attempt 1: Current value (via JS): '__/__/____'\n",
      "Field cleared successfully on attempt 1\n",
      "Attempting to input date: 16/02/2024\n",
      "Date '16/02/2024' entered successfully into the field.\n",
      "fecha_final set successfully.\n",
      "Clicking 'buscar' button...\n",
      "Dates 01/02/2024 to 16/02/2024 were processed\n",
      "Moving to the next set.\n",
      "Processing row 4: Date START = 17/02/2024, Date END = 29/02/2024\n",
      "Calling input_date for fecha_inicial...\n",
      "Date passed: 17/02/2024\n",
      "Attempt 1: Current value (via JS): '__/__/____'\n",
      "Field cleared successfully on attempt 1\n",
      "Attempting to input date: 17/02/2024\n",
      "Date '17/02/2024' entered successfully into the field.\n",
      "fecha_inicial set successfully.\n",
      "Calling input_date for fecha_final...\n",
      "Date passed: 29/02/2024\n",
      "Attempt 1: Current value (via JS): '__/__/____'\n",
      "Field cleared successfully on attempt 1\n",
      "Attempting to input date: 29/02/2024\n",
      "Date '29/02/2024' entered successfully into the field.\n",
      "fecha_final set successfully.\n",
      "Clicking 'buscar' button...\n",
      "Dates 17/02/2024 to 29/02/2024 were processed\n",
      "Moving to the next set.\n",
      "Processing row 5: Date START = 01/03/2024, Date END = 15/03/2024\n",
      "Calling input_date for fecha_inicial...\n",
      "Date passed: 01/03/2024\n",
      "Attempt 1: Current value (via JS): '__/__/____'\n",
      "Field cleared successfully on attempt 1\n",
      "Attempting to input date: 01/03/2024\n",
      "Date '01/03/2024' entered successfully into the field.\n",
      "fecha_inicial set successfully.\n",
      "Calling input_date for fecha_final...\n",
      "Date passed: 15/03/2024\n",
      "Attempt 1: Current value (via JS): '__/__/____'\n",
      "Field cleared successfully on attempt 1\n",
      "Attempting to input date: 15/03/2024\n",
      "Date '15/03/2024' entered successfully into the field.\n",
      "fecha_final set successfully.\n",
      "Clicking 'buscar' button...\n",
      "Dates 01/03/2024 to 15/03/2024 were processed\n",
      "Moving to the next set.\n",
      "Processing row 6: Date START = 16/03/2024, Date END = 31/03/2024\n",
      "Calling input_date for fecha_inicial...\n",
      "Date passed: 16/03/2024\n",
      "Attempt 1: Current value (via JS): '__/__/____'\n",
      "Field cleared successfully on attempt 1\n",
      "Attempting to input date: 16/03/2024\n",
      "Date '16/03/2024' entered successfully into the field.\n",
      "fecha_inicial set successfully.\n",
      "Calling input_date for fecha_final...\n",
      "Date passed: 31/03/2024\n",
      "Attempt 1: Current value (via JS): '__/__/____'\n",
      "Field cleared successfully on attempt 1\n",
      "Attempting to input date: 31/03/2024\n",
      "Date '31/03/2024' entered successfully into the field.\n",
      "fecha_final set successfully.\n",
      "Clicking 'buscar' button...\n",
      "Dates 16/03/2024 to 31/03/2024 were processed\n",
      "Moving to the next set.\n",
      "Processing row 7: Date START = 01/04/2024, Date END = 15/04/2024\n",
      "Calling input_date for fecha_inicial...\n",
      "Date passed: 01/04/2024\n",
      "Attempt 1: Current value (via JS): '__/__/____'\n",
      "Field cleared successfully on attempt 1\n",
      "Attempting to input date: 01/04/2024\n",
      "Date '01/04/2024' entered successfully into the field.\n",
      "fecha_inicial set successfully.\n",
      "Calling input_date for fecha_final...\n",
      "Date passed: 15/04/2024\n",
      "Attempt 1: Current value (via JS): '__/__/____'\n",
      "Field cleared successfully on attempt 1\n",
      "Attempting to input date: 15/04/2024\n",
      "Date '15/04/2024' entered successfully into the field.\n",
      "fecha_final set successfully.\n",
      "Clicking 'buscar' button...\n",
      "Dates 01/04/2024 to 15/04/2024 were processed\n",
      "Moving to the next set.\n",
      "Processing row 8: Date START = 16/04/2024, Date END = 30/04/2024\n",
      "Calling input_date for fecha_inicial...\n",
      "Date passed: 16/04/2024\n",
      "Attempt 1: Current value (via JS): '__/__/____'\n",
      "Field cleared successfully on attempt 1\n",
      "Attempting to input date: 16/04/2024\n",
      "Date '16/04/2024' entered successfully into the field.\n",
      "fecha_inicial set successfully.\n",
      "Calling input_date for fecha_final...\n",
      "Date passed: 30/04/2024\n",
      "Attempt 1: Current value (via JS): '__/__/____'\n",
      "Field cleared successfully on attempt 1\n",
      "Attempting to input date: 30/04/2024\n",
      "Date '30/04/2024' entered successfully into the field.\n",
      "fecha_final set successfully.\n",
      "Clicking 'buscar' button...\n"
     ]
    }
   ],
   "source": [
    "from PREI_downloader import PREI_downloader\n",
    "\n",
    "download_directory = os.path.join(folder_root,'Implementación', 'Descarga de bases')\n",
    "driver = load_chrome(download_directory)\n",
    "user = '0000150462'\n",
    "password = 'EPH161215NS9'\n",
    "excel_file = os.path.join(folder_root,'Implementación', 'dates.xlsx')\n",
    "if driver:\n",
    "    # Call the function with your login credentials (username and password)\n",
    "    PREI_downloader(driver, user, password, download_directory, excel_file)\n",
    "\n",
    "    driver.quit()"
   ]
  },
  {
   "cell_type": "code",
   "execution_count": null,
   "id": "1f5b1b69-d04a-469b-9df5-eb1e609a7720",
   "metadata": {},
   "outputs": [],
   "source": []
  }
 ],
 "metadata": {
  "kernelspec": {
   "display_name": "Python 3 (ipykernel)",
   "language": "python",
   "name": "python3"
  },
  "language_info": {
   "codemirror_mode": {
    "name": "ipython",
    "version": 3
   },
   "file_extension": ".py",
   "mimetype": "text/x-python",
   "name": "python",
   "nbconvert_exporter": "python",
   "pygments_lexer": "ipython3",
   "version": "3.13.1"
  }
 },
 "nbformat": 4,
 "nbformat_minor": 5
}
