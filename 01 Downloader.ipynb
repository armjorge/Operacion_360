{
 "cells": [
  {
   "cell_type": "markdown",
   "id": "02977ba0-07cb-4b2b-af33-fb73b4687ccf",
   "metadata": {},
   "source": [
    "Orquestador de ventas 360: resumen\n",
    "- Descargar xlsx de sistemas SAI, CAMUNDA, SAGI, ZOHO y PISP. \n",
    "- Descargar pdfs de sistema CAMUNDA\n",
    "Todo lo anterior es la información mínima indispensable para poder generar información de ventas, que será la referencia interna sobre la que desplegaremos el alimentado de reportes y la generación de reglas para dar retro al usuario."
   ]
  },
  {
   "cell_type": "code",
   "execution_count": null,
   "id": "4fd5fb35-7fd7-4d94-a322-8d3357926be9",
   "metadata": {
    "jupyter": {
     "source_hidden": true
    }
   },
   "outputs": [],
   "source": [
    "# Importa librerías y chromedriver\n",
    "import sys\n",
    "import os\n",
    "import glob\n",
    "import yaml\n",
    "import pandas as pd\n",
    "from datetime import datetime\n",
    "import shutil\n",
    "# Define the root and script directory\n",
    "folder_root = os.getcwd()  # Get current directory (where Orquestación.ipynb is)\n",
    "script_folder = os.path.join(folder_root, \"Scripts\")  # Path to 'Scripts'\n",
    "# Ensure the script folder is added to sys.path\n",
    "if script_folder not in sys.path:\n",
    "    sys.path.append(script_folder)\n",
    "Libreria_SAI = os.path.join(script_folder, \"Libreria_SAI\")\n",
    "if Libreria_SAI not in sys.path:\n",
    "    sys.path.append(Libreria_SAI)\n",
    "Libreria_comunes = os.path.join(script_folder, \"Libreria_comunes\")\n",
    "if Libreria_comunes not in sys.path:\n",
    "    sys.path.append(Libreria_comunes)\n",
    "Libreria_camunda = os.path.join(script_folder, \"Libreria_camunda\")\n",
    "if Libreria_camunda not in sys.path:\n",
    "    sys.path.append(Libreria_camunda)\n",
    "Libreria_SAGI = os.path.join(script_folder, \"Libreria_SAGI\")\n",
    "if Libreria_SAGI not in sys.path:\n",
    "    sys.path.append(Libreria_SAGI)\n",
    "\n",
    "Libreria_PREI = os.path.join(script_folder, \"Libreria_PREI\")\n",
    "if Libreria_PREI not in sys.path:\n",
    "    sys.path.append(Libreria_PREI)\n",
    "from chrome_driver_load import load_chrome\n"
   ]
  },
  {
   "cell_type": "code",
   "execution_count": null,
   "id": "878dd1ad-c4fa-46d3-a675-08b799d042c0",
   "metadata": {
    "jupyter": {
     "source_hidden": true
    },
    "scrolled": true
   },
   "outputs": [],
   "source": [
    "# Generar o cargar el archivo con contraseñas\n",
    "output_yaml = os.path.join(folder_root, \"Implementación\", \"passwords.yaml\")\n",
    "yaml_exists = os.path.exists(output_yaml)\n",
    "\n",
    "if yaml_exists:\n",
    "    # Abrir y cargar el contenido YAML en un diccionario\n",
    "    with open(output_yaml, 'r', encoding='utf-8') as f:\n",
    "        data_access = yaml.safe_load(f)\n",
    "    print(f\"Archivo cargado correctamente: {os.path.basename(output_yaml)}\")\n",
    "    #print(\"Contenido:\", data_access)\n",
    "    #sys.exit()\n",
    "\n",
    "else: \n",
    "    platforms = [\"SAI\", \"PREI\", \"CAMUNDA\", \"SAGI\"]\n",
    "    fields    = [\"password\", \"user\", \"link\"]\n",
    "    \n",
    "    lines = []\n",
    "    for platform in platforms:\n",
    "        for field in fields:\n",
    "            # clave = valor vacío\n",
    "            lines.append(f\"{platform}_{field}: \")\n",
    "        lines.append(\"\")  # línea en blanco entre bloques\n",
    "    \n",
    "    # Escribe el archivo YAML (aunque use \"=\" tal como en tu ejemplo)\n",
    "    with open(output_yaml, \"w\", encoding=\"utf-8\") as f:\n",
    "        f.write(\"\\n\".join(lines))\n",
    "    \n",
    "    print(f\"Archivo generado correctamente en: {output_yaml}\")\n",
    "    print(passwords)\n"
   ]
  },
  {
   "cell_type": "markdown",
   "id": "7edd1518-3ae4-43b6-b7b8-779ce0f52682",
   "metadata": {},
   "source": [
    "# IMSS"
   ]
  },
  {
   "cell_type": "markdown",
   "id": "7d2e99ce-57f8-4a4d-98d0-3b571d13a87c",
   "metadata": {},
   "source": [
    "## SAI\n",
    "Esta consola de jupyter lab es se va a encargar de: \n",
    "- Descargar órdenes y altas del sistema SAI"
   ]
  },
  {
   "cell_type": "code",
   "execution_count": null,
   "id": "c5676773-3299-44b3-b68b-ca9ec1ff7ec8",
   "metadata": {
    "jupyter": {
     "source_hidden": true
    },
    "scrolled": true
   },
   "outputs": [],
   "source": [
    "## Descargar SAI\n",
    "from SAI_download import SAI_download\n",
    "\n",
    "# Define the available date ranges\n",
    "today_date = datetime.now().strftime('%d/%m/%Y')\n",
    "date_ranges = {\n",
    "    2023: ('01/01/2023', '31/12/2023'), \n",
    "    2024: ('01/01/2024', '31/12/2024'), \n",
    "    2025: ('01/01/2025', today_date)  # Uses today's date for 2025 end date\n",
    "}\n",
    "\n",
    "# Ask the user for a valid year\n",
    "while True:\n",
    "    try:\n",
    "        year_selected = int(input(f\"Which year will we download? {list(date_ranges.keys())}: \"))\n",
    "        if year_selected in date_ranges:\n",
    "            print(f\"\\t{year_selected}\")\n",
    "            break\n",
    "        else:\n",
    "            print(\"Invalid year. Please select from the available options.\")\n",
    "    except ValueError:\n",
    "        print(\"Invalid input. Please enter a valid year.\")\n",
    "\n",
    "# Retrieve the selected date range\n",
    "range_date = date_ranges[year_selected]\n",
    "\n",
    "# Define your download directory\n",
    "download_directory = os.path.join(folder_root, 'Implementación', 'SAI', f\"{year_selected} Temporal\")\n",
    "\n",
    "# Load Chrome with the download directory\n",
    "driver = load_chrome(download_directory)\n",
    "SAI_password = data_access.get(\"SAI_password\")\n",
    "SAI_user = data_access.get(\"SAI_user\")\n",
    "if driver:\n",
    "    # Execute the SAI download process with the selected date range\n",
    "    SAI_download(driver, SAI_user, SAI_password, range_date)\n"
   ]
  },
  {
   "cell_type": "code",
   "execution_count": null,
   "id": "76d821af-f361-4919-9621-afa7fa174957",
   "metadata": {
    "jupyter": {
     "source_hidden": true
    },
    "scrolled": true
   },
   "outputs": [],
   "source": [
    "# Mover los archivos descargados\n",
    "# Define headers\n",
    "from openpyxl import load_workbook  # To read metadata from Excel files\n",
    "\n",
    "Altas_headers = [\n",
    "    \"noAlta\", \"fechaAltaTrunc\", \"noContrato\", \"noOrden\", \"clave\", \"cantRecibida\", \"importe\",\n",
    "    \"fpp\", \"clasPtalRecep\", \"descUnidad\", \"clasPtalDist\", \"descDist\", \"totalItems\", \"resguardo\"\n",
    "]\n",
    "\n",
    "Ordenes_headers = [\n",
    "    \"contrato\", \"solicitud\", \"orden\", \"generacion\", \"cveArticulo\", \"fechaExpedicion\",\n",
    "    \"lugarEntrega\", \"descripciónEntrega\", \"direccionEntrega\", \"destinoFinal\", \"estatus\",\n",
    "    \"fechaEntrega\", \"cantidadSolicitada\", \"precio\", \"importeSinIva\"\n",
    "]\n",
    "\n",
    "\n",
    "# Iterate through each year\n",
    "\n",
    "def get_excel_creation_date(file_path):\n",
    "    \"\"\"\n",
    "    Extracts the real creation date from an Excel file's metadata.\n",
    "    If metadata is unavailable, falls back to file system modification time.\n",
    "    \"\"\"\n",
    "    try:\n",
    "        workbook = load_workbook(file_path, read_only=True)\n",
    "        props = workbook.properties\n",
    "        created_date = props.created\n",
    "        workbook.close()  # ✅ esto libera el archivo correctamente\n",
    "        if created_date:\n",
    "            return created_date\n",
    "    except Exception as e:\n",
    "        print(f\"Error reading metadata from {file_path}: {e}\")\n",
    "\n",
    "    return datetime.fromtimestamp(os.path.getmtime(file_path))\n",
    "\n",
    "for year_processed in date_ranges.keys():\n",
    "    # Define directories\n",
    "    Temporal = os.path.join(folder_root, 'Implementación', 'SAI', f\"{year_processed} Temporal\")\n",
    "    Final = os.path.join(folder_root, 'Implementación', 'SAI', f\"{year_processed} Final\")\n",
    "\n",
    "    # Ensure directories exist\n",
    "    os.makedirs(Final, exist_ok=True)\n",
    "\n",
    "    # Get all Excel files in Temporal\n",
    "    files = [f for f in os.listdir(Temporal) if f.endswith('.xlsx')]\n",
    "\n",
    "    for file in files:\n",
    "        file_path = os.path.join(Temporal, file)\n",
    "\n",
    "        # Read the file headers\n",
    "        try:\n",
    "            #df = pd.read_excel(file_path, nrows=1)  # Read only the first row for headers\n",
    "            with open(file_path, 'rb') as f:\n",
    "                df = pd.read_excel(f, nrows=1)\n",
    "        except Exception as e:\n",
    "            print(f\"Error reading {file}: {e}\")\n",
    "            continue\n",
    "\n",
    "        file_headers = list(df.columns)  # Get the headers from the file\n",
    "\n",
    "        # Determine file type\n",
    "        if file_headers == Ordenes_headers:\n",
    "            prefix = \"Ordenes\"\n",
    "        elif file_headers == Altas_headers:\n",
    "            prefix = \"Altas\"\n",
    "        else:\n",
    "            print(f\"{file} does not fit either as Altas or Ordenes. Skipping.\")\n",
    "            continue\n",
    "\n",
    "        # Get file creation date\n",
    "        # Get file creation date from metadata or system\n",
    "        file_creation_time = get_excel_creation_date(file_path)\n",
    "        formatted_date = f\"{file_creation_time.year} {file_creation_time.month:02d} {file_creation_time.day:02d}\"\n",
    "\n",
    "        # Define new file name\n",
    "        new_filename = f\"{formatted_date} {prefix}.xlsx\"\n",
    "        new_file_path = os.path.join(Final, new_filename)\n",
    "\n",
    "        # Move and rename file\n",
    "        shutil.move(file_path, new_file_path)\n",
    "        print(f\"\\t{os.path.basename(Final)}\")\n",
    "        print(f\"Moved: {file} -> {new_filename}\")"
   ]
  },
  {
   "cell_type": "code",
   "execution_count": null,
   "id": "a8a95c1a-3205-4353-9e36-8a09b5236615",
   "metadata": {
    "jupyter": {
     "source_hidden": true
    }
   },
   "outputs": [],
   "source": [
    "# Fusionar los archivos descargados\n",
    "# Ejemplo de uso:\n",
    "from SAI_processing import merge_SAI_files\n",
    "\n",
    "SAI_folder = os.path.join(folder_root, 'Implementación', 'SAI')\n",
    "alta_pivots  = ['noAlta', 'fechaAltaTrunc']\n",
    "orden_pivots = ['orden', 'fechaExpedicion']\n",
    "date_regex= r'(\\d{4} \\d{2} \\d{2})'\n",
    "date_parse_format='%Y %m %d'\n",
    "Output_filename = \"Ordenes_altas.xlsx\"\n",
    "merge_SAI_files(SAI_folder, alta_pivots, orden_pivots, date_regex, date_parse_format, Output_filename)\n",
    "\n"
   ]
  },
  {
   "cell_type": "markdown",
   "id": "4cf07651-5ab6-459d-9004-3c0b7f6ad0d1",
   "metadata": {},
   "source": [
    "## PREI"
   ]
  },
  {
   "cell_type": "code",
   "execution_count": null,
   "id": "e64afae5-66b2-44ef-a343-a216eb76a795",
   "metadata": {
    "jupyter": {
     "source_hidden": true
    }
   },
   "outputs": [],
   "source": [
    "# Carga librerías y define el año a descargar.\n",
    "from PREI_downloader import PREI_downloader\n",
    "\n",
    "PREI_password = data_access.get(\"PREI_password\")\n",
    "PREI_user = data_access.get(\"PREI_user\") \n",
    "# Allowed years\n",
    "valid_years = {\"2023\", \"2024\", \"2025\"}"
   ]
  },
  {
   "cell_type": "code",
   "execution_count": null,
   "id": "35f48409-627c-4c44-a8f1-9539d0b3716d",
   "metadata": {
    "jupyter": {
     "source_hidden": true
    }
   },
   "outputs": [],
   "source": [
    "# Loop until a valid year is entered\n",
    "\n",
    "while True:\n",
    "    year = input(\"Enter a year (2023, 2024, 2025): \").strip()\n",
    "    if year in valid_years:\n",
    "        break\n",
    "    else:\n",
    "        print(\"Invalid year. Please try again.\")\n",
    "\n",
    "# Create paths using f-strings to substitute the year\n",
    "dates = os.path.join(folder_root, 'Implementación', 'PREI', f\"{year}_dates.xlsx\")\n",
    "temp_folder = os.path.join(folder_root, 'Implementación', 'PREI', f\"{year} Temporal\")\n",
    "final_folder = os.path.join(folder_root, 'Implementación', 'PREI', f\"{year} Final\")\n",
    "# Check if the Excel file exists\n",
    "def check_if_exists(element):\n",
    "    if os.path.exists(element):\n",
    "        print(f\"The file {os.path.basename(element)} exists.\")\n",
    "    else:\n",
    "        print(f\"The file {os.path.basename(element)} does not exist.\")\n",
    "check_if_exists(dates)\n",
    "check_if_exists(temp_folder)\n",
    "check_if_exists(final_folder)\n"
   ]
  },
  {
   "cell_type": "code",
   "execution_count": null,
   "id": "1f5b1b69-d04a-469b-9df5-eb1e609a7720",
   "metadata": {
    "jupyter": {
     "source_hidden": true
    },
    "scrolled": true
   },
   "outputs": [],
   "source": [
    "# Descargar XLS del PREI\n",
    "driver = load_chrome(temp_folder)\n",
    "if driver:\n",
    "    # Call the function with your login credentialstemp_folder(username and password)\n",
    "    PREI_downloader(driver, PREI_user, PREI_password, temp_folder, dates)\n",
    "    driver.quit()"
   ]
  },
  {
   "cell_type": "code",
   "execution_count": null,
   "id": "b904f968-c4d3-407f-9b64-0b05c0e84649",
   "metadata": {
    "jupyter": {
     "source_hidden": true
    }
   },
   "outputs": [],
   "source": [
    "# Mover arhivos descargados a su carpeta final\n",
    "from PREI_merger_and_audit import move_files\n",
    "move_files(temp_folder, final_folder)"
   ]
  },
  {
   "cell_type": "code",
   "execution_count": null,
   "id": "77cca7e4-285a-4741-9b45-523f0a8fd76b",
   "metadata": {
    "jupyter": {
     "source_hidden": true
    },
    "scrolled": true
   },
   "outputs": [],
   "source": [
    "# Genera un solo excel con la información de todos\n",
    "from PREI_merger_and_audit import merge_files\n",
    "merge_files(temp_folder, final_folder)"
   ]
  },
  {
   "cell_type": "code",
   "execution_count": null,
   "id": "5f489eae-5031-4e08-8bf3-f87e916c25f6",
   "metadata": {
    "jupyter": {
     "source_hidden": true
    }
   },
   "outputs": [],
   "source": [
    "# Audita los archivos\n",
    "from PREI_merger_and_audit import audit\n",
    "audit(final_folder, year)"
   ]
  },
  {
   "cell_type": "code",
   "execution_count": null,
   "id": "cdae6d07-58be-4b3c-b769-ccb4184f0af5",
   "metadata": {
    "jupyter": {
     "source_hidden": true
    },
    "scrolled": true
   },
   "outputs": [],
   "source": [
    "# Fusiona ciclos fiscales 2023, 2024, 2025\n",
    "from PREI_merger_and_audit import fusion_2023_2025\n",
    "# Define expected headers (adjust as needed)\n",
    "fusion_2023_2025(valid_years, folder_root)"
   ]
  },
  {
   "cell_type": "markdown",
   "id": "3b57783b-8431-4758-93c5-de1136276580",
   "metadata": {},
   "source": [
    "# Camunda - Órdenes"
   ]
  },
  {
   "cell_type": "code",
   "execution_count": null,
   "id": "4fc16f2b-17eb-4492-a09a-d900a93ae527",
   "metadata": {
    "jupyter": {
     "source_hidden": true
    }
   },
   "outputs": [],
   "source": [
    "from CAMUNDA_login import SAI_camunda\n",
    "\n",
    "download_directory = os.path.join(folder_root,'Implementación', 'CAMUNDA', 'Descargas')\n",
    "\n",
    "# Initialize the Chrome driver with your custom settings\n",
    "driver = load_chrome(download_directory)\n",
    "\n",
    "if driver:\n",
    "    # Execute the Camunda login and initial automation00\n",
    "    CAMUNDA_password = data_access.get(\"CAMUNDA_password\")\n",
    "    CAMUNDA_user = data_access.get(\"CAMUNDA_user\")\n",
    "    SAI_camunda(driver, CAMUNDA_user, CAMUNDA_password)\n",
    "    driver.quit()"
   ]
  },
  {
   "cell_type": "code",
   "execution_count": null,
   "id": "01e8fe43-c177-4fc6-85c7-4296db29d950",
   "metadata": {
    "jupyter": {
     "source_hidden": true
    }
   },
   "outputs": [],
   "source": [
    "from CAMUNDA_merging import CAMUNDA_merging\n",
    "download_directory = os.path.join(folder_root,'Implementación', 'CAMUNDA', 'Descargas')\n",
    "# Create the full path to your YAML file.\n",
    "yaml_file = os.path.join(folder_root, \"df_headers.yaml\")\n",
    "# Open and load the YAML file.\n",
    "with open(yaml_file, \"r\", encoding=\"utf-8\") as file:\n",
    "    data = yaml.load(file, Loader=yaml.FullLoader)\n",
    "INSABI_headers = data.get(\"columns_INSABI\")\n",
    "duplicados = \"NÚMERO DE ORDEN DE SUMINISTRO\"\n",
    "archivo_final = \"Camunda 2023-2025.xlsx\"\n",
    "CAMUNDA_merging(download_directory, INSABI_headers, duplicados, archivo_final)\n"
   ]
  },
  {
   "cell_type": "markdown",
   "id": "8cc56e5a-9ed7-4f57-8c24-904a59b6dc34",
   "metadata": {},
   "source": [
    "### Camunda - Remisiones"
   ]
  },
  {
   "cell_type": "code",
   "execution_count": 41,
   "id": "06065f02-d525-4374-b3f0-6a926e84ac41",
   "metadata": {
    "jupyter": {
     "source_hidden": true
    }
   },
   "outputs": [],
   "source": [
    "# Aquí debemos pasar el CSV maestro de la extracción, si no existe skip function entera. \n",
    "## La dirección del output\n",
    "## El webdriver es el mismo"
   ]
  },
  {
   "cell_type": "markdown",
   "id": "fe54e74b-5e80-484b-915a-fe672608b7d2",
   "metadata": {},
   "source": [
    "### SAGi\n"
   ]
  },
  {
   "cell_type": "code",
   "execution_count": null,
   "id": "c8547426-f593-4955-a6bc-a58d9bd5b0b0",
   "metadata": {
    "jupyter": {
     "source_hidden": true
    }
   },
   "outputs": [],
   "source": [
    "from SAGI_download import SAGI_download\n",
    "# Initialize Chrome with your custom settings\n",
    "download_directory = os.path.join(folder_root,'Implementación', 'Descarga de bases')\n",
    "driver = load_chrome(download_directory)\n",
    "if driver:\n",
    "    # Call the function with your login credentials (username and password)\n",
    "    SAGI_password = data_access.get(\"SAGI_password\")\n",
    "    SAGI_user = data_access.get(\"SAGI_user\")    \n",
    "    SAGI_download(driver, SAGI_user, SAGI_password, download_directory)\n",
    "    driver.quit()"
   ]
  },
  {
   "cell_type": "code",
   "execution_count": null,
   "id": "081d6828-1baa-41c6-90f3-3ef3c8eaa094",
   "metadata": {
    "jupyter": {
     "source_hidden": true
    },
    "scrolled": true
   },
   "outputs": [],
   "source": [
    "from SAGI_Join_2023_2024 import join_SAGI_files, worksheet_to_df\n",
    "now = datetime.now()\n",
    "prefix = f\"{now.month:02d} {now.day:02d}\"\n",
    "json_key = os.path.join(folder_root, 'Implementación', 'Key.json')\n",
    "file2023_2024 = os.path.join(folder_root, 'Implementación', 'Descarga de bases', f\"{prefix} 2023-2024.xlsx\")\n",
    "file_2024 = os.path.join(folder_root, 'Implementación', 'Descarga de bases', f\"{prefix} 2024.xlsx\")\n",
    "output_joined_file = os.path.join(folder_root, 'Implementación', f\"{prefix} 2024 ESTATUS_SAGI.xlsx\")\n",
    "\n",
    "join_SAGI_files(json_key, file2023_2024, file_2024, output_joined_file)\n",
    "\n",
    "print(f\"{'*' * 10} \\n archivo generado\")"
   ]
  },
  {
   "cell_type": "markdown",
   "id": "f830fa9f-8ee5-4aff-87c8-3f131a3fce41",
   "metadata": {},
   "source": [
    "# Generar consolas"
   ]
  },
  {
   "cell_type": "code",
   "execution_count": null,
   "id": "a98af442-f4f1-4fe0-a4ae-29c87595aa92",
   "metadata": {},
   "outputs": [],
   "source": []
  }
 ],
 "metadata": {
  "kernelspec": {
   "display_name": "Python 3 (ipykernel)",
   "language": "python",
   "name": "python3"
  },
  "language_info": {
   "codemirror_mode": {
    "name": "ipython",
    "version": 3
   },
   "file_extension": ".py",
   "mimetype": "text/x-python",
   "name": "python",
   "nbconvert_exporter": "python",
   "pygments_lexer": "ipython3",
   "version": "3.13.3"
  }
 },
 "nbformat": 4,
 "nbformat_minor": 5
}
