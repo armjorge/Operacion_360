{
 "cells": [
  {
   "cell_type": "markdown",
   "id": "02977ba0-07cb-4b2b-af33-fb73b4687ccf",
   "metadata": {},
   "source": [
    "Orquestador de ventas 360: resumen\n",
    "- Descargar xlsx de sistemas SAI, CAMUNDA, SAGI, ZOHO y PISP. \n",
    "- Descargar pdfs de sistema CAMUNDA\n",
    "Todo lo anterior es la información mínima indispensable para poder generar información de ventas, que será la referencia interna sobre la que desplegaremos el alimentado de reportes y la generación de reglas para dar retro al usuario."
   ]
  },
  {
   "cell_type": "code",
   "execution_count": 1,
   "id": "4fd5fb35-7fd7-4d94-a322-8d3357926be9",
   "metadata": {
    "jupyter": {
     "source_hidden": true
    }
   },
   "outputs": [],
   "source": [
    "# Importa librerías y chromedriver\n",
    "import sys\n",
    "import os\n",
    "import glob\n",
    "import yaml\n",
    "import pandas as pd\n",
    "from datetime import datetime\n",
    "import shutil\n",
    "# Define the root and script directory\n",
    "folder_root = os.getcwd()  # Get current directory (where Orquestación.ipynb is)\n",
    "script_folder = os.path.join(folder_root, \"Scripts\")  # Path to 'Scripts'\n",
    "# Ensure the script folder is added to sys.path\n",
    "if script_folder not in sys.path:\n",
    "    sys.path.append(script_folder)\n",
    "Libreria_SAI = os.path.join(script_folder, \"Libreria_SAI\")\n",
    "if Libreria_SAI not in sys.path:\n",
    "    sys.path.append(Libreria_SAI)\n",
    "Libreria_comunes = os.path.join(script_folder, \"Libreria_comunes\")\n",
    "if Libreria_comunes not in sys.path:\n",
    "    sys.path.append(Libreria_comunes)\n",
    "Libreria_camunda = os.path.join(script_folder, \"Libreria_camunda\")\n",
    "if Libreria_camunda not in sys.path:\n",
    "    sys.path.append(Libreria_camunda)\n",
    "Libreria_SAGI = os.path.join(script_folder, \"Libreria_SAGI\")\n",
    "if Libreria_SAGI not in sys.path:\n",
    "    sys.path.append(Libreria_SAGI)\n",
    "\n",
    "Libreria_PREI = os.path.join(script_folder, \"Libreria_PREI\")\n",
    "if Libreria_PREI not in sys.path:\n",
    "    sys.path.append(Libreria_PREI)\n",
    "from chrome_driver_load import load_chrome\n"
   ]
  },
  {
   "cell_type": "markdown",
   "id": "7edd1518-3ae4-43b6-b7b8-779ce0f52682",
   "metadata": {},
   "source": [
    "# IMSS"
   ]
  },
  {
   "cell_type": "markdown",
   "id": "7d2e99ce-57f8-4a4d-98d0-3b571d13a87c",
   "metadata": {},
   "source": [
    "## SAI\n",
    "Esta consola de jupyter lab es se va a encargar de: \n",
    "- Descargar órdenes y altas del sistema SAI"
   ]
  },
  {
   "cell_type": "code",
   "execution_count": 4,
   "id": "c5676773-3299-44b3-b68b-ca9ec1ff7ec8",
   "metadata": {
    "collapsed": true,
    "jupyter": {
     "outputs_hidden": true,
     "source_hidden": true
    },
    "scrolled": true
   },
   "outputs": [
    {
     "ename": "KeyboardInterrupt",
     "evalue": "Interrupted by user",
     "output_type": "error",
     "traceback": [
      "\u001b[31m---------------------------------------------------------------------------\u001b[39m",
      "\u001b[31mKeyboardInterrupt\u001b[39m                         Traceback (most recent call last)",
      "\u001b[36mCell\u001b[39m\u001b[36m \u001b[39m\u001b[32mIn[4]\u001b[39m\u001b[32m, line 15\u001b[39m\n\u001b[32m     13\u001b[39m \u001b[38;5;28;01mwhile\u001b[39;00m \u001b[38;5;28;01mTrue\u001b[39;00m:\n\u001b[32m     14\u001b[39m     \u001b[38;5;28;01mtry\u001b[39;00m:\n\u001b[32m---> \u001b[39m\u001b[32m15\u001b[39m         year_selected = \u001b[38;5;28mint\u001b[39m(\u001b[38;5;28;43minput\u001b[39;49m\u001b[43m(\u001b[49m\u001b[33;43mf\u001b[39;49m\u001b[33;43m\"\u001b[39;49m\u001b[33;43mWhich year will we download? \u001b[39;49m\u001b[38;5;132;43;01m{\u001b[39;49;00m\u001b[38;5;28;43mlist\u001b[39;49m\u001b[43m(\u001b[49m\u001b[43mdate_ranges\u001b[49m\u001b[43m.\u001b[49m\u001b[43mkeys\u001b[49m\u001b[43m(\u001b[49m\u001b[43m)\u001b[49m\u001b[43m)\u001b[49m\u001b[38;5;132;43;01m}\u001b[39;49;00m\u001b[33;43m: \u001b[39;49m\u001b[33;43m\"\u001b[39;49m\u001b[43m)\u001b[49m)\n\u001b[32m     16\u001b[39m         \u001b[38;5;28;01mif\u001b[39;00m year_selected \u001b[38;5;129;01min\u001b[39;00m date_ranges:\n\u001b[32m     17\u001b[39m             \u001b[38;5;28mprint\u001b[39m(\u001b[33mf\u001b[39m\u001b[33m\"\u001b[39m\u001b[38;5;130;01m\\t\u001b[39;00m\u001b[38;5;132;01m{\u001b[39;00myear_selected\u001b[38;5;132;01m}\u001b[39;00m\u001b[33m\"\u001b[39m)\n",
      "\u001b[36mFile \u001b[39m\u001b[32m~\\Documents\\venv\\Lib\\site-packages\\ipykernel\\kernelbase.py:1282\u001b[39m, in \u001b[36mKernel.raw_input\u001b[39m\u001b[34m(self, prompt)\u001b[39m\n\u001b[32m   1280\u001b[39m     msg = \u001b[33m\"\u001b[39m\u001b[33mraw_input was called, but this frontend does not support input requests.\u001b[39m\u001b[33m\"\u001b[39m\n\u001b[32m   1281\u001b[39m     \u001b[38;5;28;01mraise\u001b[39;00m StdinNotImplementedError(msg)\n\u001b[32m-> \u001b[39m\u001b[32m1282\u001b[39m \u001b[38;5;28;01mreturn\u001b[39;00m \u001b[38;5;28;43mself\u001b[39;49m\u001b[43m.\u001b[49m\u001b[43m_input_request\u001b[49m\u001b[43m(\u001b[49m\n\u001b[32m   1283\u001b[39m \u001b[43m    \u001b[49m\u001b[38;5;28;43mstr\u001b[39;49m\u001b[43m(\u001b[49m\u001b[43mprompt\u001b[49m\u001b[43m)\u001b[49m\u001b[43m,\u001b[49m\n\u001b[32m   1284\u001b[39m \u001b[43m    \u001b[49m\u001b[38;5;28;43mself\u001b[39;49m\u001b[43m.\u001b[49m\u001b[43m_parent_ident\u001b[49m\u001b[43m[\u001b[49m\u001b[33;43m\"\u001b[39;49m\u001b[33;43mshell\u001b[39;49m\u001b[33;43m\"\u001b[39;49m\u001b[43m]\u001b[49m\u001b[43m,\u001b[49m\n\u001b[32m   1285\u001b[39m \u001b[43m    \u001b[49m\u001b[38;5;28;43mself\u001b[39;49m\u001b[43m.\u001b[49m\u001b[43mget_parent\u001b[49m\u001b[43m(\u001b[49m\u001b[33;43m\"\u001b[39;49m\u001b[33;43mshell\u001b[39;49m\u001b[33;43m\"\u001b[39;49m\u001b[43m)\u001b[49m\u001b[43m,\u001b[49m\n\u001b[32m   1286\u001b[39m \u001b[43m    \u001b[49m\u001b[43mpassword\u001b[49m\u001b[43m=\u001b[49m\u001b[38;5;28;43;01mFalse\u001b[39;49;00m\u001b[43m,\u001b[49m\n\u001b[32m   1287\u001b[39m \u001b[43m\u001b[49m\u001b[43m)\u001b[49m\n",
      "\u001b[36mFile \u001b[39m\u001b[32m~\\Documents\\venv\\Lib\\site-packages\\ipykernel\\kernelbase.py:1325\u001b[39m, in \u001b[36mKernel._input_request\u001b[39m\u001b[34m(self, prompt, ident, parent, password)\u001b[39m\n\u001b[32m   1322\u001b[39m \u001b[38;5;28;01mexcept\u001b[39;00m \u001b[38;5;167;01mKeyboardInterrupt\u001b[39;00m:\n\u001b[32m   1323\u001b[39m     \u001b[38;5;66;03m# re-raise KeyboardInterrupt, to truncate traceback\u001b[39;00m\n\u001b[32m   1324\u001b[39m     msg = \u001b[33m\"\u001b[39m\u001b[33mInterrupted by user\u001b[39m\u001b[33m\"\u001b[39m\n\u001b[32m-> \u001b[39m\u001b[32m1325\u001b[39m     \u001b[38;5;28;01mraise\u001b[39;00m \u001b[38;5;167;01mKeyboardInterrupt\u001b[39;00m(msg) \u001b[38;5;28;01mfrom\u001b[39;00m\u001b[38;5;250m \u001b[39m\u001b[38;5;28;01mNone\u001b[39;00m\n\u001b[32m   1326\u001b[39m \u001b[38;5;28;01mexcept\u001b[39;00m \u001b[38;5;167;01mException\u001b[39;00m:\n\u001b[32m   1327\u001b[39m     \u001b[38;5;28mself\u001b[39m.log.warning(\u001b[33m\"\u001b[39m\u001b[33mInvalid Message:\u001b[39m\u001b[33m\"\u001b[39m, exc_info=\u001b[38;5;28;01mTrue\u001b[39;00m)\n",
      "\u001b[31mKeyboardInterrupt\u001b[39m: Interrupted by user"
     ]
    }
   ],
   "source": [
    "## Descargar SAI\n",
    "from SAI_download import SAI_download\n",
    "\n",
    "# Define the available date ranges\n",
    "today_date = datetime.now().strftime('%d/%m/%Y')\n",
    "date_ranges = {\n",
    "    2023: ('01/01/2023', '31/12/2023'), \n",
    "    2024: ('01/01/2024', '31/12/2024'), \n",
    "    2025: ('01/01/2025', today_date)  # Uses today's date for 2025 end date\n",
    "}\n",
    "\n",
    "# Ask the user for a valid year\n",
    "while True:\n",
    "    try:\n",
    "        year_selected = int(input(f\"Which year will we download? {list(date_ranges.keys())}: \"))\n",
    "        if year_selected in date_ranges:\n",
    "            print(f\"\\t{year_selected}\")\n",
    "            break\n",
    "        else:\n",
    "            print(\"Invalid year. Please select from the available options.\")\n",
    "    except ValueError:\n",
    "        print(\"Invalid input. Please enter a valid year.\")\n",
    "\n",
    "# Retrieve the selected date range\n",
    "range_date = date_ranges[year_selected]\n",
    "\n",
    "# Define your download directory\n",
    "download_directory = os.path.join(folder_root, 'Implementación', 'SAI', f\"{year_selected} Temporal\")\n",
    "\n",
    "# Load Chrome with the download directory\n",
    "driver = load_chrome(download_directory)\n",
    "\n",
    "if driver:\n",
    "    # Execute the SAI download process with the selected date range\n",
    "    SAI_download(driver, \"EPH -161215-NS9\", \"Epharma2021\", range_date)\n",
    "    \n",
    "    # Optionally, close the driver when done\n",
    "    driver.quit()"
   ]
  },
  {
   "cell_type": "code",
   "execution_count": 6,
   "id": "76d821af-f361-4919-9621-afa7fa174957",
   "metadata": {
    "jupyter": {
     "source_hidden": true
    },
    "scrolled": true
   },
   "outputs": [
    {
     "name": "stdout",
     "output_type": "stream",
     "text": [
      "\t2023 Final\n",
      "Moved: altas_export_1745338723423.xlsx -> 2025 04 22 Altas.xlsx\n",
      "\t2023 Final\n",
      "Moved: altas_export_1745338786277.xlsx -> 2025 04 22 Altas.xlsx\n",
      "\t2024 Final\n",
      "Moved: altas_export_1745338899997.xlsx -> 2025 04 22 Altas.xlsx\n",
      "\t2024 Final\n",
      "Moved: ordenes_export_1745338920475.xlsx -> 2025 04 22 Ordenes.xlsx\n",
      "\t2025 Final\n",
      "Moved: altas_export_1745338966741.xlsx -> 2025 04 22 Altas.xlsx\n",
      "\t2025 Final\n",
      "Moved: ordenes_export_1745338980337.xlsx -> 2025 04 22 Ordenes.xlsx\n"
     ]
    }
   ],
   "source": [
    "# Mover los archivos descargados\n",
    "# Define headers\n",
    "from openpyxl import load_workbook  # To read metadata from Excel files\n",
    "\n",
    "Altas_headers = [\n",
    "    \"noAlta\", \"fechaAltaTrunc\", \"noContrato\", \"noOrden\", \"clave\", \"cantRecibida\", \"importe\",\n",
    "    \"fpp\", \"clasPtalRecep\", \"descUnidad\", \"clasPtalDist\", \"descDist\", \"totalItems\", \"resguardo\"\n",
    "]\n",
    "\n",
    "Ordenes_headers = [\n",
    "    \"contrato\", \"solicitud\", \"orden\", \"generacion\", \"cveArticulo\", \"fechaExpedicion\",\n",
    "    \"lugarEntrega\", \"descripciónEntrega\", \"direccionEntrega\", \"destinoFinal\", \"estatus\",\n",
    "    \"fechaEntrega\", \"cantidadSolicitada\", \"precio\", \"importeSinIva\"\n",
    "]\n",
    "\n",
    "\n",
    "# Iterate through each year\n",
    "\n",
    "def get_excel_creation_date(file_path):\n",
    "    \"\"\"\n",
    "    Extracts the real creation date from an Excel file's metadata.\n",
    "    If metadata is unavailable, falls back to file system modification time.\n",
    "    \"\"\"\n",
    "    try:\n",
    "        workbook = load_workbook(file_path, read_only=True)\n",
    "        props = workbook.properties\n",
    "        created_date = props.created\n",
    "        workbook.close()  # ✅ esto libera el archivo correctamente\n",
    "        if created_date:\n",
    "            return created_date\n",
    "    except Exception as e:\n",
    "        print(f\"Error reading metadata from {file_path}: {e}\")\n",
    "\n",
    "    return datetime.fromtimestamp(os.path.getmtime(file_path))\n",
    "\n",
    "for year_processed in date_ranges.keys():\n",
    "    # Define directories\n",
    "    Temporal = os.path.join(folder_root, 'Implementación', 'SAI', f\"{year_processed} Temporal\")\n",
    "    Final = os.path.join(folder_root, 'Implementación', 'SAI', f\"{year_processed} Final\")\n",
    "\n",
    "    # Ensure directories exist\n",
    "    os.makedirs(Final, exist_ok=True)\n",
    "\n",
    "    # Get all Excel files in Temporal\n",
    "    files = [f for f in os.listdir(Temporal) if f.endswith('.xlsx')]\n",
    "\n",
    "    for file in files:\n",
    "        file_path = os.path.join(Temporal, file)\n",
    "\n",
    "        # Read the file headers\n",
    "        try:\n",
    "            #df = pd.read_excel(file_path, nrows=1)  # Read only the first row for headers\n",
    "            with open(file_path, 'rb') as f:\n",
    "                df = pd.read_excel(f, nrows=1)\n",
    "        except Exception as e:\n",
    "            print(f\"Error reading {file}: {e}\")\n",
    "            continue\n",
    "\n",
    "        file_headers = list(df.columns)  # Get the headers from the file\n",
    "\n",
    "        # Determine file type\n",
    "        if file_headers == Ordenes_headers:\n",
    "            prefix = \"Ordenes\"\n",
    "        elif file_headers == Altas_headers:\n",
    "            prefix = \"Altas\"\n",
    "        else:\n",
    "            print(f\"{file} does not fit either as Altas or Ordenes. Skipping.\")\n",
    "            continue\n",
    "\n",
    "        # Get file creation date\n",
    "        # Get file creation date from metadata or system\n",
    "        file_creation_time = get_excel_creation_date(file_path)\n",
    "        formatted_date = f\"{file_creation_time.year} {file_creation_time.month:02d} {file_creation_time.day:02d}\"\n",
    "\n",
    "        # Define new file name\n",
    "        new_filename = f\"{formatted_date} {prefix}.xlsx\"\n",
    "        new_file_path = os.path.join(Final, new_filename)\n",
    "\n",
    "        # Move and rename file\n",
    "        shutil.move(file_path, new_file_path)\n",
    "        print(f\"\\t{os.path.basename(Final)}\")\n",
    "        print(f\"Moved: {file} -> {new_filename}\")"
   ]
  },
  {
   "cell_type": "code",
   "execution_count": null,
   "id": "a8a95c1a-3205-4353-9e36-8a09b5236615",
   "metadata": {},
   "outputs": [],
   "source": [
    "# Fusionar los archivos descargados\n"
   ]
  },
  {
   "cell_type": "markdown",
   "id": "3b57783b-8431-4758-93c5-de1136276580",
   "metadata": {},
   "source": [
    "## Camunda - Órdenes"
   ]
  },
  {
   "cell_type": "code",
   "execution_count": 7,
   "id": "4fc16f2b-17eb-4492-a09a-d900a93ae527",
   "metadata": {},
   "outputs": [
    {
     "name": "stdin",
     "output_type": "stream",
     "text": [
      "Filtra y presiona enter cuando estés listo... \n"
     ]
    }
   ],
   "source": [
    "from CAMUNDA_login import SAI_camunda\n",
    "\n",
    "download_directory = os.path.join(folder_root,'Implementación', 'CAMUNDA', 'Descargas')\n",
    "\n",
    "# Initialize the Chrome driver with your custom settings\n",
    "driver = load_chrome(download_directory)\n",
    "\n",
    "if driver:\n",
    "    # Execute the Camunda login and initial automation\n",
    "    SAI_camunda(driver, \"ArmandoJimenez\", \"N29f6Mwif\")\n",
    "    driver.quit()"
   ]
  },
  {
   "cell_type": "code",
   "execution_count": 8,
   "id": "01e8fe43-c177-4fc6-85c7-4296db29d950",
   "metadata": {},
   "outputs": [
    {
     "name": "stdout",
     "output_type": "stream",
     "text": [
      "Loading Camunda Merging: merge all xlsx file while keeping recent row\n",
      "**********\n",
      "Archivo final guardado en Descargas / Camunda 2023-2025.xlsx\n",
      " *************\n"
     ]
    }
   ],
   "source": [
    "from CAMUNDA_merging import CAMUNDA_merging\n",
    "download_directory = os.path.join(folder_root,'Implementación', 'CAMUNDA', 'Descargas')\n",
    "# Create the full path to your YAML file.\n",
    "yaml_file = os.path.join(folder_root, \"df_headers.yaml\")\n",
    "# Open and load the YAML file.\n",
    "with open(yaml_file, \"r\", encoding=\"utf-8\") as file:\n",
    "    data = yaml.load(file, Loader=yaml.FullLoader)\n",
    "INSABI_headers = data.get(\"columns_INSABI\")\n",
    "duplicados = \"NÚMERO DE ORDEN DE SUMINISTRO\"\n",
    "archivo_final = \"Camunda 2023-2025.xlsx\"\n",
    "CAMUNDA_merging(download_directory, INSABI_headers, duplicados, archivo_final)\n"
   ]
  },
  {
   "cell_type": "markdown",
   "id": "8cc56e5a-9ed7-4f57-8c24-904a59b6dc34",
   "metadata": {},
   "source": [
    "### Camunda - Remisiones"
   ]
  },
  {
   "cell_type": "code",
   "execution_count": null,
   "id": "06065f02-d525-4374-b3f0-6a926e84ac41",
   "metadata": {
    "jupyter": {
     "source_hidden": true
    }
   },
   "outputs": [],
   "source": [
    "## Aquí debemos pasar el CSV maestro de la extracción, si no existe skip function entera. \n",
    "## La dirección del output\n",
    "## El webdriver es el mismo"
   ]
  },
  {
   "cell_type": "markdown",
   "id": "fe54e74b-5e80-484b-915a-fe672608b7d2",
   "metadata": {},
   "source": [
    "## SAGI\n"
   ]
  },
  {
   "cell_type": "code",
   "execution_count": null,
   "id": "c8547426-f593-4955-a6bc-a58d9bd5b0b0",
   "metadata": {
    "jupyter": {
     "source_hidden": true
    }
   },
   "outputs": [],
   "source": [
    "from SAGI_download import SAGI_download\n",
    "# Initialize Chrome with your custom settings\n",
    "download_directory = os.path.join(folder_root,'Implementación', 'Descarga de bases')\n",
    "driver = load_chrome(download_directory)\n",
    "if driver:\n",
    "    # Call the function with your login credentials (username and password)\n",
    "    SAGI_download(driver, \"EPH161215NS9\", \"Pharmas21\", download_directory)\n",
    "    driver.quit()"
   ]
  },
  {
   "cell_type": "code",
   "execution_count": null,
   "id": "081d6828-1baa-41c6-90f3-3ef3c8eaa094",
   "metadata": {
    "scrolled": true
   },
   "outputs": [],
   "source": [
    "from SAGI_Join_2023_2024 import join_SAGI_files, worksheet_to_df\n",
    "now = datetime.now()\n",
    "prefix = f\"{now.month:02d} {now.day:02d}\"\n",
    "json_key = os.path.join(folder_root, 'Implementación', 'Key.json')\n",
    "file2023_2024 = os.path.join(folder_root, 'Implementación', 'Descarga de bases', f\"{prefix} 2023-2024.xlsx\")\n",
    "file_2024 = os.path.join(folder_root, 'Implementación', 'Descarga de bases', f\"{prefix} 2024.xlsx\")\n",
    "output_joined_file = os.path.join(folder_root, 'Implementación', f\"{prefix} 2024 ESTATUS_SAGI.xlsx\")\n",
    "\n",
    "join_SAGI_files(json_key, file2023_2024, file_2024, output_joined_file)\n",
    "\n",
    "print(f\"{'*' * 10} \\n archivo generado\")"
   ]
  },
  {
   "cell_type": "markdown",
   "id": "4cf07651-5ab6-459d-9004-3c0b7f6ad0d1",
   "metadata": {},
   "source": [
    "# PREI"
   ]
  },
  {
   "cell_type": "code",
   "execution_count": null,
   "id": "e64afae5-66b2-44ef-a343-a216eb76a795",
   "metadata": {},
   "outputs": [],
   "source": [
    "# Carga librerías y define el año a descargar.\n",
    "from PREI_downloader import PREI_downloader\n",
    "\n",
    "user = '0000150462'\n",
    "password = 'EPH161215NS9'\n",
    "\n",
    "# Allowed years\n",
    "valid_years = {\"2023\", \"2024\", \"2025\"}"
   ]
  },
  {
   "cell_type": "code",
   "execution_count": null,
   "id": "35f48409-627c-4c44-a8f1-9539d0b3716d",
   "metadata": {
    "jupyter": {
     "source_hidden": true
    }
   },
   "outputs": [],
   "source": [
    "# Loop until a valid year is entered\n",
    "\n",
    "while True:\n",
    "    year = input(\"Enter a year (2023, 2024, 2025): \").strip()\n",
    "    if year in valid_years:\n",
    "        break\n",
    "    else:\n",
    "        print(\"Invalid year. Please try again.\")\n",
    "\n",
    "# Create paths using f-strings to substitute the year\n",
    "dates = os.path.join(folder_root, 'Implementación', 'PREI', f\"{year}_dates.xlsx\")\n",
    "temp_folder = os.path.join(folder_root, 'Implementación', 'PREI', f\"{year} Temporal\")\n",
    "final_folder = os.path.join(folder_root, 'Implementación', 'PREI', f\"{year} Final\")\n",
    "# Check if the Excel file exists\n",
    "def check_if_exists(element):\n",
    "    if os.path.exists(element):\n",
    "        print(f\"The file {os.path.basename(element)} exists.\")\n",
    "    else:\n",
    "        print(f\"The file {os.path.basename(element)} does not exist.\")\n",
    "check_if_exists(dates)\n",
    "check_if_exists(temp_folder)\n",
    "check_if_exists(final_folder)\n"
   ]
  },
  {
   "cell_type": "code",
   "execution_count": null,
   "id": "1f5b1b69-d04a-469b-9df5-eb1e609a7720",
   "metadata": {
    "scrolled": true
   },
   "outputs": [],
   "source": [
    "# Descargar XLS del PREI\n",
    "driver = load_chrome(temp_folder)\n",
    "if driver:\n",
    "    # Call the function with your login credentialstemp_folder(username and password)\n",
    "    PREI_downloader(driver, user, password, temp_folder, dates)\n",
    "    driver.quit()"
   ]
  },
  {
   "cell_type": "code",
   "execution_count": null,
   "id": "b904f968-c4d3-407f-9b64-0b05c0e84649",
   "metadata": {
    "jupyter": {
     "source_hidden": true
    }
   },
   "outputs": [],
   "source": [
    "# Mover arhivos descargados a su carpeta final\n",
    "from PREI_merger_and_audit import move_files\n",
    "move_files(temp_folder, final_folder)"
   ]
  },
  {
   "cell_type": "code",
   "execution_count": null,
   "id": "77cca7e4-285a-4741-9b45-523f0a8fd76b",
   "metadata": {
    "jupyter": {
     "source_hidden": true
    }
   },
   "outputs": [],
   "source": [
    "# Genera un solo excel con la información de todos\n",
    "from PREI_merger_and_audit import merge_files\n",
    "merge_files(temp_folder, final_folder)"
   ]
  },
  {
   "cell_type": "code",
   "execution_count": null,
   "id": "5f489eae-5031-4e08-8bf3-f87e916c25f6",
   "metadata": {
    "jupyter": {
     "source_hidden": true
    }
   },
   "outputs": [],
   "source": [
    "# Audita los archivos\n",
    "from PREI_merger_and_audit import audit\n",
    "audit(final_folder, year)"
   ]
  },
  {
   "cell_type": "code",
   "execution_count": null,
   "id": "cdae6d07-58be-4b3c-b769-ccb4184f0af5",
   "metadata": {
    "scrolled": true
   },
   "outputs": [],
   "source": [
    "# Fusiona ciclos fiscales 2023, 2024, 2025\n",
    "from PREI_merger_and_audit import fusion_2023_2025\n",
    "# Define expected headers (adjust as needed)\n",
    "fusion_2023_2025(valid_years, folder_root)"
   ]
  },
  {
   "cell_type": "markdown",
   "id": "ca603fa8-b2ce-4316-9f44-e92bcd410804",
   "metadata": {},
   "source": [
    "# Debugging"
   ]
  },
  {
   "cell_type": "code",
   "execution_count": null,
   "id": "9382a18b-f388-48f9-b739-48ddb19b9e05",
   "metadata": {},
   "outputs": [],
   "source": [
    "from chrome_driver_load import load_chrome\n",
    "import time\n",
    "\n",
    "# Define download folder (not used in this case)\n",
    "download_directory = os.path.expanduser(\"~/Downloads\")\n",
    "\n",
    "# Launch Chrome\n",
    "driver = load_chrome(download_directory)\n",
    "\n",
    "# Open Google\n",
    "if driver:\n",
    "    driver.get(\"https://www.google.com\")\n",
    "    time.sleep(5)  # Let the page load for a few seconds\n",
    "    driver.quit()\n",
    "else:\n",
    "    print(\"Driver failed to start.\")\n"
   ]
  },
  {
   "cell_type": "code",
   "execution_count": null,
   "id": "dce4e559-08af-4f4a-b393-19766dc5dbc9",
   "metadata": {},
   "outputs": [],
   "source": []
  }
 ],
 "metadata": {
  "kernelspec": {
   "display_name": "Python 3 (ipykernel)",
   "language": "python",
   "name": "python3"
  },
  "language_info": {
   "codemirror_mode": {
    "name": "ipython",
    "version": 3
   },
   "file_extension": ".py",
   "mimetype": "text/x-python",
   "name": "python",
   "nbconvert_exporter": "python",
   "pygments_lexer": "ipython3",
   "version": "3.13.3"
  }
 },
 "nbformat": 4,
 "nbformat_minor": 5
}
