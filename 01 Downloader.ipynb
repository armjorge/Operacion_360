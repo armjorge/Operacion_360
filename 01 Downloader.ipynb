{
 "cells": [
  {
   "cell_type": "markdown",
   "id": "02977ba0-07cb-4b2b-af33-fb73b4687ccf",
   "metadata": {},
   "source": [
    "Orquestador de ventas 360: resumen\n",
    "- Descargar xlsx de sistemas SAI, CAMUNDA, SAGI, ZOHO y PISP. \n",
    "- Descargar pdfs de sistema CAMUNDA\n",
    "Todo lo anterior es la información mínima indispensable para poder generar información de ventas, que será la referencia interna sobre la que desplegaremos el alimentado de reportes y la generación de reglas para dar retro al usuario."
   ]
  },
  {
   "cell_type": "code",
   "execution_count": 1,
   "id": "4fd5fb35-7fd7-4d94-a322-8d3357926be9",
   "metadata": {
    "jupyter": {
     "source_hidden": true
    }
   },
   "outputs": [],
   "source": [
    "# Importa librerías y chromedriver\n",
    "import sys\n",
    "import os\n",
    "import glob\n",
    "import yaml\n",
    "import pandas as pd\n",
    "from datetime import datetime\n",
    "import shutil\n",
    "# Define the root and script directory\n",
    "folder_root = os.getcwd()  # Get current directory (where Orquestación.ipynb is)\n",
    "script_folder = os.path.join(folder_root, \"Scripts\")  # Path to 'Scripts'\n",
    "# Ensure the script folder is added to sys.path\n",
    "if script_folder not in sys.path:\n",
    "    sys.path.append(script_folder)\n",
    "Libreria_SAI = os.path.join(script_folder, \"Libreria_SAI\")\n",
    "if Libreria_SAI not in sys.path:\n",
    "    sys.path.append(Libreria_SAI)\n",
    "Libreria_comunes = os.path.join(script_folder, \"Libreria_comunes\")\n",
    "if Libreria_comunes not in sys.path:\n",
    "    sys.path.append(Libreria_comunes)\n",
    "Libreria_camunda = os.path.join(script_folder, \"Libreria_camunda\")\n",
    "if Libreria_camunda not in sys.path:\n",
    "    sys.path.append(Libreria_camunda)\n",
    "Libreria_SAGI = os.path.join(script_folder, \"Libreria_SAGI\")\n",
    "if Libreria_SAGI not in sys.path:\n",
    "    sys.path.append(Libreria_SAGI)\n",
    "\n",
    "Libreria_PREI = os.path.join(script_folder, \"Libreria_PREI\")\n",
    "if Libreria_PREI not in sys.path:\n",
    "    sys.path.append(Libreria_PREI)\n",
    "from chrome_driver_load import load_chrome\n"
   ]
  },
  {
   "cell_type": "code",
   "execution_count": 2,
   "id": "878dd1ad-c4fa-46d3-a675-08b799d042c0",
   "metadata": {
    "jupyter": {
     "source_hidden": true
    }
   },
   "outputs": [
    {
     "name": "stdout",
     "output_type": "stream",
     "text": [
      "Archivo cargado correctamente: passwords.yaml\n"
     ]
    }
   ],
   "source": [
    "# Generar o cargar el archivo con contraseñas\n",
    "output_yaml = os.path.join(folder_root, \"Implementación\", \"passwords.yaml\")\n",
    "yaml_exists = os.path.exists(output_yaml)\n",
    "\n",
    "if yaml_exists:\n",
    "    # Abrir y cargar el contenido YAML en un diccionario\n",
    "    with open(output_yaml, 'r', encoding='utf-8') as f:\n",
    "        data_access = yaml.safe_load(f)\n",
    "    print(f\"Archivo cargado correctamente: {os.path.basename(output_yaml)}\")\n",
    "    #print(\"Contenido:\", data_access)\n",
    "    #sys.exit()\n",
    "\n",
    "else: \n",
    "    platforms = [\"SAI\", \"PREI\", \"CAMUNDA\", \"SAGI\"]\n",
    "    fields    = [\"password\", \"user\", \"link\"]\n",
    "    \n",
    "    lines = []\n",
    "    for platform in platforms:\n",
    "        for field in fields:\n",
    "            # clave = valor vacío\n",
    "            lines.append(f\"{platform}_{field}: \")\n",
    "        lines.append(\"\")  # línea en blanco entre bloques\n",
    "    \n",
    "    # Escribe el archivo YAML (aunque use \"=\" tal como en tu ejemplo)\n",
    "    with open(output_yaml, \"w\", encoding=\"utf-8\") as f:\n",
    "        f.write(\"\\n\".join(lines))\n",
    "    \n",
    "    print(f\"Archivo generado correctamente en: {output_yaml}\")\n",
    "    print(passwords)\n"
   ]
  },
  {
   "cell_type": "markdown",
   "id": "7edd1518-3ae4-43b6-b7b8-779ce0f52682",
   "metadata": {},
   "source": [
    "# IMSS"
   ]
  },
  {
   "cell_type": "markdown",
   "id": "7d2e99ce-57f8-4a4d-98d0-3b571d13a87c",
   "metadata": {},
   "source": [
    "## SAI\n",
    "Esta consola de jupyter lab es se va a encargar de: \n",
    "- Descargar órdenes y altas del sistema SAI"
   ]
  },
  {
   "cell_type": "code",
   "execution_count": null,
   "id": "c5676773-3299-44b3-b68b-ca9ec1ff7ec8",
   "metadata": {
    "jupyter": {
     "source_hidden": true
    },
    "scrolled": true
   },
   "outputs": [],
   "source": [
    "## Descargar SAI\n",
    "from SAI_download import SAI_download\n",
    "\n",
    "# Define the available date ranges\n",
    "today_date = datetime.now().strftime('%d/%m/%Y')\n",
    "date_ranges = {\n",
    "    2023: ('01/01/2023', '31/12/2023'), \n",
    "    2024: ('01/01/2024', '31/12/2024'), \n",
    "    2025: ('01/01/2025', today_date)  # Uses today's date for 2025 end date\n",
    "}\n",
    "\n",
    "# Ask the user for a valid year\n",
    "while True:\n",
    "    try:\n",
    "        year_selected = int(input(f\"Which year will we download? {list(date_ranges.keys())}: \"))\n",
    "        if year_selected in date_ranges:\n",
    "            print(f\"\\t{year_selected}\")\n",
    "            break\n",
    "        else:\n",
    "            print(\"Invalid year. Please select from the available options.\")\n",
    "    except ValueError:\n",
    "        print(\"Invalid input. Please enter a valid year.\")\n",
    "\n",
    "# Retrieve the selected date range\n",
    "range_date = date_ranges[year_selected]\n",
    "\n",
    "# Define your download directory\n",
    "download_directory = os.path.join(folder_root, 'Implementación', 'SAI', f\"{year_selected} Temporal\")\n",
    "\n",
    "# Load Chrome with the download directory\n",
    "driver = load_chrome(download_directory)\n",
    "SAI_password = data_access.get(\"SAI_password\")\n",
    "SAI_user = data_access.get(\"SAI_user\")\n",
    "if driver:\n",
    "    # Execute the SAI download process with the selected date range\n",
    "    SAI_download(driver, SAI_user, SAI_password, range_date)\n",
    "    \n",
    "    # Optionally, close the driver when done\n",
    "    driver.quit()"
   ]
  },
  {
   "cell_type": "code",
   "execution_count": null,
   "id": "76d821af-f361-4919-9621-afa7fa174957",
   "metadata": {
    "jupyter": {
     "source_hidden": true
    },
    "scrolled": true
   },
   "outputs": [],
   "source": [
    "# Mover los archivos descargados\n",
    "# Define headers\n",
    "from openpyxl import load_workbook  # To read metadata from Excel files\n",
    "\n",
    "Altas_headers = [\n",
    "    \"noAlta\", \"fechaAltaTrunc\", \"noContrato\", \"noOrden\", \"clave\", \"cantRecibida\", \"importe\",\n",
    "    \"fpp\", \"clasPtalRecep\", \"descUnidad\", \"clasPtalDist\", \"descDist\", \"totalItems\", \"resguardo\"\n",
    "]\n",
    "\n",
    "Ordenes_headers = [\n",
    "    \"contrato\", \"solicitud\", \"orden\", \"generacion\", \"cveArticulo\", \"fechaExpedicion\",\n",
    "    \"lugarEntrega\", \"descripciónEntrega\", \"direccionEntrega\", \"destinoFinal\", \"estatus\",\n",
    "    \"fechaEntrega\", \"cantidadSolicitada\", \"precio\", \"importeSinIva\"\n",
    "]\n",
    "\n",
    "\n",
    "# Iterate through each year\n",
    "\n",
    "def get_excel_creation_date(file_path):\n",
    "    \"\"\"\n",
    "    Extracts the real creation date from an Excel file's metadata.\n",
    "    If metadata is unavailable, falls back to file system modification time.\n",
    "    \"\"\"\n",
    "    try:\n",
    "        workbook = load_workbook(file_path, read_only=True)\n",
    "        props = workbook.properties\n",
    "        created_date = props.created\n",
    "        workbook.close()  # ✅ esto libera el archivo correctamente\n",
    "        if created_date:\n",
    "            return created_date\n",
    "    except Exception as e:\n",
    "        print(f\"Error reading metadata from {file_path}: {e}\")\n",
    "\n",
    "    return datetime.fromtimestamp(os.path.getmtime(file_path))\n",
    "\n",
    "for year_processed in date_ranges.keys():\n",
    "    # Define directories\n",
    "    Temporal = os.path.join(folder_root, 'Implementación', 'SAI', f\"{year_processed} Temporal\")\n",
    "    Final = os.path.join(folder_root, 'Implementación', 'SAI', f\"{year_processed} Final\")\n",
    "\n",
    "    # Ensure directories exist\n",
    "    os.makedirs(Final, exist_ok=True)\n",
    "\n",
    "    # Get all Excel files in Temporal\n",
    "    files = [f for f in os.listdir(Temporal) if f.endswith('.xlsx')]\n",
    "\n",
    "    for file in files:\n",
    "        file_path = os.path.join(Temporal, file)\n",
    "\n",
    "        # Read the file headers\n",
    "        try:\n",
    "            #df = pd.read_excel(file_path, nrows=1)  # Read only the first row for headers\n",
    "            with open(file_path, 'rb') as f:\n",
    "                df = pd.read_excel(f, nrows=1)\n",
    "        except Exception as e:\n",
    "            print(f\"Error reading {file}: {e}\")\n",
    "            continue\n",
    "\n",
    "        file_headers = list(df.columns)  # Get the headers from the file\n",
    "\n",
    "        # Determine file type\n",
    "        if file_headers == Ordenes_headers:\n",
    "            prefix = \"Ordenes\"\n",
    "        elif file_headers == Altas_headers:\n",
    "            prefix = \"Altas\"\n",
    "        else:\n",
    "            print(f\"{file} does not fit either as Altas or Ordenes. Skipping.\")\n",
    "            continue\n",
    "\n",
    "        # Get file creation date\n",
    "        # Get file creation date from metadata or system\n",
    "        file_creation_time = get_excel_creation_date(file_path)\n",
    "        formatted_date = f\"{file_creation_time.year} {file_creation_time.month:02d} {file_creation_time.day:02d}\"\n",
    "\n",
    "        # Define new file name\n",
    "        new_filename = f\"{formatted_date} {prefix}.xlsx\"\n",
    "        new_file_path = os.path.join(Final, new_filename)\n",
    "\n",
    "        # Move and rename file\n",
    "        shutil.move(file_path, new_file_path)\n",
    "        print(f\"\\t{os.path.basename(Final)}\")\n",
    "        print(f\"Moved: {file} -> {new_filename}\")"
   ]
  },
  {
   "cell_type": "code",
   "execution_count": null,
   "id": "a8a95c1a-3205-4353-9e36-8a09b5236615",
   "metadata": {
    "jupyter": {
     "source_hidden": true
    }
   },
   "outputs": [],
   "source": [
    "# Fusionar los archivos descargados\n",
    "# Ejemplo de uso:\n",
    "from SAI_processing import merge_SAI_files\n",
    "\n",
    "SAI_folder = os.path.join(folder_root, 'Implementación', 'SAI')\n",
    "alta_pivots  = ['noAlta', 'fechaAltaTrunc']\n",
    "orden_pivots = ['orden', 'fechaExpedicion']\n",
    "date_regex= r'(\\d{4} \\d{2} \\d{2})'\n",
    "date_parse_format='%Y %m %d'\n",
    "Output_filename = \"Ordenes_altas.xlsx\"\n",
    "merge_SAI_files(SAI_folder, alta_pivots, orden_pivots, date_regex, date_parse_format, Output_filename)\n",
    "\n"
   ]
  },
  {
   "cell_type": "markdown",
   "id": "4cf07651-5ab6-459d-9004-3c0b7f6ad0d1",
   "metadata": {},
   "source": [
    "## PREI"
   ]
  },
  {
   "cell_type": "code",
   "execution_count": 3,
   "id": "e64afae5-66b2-44ef-a343-a216eb76a795",
   "metadata": {
    "jupyter": {
     "source_hidden": true
    }
   },
   "outputs": [],
   "source": [
    "# Carga librerías y define el año a descargar.\n",
    "from PREI_downloader import PREI_downloader\n",
    "\n",
    "PREI_password = data_access.get(\"PREI_password\")\n",
    "PREI_user = data_access.get(\"PREI_user\") \n",
    "# Allowed years\n",
    "valid_years = {\"2023\", \"2024\", \"2025\"}"
   ]
  },
  {
   "cell_type": "code",
   "execution_count": 9,
   "id": "35f48409-627c-4c44-a8f1-9539d0b3716d",
   "metadata": {
    "jupyter": {
     "source_hidden": true
    }
   },
   "outputs": [
    {
     "name": "stdin",
     "output_type": "stream",
     "text": [
      "Enter a year (2023, 2024, 2025):  2023\n"
     ]
    },
    {
     "name": "stdout",
     "output_type": "stream",
     "text": [
      "The file 2023_dates.xlsx exists.\n",
      "The file 2023 Temporal exists.\n",
      "The file 2023 Final exists.\n"
     ]
    }
   ],
   "source": [
    "# Loop until a valid year is entered\n",
    "\n",
    "while True:\n",
    "    year = input(\"Enter a year (2023, 2024, 2025): \").strip()\n",
    "    if year in valid_years:\n",
    "        break\n",
    "    else:\n",
    "        print(\"Invalid year. Please try again.\")\n",
    "\n",
    "# Create paths using f-strings to substitute the year\n",
    "dates = os.path.join(folder_root, 'Implementación', 'PREI', f\"{year}_dates.xlsx\")\n",
    "temp_folder = os.path.join(folder_root, 'Implementación', 'PREI', f\"{year} Temporal\")\n",
    "final_folder = os.path.join(folder_root, 'Implementación', 'PREI', f\"{year} Final\")\n",
    "# Check if the Excel file exists\n",
    "def check_if_exists(element):\n",
    "    if os.path.exists(element):\n",
    "        print(f\"The file {os.path.basename(element)} exists.\")\n",
    "    else:\n",
    "        print(f\"The file {os.path.basename(element)} does not exist.\")\n",
    "check_if_exists(dates)\n",
    "check_if_exists(temp_folder)\n",
    "check_if_exists(final_folder)\n"
   ]
  },
  {
   "cell_type": "code",
   "execution_count": 10,
   "id": "1f5b1b69-d04a-469b-9df5-eb1e609a7720",
   "metadata": {
    "jupyter": {
     "source_hidden": true
    },
    "scrolled": true
   },
   "outputs": [
    {
     "name": "stdout",
     "output_type": "stream",
     "text": [
      "Missing or invalid files for the following date ranges:\n",
      "   DATE START    DATE END\n",
      "0  01/04/2023  15/04/2023\n",
      "1  16/04/2023  30/04/2023\n",
      "2  01/05/2023  31/05/2023\n",
      "3  01/06/2023  30/06/2023\n",
      "4  01/07/2023  15/07/2023\n",
      "01-04-2023 to 15-04-2023\n",
      "16-04-2023 to 30-04-2023\n",
      "01-05-2023 to 31-05-2023\n",
      "01-06-2023 to 30-06-2023\n",
      "01-07-2023 to 15-07-2023\n",
      "16-07-2023 to 20-07-2023\n",
      "21-07-2023 to 31-07-2023\n",
      "01-08-2023 to 15-08-2023\n",
      "16-08-2023 to 31-08-2023\n",
      "01-09-2023 to 15-09-2023\n",
      "16-09-2023 to 30-09-2023\n",
      "01-10-2023 to 15-10-2023\n",
      "16-10-2023 to 31-10-2023\n",
      "01-11-2023 to 15-11-2023\n",
      "16-11-2023 to 25-11-2023\n",
      "26-11-2023 to 30-11-2023\n",
      "01-12-2023 to 10-12-2023\n",
      "11-12-2023 to 20-12-2023\n",
      "21-12-2023 to 31-12-2023\n"
     ]
    },
    {
     "ename": "NoSuchWindowException",
     "evalue": "Message: no such window: target window already closed\nfrom unknown error: web view not found\n  (Session info: chrome=135.0.7049.95)\nStacktrace:\n\tGetHandleVerifier [0x00007FF755CA5355+78597]\n\tGetHandleVerifier [0x00007FF755CA53B0+78688]\n\t(No symbol) [0x00007FF755A591AA]\n\t(No symbol) [0x00007FF755A31B63]\n\t(No symbol) [0x00007FF755ADEB6E]\n\t(No symbol) [0x00007FF755AFEBB2]\n\t(No symbol) [0x00007FF755AD6EC3]\n\t(No symbol) [0x00007FF755AA03F8]\n\t(No symbol) [0x00007FF755AA1163]\n\tGetHandleVerifier [0x00007FF755F4EF0D+2870973]\n\tGetHandleVerifier [0x00007FF755F496B8+2848360]\n\tGetHandleVerifier [0x00007FF755F66993+2967875]\n\tGetHandleVerifier [0x00007FF755CC019A+188746]\n\tGetHandleVerifier [0x00007FF755CC847F+222255]\n\tGetHandleVerifier [0x00007FF755CAD2D4+111236]\n\tGetHandleVerifier [0x00007FF755CAD482+111666]\n\tGetHandleVerifier [0x00007FF755C935A9+5465]\n\tBaseThreadInitThunk [0x00007FFF155AE8D7+23]\n\tRtlUserThreadStart [0x00007FFF166B14FC+44]\n",
     "output_type": "error",
     "traceback": [
      "\u001b[31m---------------------------------------------------------------------------\u001b[39m",
      "\u001b[31mNoSuchWindowException\u001b[39m                     Traceback (most recent call last)",
      "\u001b[36mCell\u001b[39m\u001b[36m \u001b[39m\u001b[32mIn[10]\u001b[39m\u001b[32m, line 5\u001b[39m\n\u001b[32m      2\u001b[39m driver = load_chrome(temp_folder)\n\u001b[32m      3\u001b[39m \u001b[38;5;28;01mif\u001b[39;00m driver:\n\u001b[32m      4\u001b[39m     \u001b[38;5;66;03m# Call the function with your login credentialstemp_folder(username and password)\u001b[39;00m\n\u001b[32m----> \u001b[39m\u001b[32m5\u001b[39m     \u001b[43mPREI_downloader\u001b[49m\u001b[43m(\u001b[49m\u001b[43mdriver\u001b[49m\u001b[43m,\u001b[49m\u001b[43m \u001b[49m\u001b[43mPREI_user\u001b[49m\u001b[43m,\u001b[49m\u001b[43m \u001b[49m\u001b[43mPREI_password\u001b[49m\u001b[43m,\u001b[49m\u001b[43m \u001b[49m\u001b[43mtemp_folder\u001b[49m\u001b[43m,\u001b[49m\u001b[43m \u001b[49m\u001b[43mdates\u001b[49m\u001b[43m)\u001b[49m\n\u001b[32m      6\u001b[39m     driver.quit()\n",
      "\u001b[36mFile \u001b[39m\u001b[32m~\\Dropbox\\3. Armando Cuaxospa\\Adjudicaciones\\Licitaciones 2025\\E115 360\\Scripts\\Libreria_PREI\\PREI_downloader.py:282\u001b[39m, in \u001b[36mPREI_downloader\u001b[39m\u001b[34m(driver, username, password, download_directory, excel_file)\u001b[39m\n\u001b[32m    280\u001b[39m     \u001b[38;5;28mprint\u001b[39m(\u001b[33mf\u001b[39m\u001b[33m\"\u001b[39m\u001b[38;5;132;01m{\u001b[39;00mconvert_date_format(row[\u001b[33m'\u001b[39m\u001b[33mDATE START\u001b[39m\u001b[33m'\u001b[39m])\u001b[38;5;132;01m}\u001b[39;00m\u001b[33m to \u001b[39m\u001b[38;5;132;01m{\u001b[39;00mconvert_date_format(row[\u001b[33m'\u001b[39m\u001b[33mDATE END\u001b[39m\u001b[33m'\u001b[39m])\u001b[38;5;132;01m}\u001b[39;00m\u001b[33m\"\u001b[39m)\n\u001b[32m    281\u001b[39m \u001b[38;5;66;03m# Attempt to download the missing files\u001b[39;00m\n\u001b[32m--> \u001b[39m\u001b[32m282\u001b[39m \u001b[43mdownload_files\u001b[49m\u001b[43m(\u001b[49m\u001b[43mdriver\u001b[49m\u001b[43m,\u001b[49m\u001b[43m \u001b[49m\u001b[43mdf_missing\u001b[49m\u001b[43m,\u001b[49m\u001b[43m \u001b[49m\u001b[43musername\u001b[49m\u001b[43m,\u001b[49m\u001b[43m \u001b[49m\u001b[43mpassword\u001b[49m\u001b[43m)\u001b[49m\n",
      "\u001b[36mFile \u001b[39m\u001b[32m~\\Dropbox\\3. Armando Cuaxospa\\Adjudicaciones\\Licitaciones 2025\\E115 360\\Scripts\\Libreria_PREI\\PREI_downloader.py:91\u001b[39m, in \u001b[36mdownload_files\u001b[39m\u001b[34m(driver, df, username, password)\u001b[39m\n\u001b[32m     88\u001b[39m time.sleep(\u001b[32m2\u001b[39m)\n\u001b[32m     90\u001b[39m \u001b[38;5;66;03m# Login Process using the provided credentials\u001b[39;00m\n\u001b[32m---> \u001b[39m\u001b[32m91\u001b[39m \u001b[43mWebDriverWait\u001b[49m\u001b[43m(\u001b[49m\u001b[43mdriver\u001b[49m\u001b[43m,\u001b[49m\u001b[43m \u001b[49m\u001b[32;43m30\u001b[39;49m\u001b[43m)\u001b[49m\u001b[43m.\u001b[49m\u001b[43muntil\u001b[49m\u001b[43m(\u001b[49m\u001b[43mEC\u001b[49m\u001b[43m.\u001b[49m\u001b[43melement_to_be_clickable\u001b[49m\u001b[43m(\u001b[49m\u001b[43m(\u001b[49m\u001b[43mBy\u001b[49m\u001b[43m.\u001b[49m\u001b[43mXPATH\u001b[49m\u001b[43m,\u001b[49m\u001b[43m \u001b[49m\u001b[43melements_xpaths\u001b[49m\u001b[43m[\u001b[49m\u001b[33;43m'\u001b[39;49m\u001b[33;43mclose_button\u001b[39;49m\u001b[33;43m'\u001b[39;49m\u001b[43m]\u001b[49m\u001b[43m)\u001b[49m\u001b[43m)\u001b[49m\u001b[43m)\u001b[49m\n\u001b[32m     92\u001b[39m driver.find_element(By.XPATH, elements_xpaths[\u001b[33m'\u001b[39m\u001b[33mclose_button\u001b[39m\u001b[33m'\u001b[39m]).click()\n\u001b[32m     93\u001b[39m WebDriverWait(driver, \u001b[32m30\u001b[39m).until(EC.element_to_be_clickable((By.XPATH, elements_xpaths[\u001b[33m'\u001b[39m\u001b[33mLogin_button\u001b[39m\u001b[33m'\u001b[39m])))\n",
      "\u001b[36mFile \u001b[39m\u001b[32m~\\Documents\\venv\\Lib\\site-packages\\selenium\\webdriver\\support\\wait.py:137\u001b[39m, in \u001b[36mWebDriverWait.until\u001b[39m\u001b[34m(self, method, message)\u001b[39m\n\u001b[32m    135\u001b[39m \u001b[38;5;28;01mwhile\u001b[39;00m \u001b[38;5;28;01mTrue\u001b[39;00m:\n\u001b[32m    136\u001b[39m     \u001b[38;5;28;01mtry\u001b[39;00m:\n\u001b[32m--> \u001b[39m\u001b[32m137\u001b[39m         value = \u001b[43mmethod\u001b[49m\u001b[43m(\u001b[49m\u001b[38;5;28;43mself\u001b[39;49m\u001b[43m.\u001b[49m\u001b[43m_driver\u001b[49m\u001b[43m)\u001b[49m\n\u001b[32m    138\u001b[39m         \u001b[38;5;28;01mif\u001b[39;00m value:\n\u001b[32m    139\u001b[39m             \u001b[38;5;28;01mreturn\u001b[39;00m value\n",
      "\u001b[36mFile \u001b[39m\u001b[32m~\\Documents\\venv\\Lib\\site-packages\\selenium\\webdriver\\support\\expected_conditions.py:633\u001b[39m, in \u001b[36melement_to_be_clickable.<locals>._predicate\u001b[39m\u001b[34m(driver)\u001b[39m\n\u001b[32m    631\u001b[39m target = mark\n\u001b[32m    632\u001b[39m \u001b[38;5;28;01mif\u001b[39;00m \u001b[38;5;129;01mnot\u001b[39;00m \u001b[38;5;28misinstance\u001b[39m(target, WebElement):  \u001b[38;5;66;03m# if given locator instead of WebElement\u001b[39;00m\n\u001b[32m--> \u001b[39m\u001b[32m633\u001b[39m     target = \u001b[43mdriver\u001b[49m\u001b[43m.\u001b[49m\u001b[43mfind_element\u001b[49m\u001b[43m(\u001b[49m\u001b[43m*\u001b[49m\u001b[43mtarget\u001b[49m\u001b[43m)\u001b[49m  \u001b[38;5;66;03m# grab element at locator\u001b[39;00m\n\u001b[32m    634\u001b[39m element = visibility_of(target)(driver)\n\u001b[32m    635\u001b[39m \u001b[38;5;28;01mif\u001b[39;00m element \u001b[38;5;129;01mand\u001b[39;00m element.is_enabled():\n",
      "\u001b[36mFile \u001b[39m\u001b[32m~\\Documents\\venv\\Lib\\site-packages\\selenium\\webdriver\\remote\\webdriver.py:898\u001b[39m, in \u001b[36mWebDriver.find_element\u001b[39m\u001b[34m(self, by, value)\u001b[39m\n\u001b[32m    895\u001b[39m         \u001b[38;5;28;01mraise\u001b[39;00m NoSuchElementException(\u001b[33mf\u001b[39m\u001b[33m\"\u001b[39m\u001b[33mCannot locate relative element with: \u001b[39m\u001b[38;5;132;01m{\u001b[39;00mby.root\u001b[38;5;132;01m}\u001b[39;00m\u001b[33m\"\u001b[39m)\n\u001b[32m    896\u001b[39m     \u001b[38;5;28;01mreturn\u001b[39;00m elements[\u001b[32m0\u001b[39m]\n\u001b[32m--> \u001b[39m\u001b[32m898\u001b[39m \u001b[38;5;28;01mreturn\u001b[39;00m \u001b[38;5;28;43mself\u001b[39;49m\u001b[43m.\u001b[49m\u001b[43mexecute\u001b[49m\u001b[43m(\u001b[49m\u001b[43mCommand\u001b[49m\u001b[43m.\u001b[49m\u001b[43mFIND_ELEMENT\u001b[49m\u001b[43m,\u001b[49m\u001b[43m \u001b[49m\u001b[43m{\u001b[49m\u001b[33;43m\"\u001b[39;49m\u001b[33;43musing\u001b[39;49m\u001b[33;43m\"\u001b[39;49m\u001b[43m:\u001b[49m\u001b[43m \u001b[49m\u001b[43mby\u001b[49m\u001b[43m,\u001b[49m\u001b[43m \u001b[49m\u001b[33;43m\"\u001b[39;49m\u001b[33;43mvalue\u001b[39;49m\u001b[33;43m\"\u001b[39;49m\u001b[43m:\u001b[49m\u001b[43m \u001b[49m\u001b[43mvalue\u001b[49m\u001b[43m}\u001b[49m\u001b[43m)\u001b[49m[\u001b[33m\"\u001b[39m\u001b[33mvalue\u001b[39m\u001b[33m\"\u001b[39m]\n",
      "\u001b[36mFile \u001b[39m\u001b[32m~\\Documents\\venv\\Lib\\site-packages\\selenium\\webdriver\\remote\\webdriver.py:429\u001b[39m, in \u001b[36mWebDriver.execute\u001b[39m\u001b[34m(self, driver_command, params)\u001b[39m\n\u001b[32m    427\u001b[39m response = \u001b[38;5;28mself\u001b[39m.command_executor.execute(driver_command, params)\n\u001b[32m    428\u001b[39m \u001b[38;5;28;01mif\u001b[39;00m response:\n\u001b[32m--> \u001b[39m\u001b[32m429\u001b[39m     \u001b[38;5;28;43mself\u001b[39;49m\u001b[43m.\u001b[49m\u001b[43merror_handler\u001b[49m\u001b[43m.\u001b[49m\u001b[43mcheck_response\u001b[49m\u001b[43m(\u001b[49m\u001b[43mresponse\u001b[49m\u001b[43m)\u001b[49m\n\u001b[32m    430\u001b[39m     response[\u001b[33m\"\u001b[39m\u001b[33mvalue\u001b[39m\u001b[33m\"\u001b[39m] = \u001b[38;5;28mself\u001b[39m._unwrap_value(response.get(\u001b[33m\"\u001b[39m\u001b[33mvalue\u001b[39m\u001b[33m\"\u001b[39m, \u001b[38;5;28;01mNone\u001b[39;00m))\n\u001b[32m    431\u001b[39m     \u001b[38;5;28;01mreturn\u001b[39;00m response\n",
      "\u001b[36mFile \u001b[39m\u001b[32m~\\Documents\\venv\\Lib\\site-packages\\selenium\\webdriver\\remote\\errorhandler.py:232\u001b[39m, in \u001b[36mErrorHandler.check_response\u001b[39m\u001b[34m(self, response)\u001b[39m\n\u001b[32m    230\u001b[39m         alert_text = value[\u001b[33m\"\u001b[39m\u001b[33malert\u001b[39m\u001b[33m\"\u001b[39m].get(\u001b[33m\"\u001b[39m\u001b[33mtext\u001b[39m\u001b[33m\"\u001b[39m)\n\u001b[32m    231\u001b[39m     \u001b[38;5;28;01mraise\u001b[39;00m exception_class(message, screen, stacktrace, alert_text)  \u001b[38;5;66;03m# type: ignore[call-arg]  # mypy is not smart enough here\u001b[39;00m\n\u001b[32m--> \u001b[39m\u001b[32m232\u001b[39m \u001b[38;5;28;01mraise\u001b[39;00m exception_class(message, screen, stacktrace)\n",
      "\u001b[31mNoSuchWindowException\u001b[39m: Message: no such window: target window already closed\nfrom unknown error: web view not found\n  (Session info: chrome=135.0.7049.95)\nStacktrace:\n\tGetHandleVerifier [0x00007FF755CA5355+78597]\n\tGetHandleVerifier [0x00007FF755CA53B0+78688]\n\t(No symbol) [0x00007FF755A591AA]\n\t(No symbol) [0x00007FF755A31B63]\n\t(No symbol) [0x00007FF755ADEB6E]\n\t(No symbol) [0x00007FF755AFEBB2]\n\t(No symbol) [0x00007FF755AD6EC3]\n\t(No symbol) [0x00007FF755AA03F8]\n\t(No symbol) [0x00007FF755AA1163]\n\tGetHandleVerifier [0x00007FF755F4EF0D+2870973]\n\tGetHandleVerifier [0x00007FF755F496B8+2848360]\n\tGetHandleVerifier [0x00007FF755F66993+2967875]\n\tGetHandleVerifier [0x00007FF755CC019A+188746]\n\tGetHandleVerifier [0x00007FF755CC847F+222255]\n\tGetHandleVerifier [0x00007FF755CAD2D4+111236]\n\tGetHandleVerifier [0x00007FF755CAD482+111666]\n\tGetHandleVerifier [0x00007FF755C935A9+5465]\n\tBaseThreadInitThunk [0x00007FFF155AE8D7+23]\n\tRtlUserThreadStart [0x00007FFF166B14FC+44]\n"
     ]
    }
   ],
   "source": [
    "# Descargar XLS del PREI\n",
    "driver = load_chrome(temp_folder)\n",
    "if driver:\n",
    "    # Call the function with your login credentialstemp_folder(username and password)\n",
    "    PREI_downloader(driver, PREI_user, PREI_password, temp_folder, dates)\n",
    "    driver.quit()"
   ]
  },
  {
   "cell_type": "code",
   "execution_count": 6,
   "id": "b904f968-c4d3-407f-9b64-0b05c0e84649",
   "metadata": {
    "jupyter": {
     "source_hidden": true
    }
   },
   "outputs": [
    {
     "name": "stdout",
     "output_type": "stream",
     "text": [
      "Deleted file: [FacturaVsCR][0000150462][01-01-2025][13-03-2025].xls\n",
      "Moved file: [FacturaVsCR][0000150462][01-01-2025][22-04-2025].xls to 2025 Final\n"
     ]
    }
   ],
   "source": [
    "# Mover arhivos descargados a su carpeta final\n",
    "from PREI_merger_and_audit import move_files\n",
    "move_files(temp_folder, final_folder)"
   ]
  },
  {
   "cell_type": "code",
   "execution_count": 11,
   "id": "77cca7e4-285a-4741-9b45-523f0a8fd76b",
   "metadata": {},
   "outputs": [
    {
     "name": "stdout",
     "output_type": "stream",
     "text": [
      "\n",
      "Abriendo los exceles fuentes:\n",
      "Combinando exceles en la carpeta: {'2023 Final'} \n",
      "\n",
      "Reporte al 22/04/25 15:36\n",
      "\n",
      "Reporte Al: 22/04/25 15:36\n",
      "\n",
      "En proceso: 221,217.00\n",
      "Aprobado: 4,440.00\n",
      "Pagado: 91,831,547.00\n",
      "Total: 92,057,204.00\n",
      "\n",
      "\n",
      "Información copiada al portapapeles\n"
     ]
    }
   ],
   "source": [
    "# Genera un solo excel con la información de todos\n",
    "from PREI_merger_and_audit import merge_files\n",
    "merge_files(temp_folder, final_folder)"
   ]
  },
  {
   "cell_type": "code",
   "execution_count": 8,
   "id": "5f489eae-5031-4e08-8bf3-f87e916c25f6",
   "metadata": {},
   "outputs": [
    {
     "name": "stdout",
     "output_type": "stream",
     "text": [
      "Data extraction and processing complete. 2025 audit.xlsx has been updated.\n"
     ]
    }
   ],
   "source": [
    "# Audita los archivos\n",
    "from PREI_merger_and_audit import audit\n",
    "audit(final_folder, year)"
   ]
  },
  {
   "cell_type": "code",
   "execution_count": 12,
   "id": "cdae6d07-58be-4b3c-b769-ccb4184f0af5",
   "metadata": {
    "scrolled": true
   },
   "outputs": [
    {
     "name": "stdout",
     "output_type": "stream",
     "text": [
      "DEBUG: Today's date for file search: 2025 04 22\n",
      "DEBUG: Looking in folder: 2025 Final\n",
      "DEBUG: Using glob pattern: 2025 04 22 PISP *h.xlsx\n",
      "DEBUG: Files found:\n",
      "2025 04 22 PISP 15h.xlsx\n",
      "DEBUG: Found file: 2025 04 22 PISP 15h.xlsx with hour: 15\n",
      "DEBUG: Selected recent file for folder 2025 Final: 2025 04 22 PISP 15h.xlsx\n",
      "DEBUG: Successfully read file: 2025 04 22 PISP 15h.xlsx\n",
      "DEBUG: Looking in folder: 2024 Final\n",
      "DEBUG: Using glob pattern: 2025 04 22 PISP *h.xlsx\n",
      "DEBUG: Files found:\n",
      "2025 04 22 PISP 15h.xlsx\n",
      "DEBUG: Found file: 2025 04 22 PISP 15h.xlsx with hour: 15\n",
      "DEBUG: Selected recent file for folder 2024 Final: 2025 04 22 PISP 15h.xlsx\n",
      "DEBUG: Successfully read file: 2025 04 22 PISP 15h.xlsx\n",
      "DEBUG: Looking in folder: 2023 Final\n",
      "DEBUG: Using glob pattern: 2025 04 22 PISP *h.xlsx\n",
      "DEBUG: Files found:\n",
      "2025 04 22 PISP 15h.xlsx\n",
      "DEBUG: Found file: 2025 04 22 PISP 15h.xlsx with hour: 15\n",
      "DEBUG: Selected recent file for folder 2023 Final: 2025 04 22 PISP 15h.xlsx\n",
      "DEBUG: Successfully read file: 2025 04 22 PISP 15h.xlsx\n",
      "Master file saved as: C:\\Users\\arman\\Dropbox\\3. Armando Cuaxospa\\Adjudicaciones\\Licitaciones 2025\\E115 360\\Implementación\\PREI\\PREI.xlsx\n"
     ]
    }
   ],
   "source": [
    "# Fusiona ciclos fiscales 2023, 2024, 2025\n",
    "from PREI_merger_and_audit import fusion_2023_2025\n",
    "# Define expected headers (adjust as needed)\n",
    "fusion_2023_2025(valid_years, folder_root)"
   ]
  },
  {
   "cell_type": "markdown",
   "id": "3b57783b-8431-4758-93c5-de1136276580",
   "metadata": {},
   "source": [
    "# Camunda - Órdenes"
   ]
  },
  {
   "cell_type": "code",
   "execution_count": null,
   "id": "4fc16f2b-17eb-4492-a09a-d900a93ae527",
   "metadata": {
    "jupyter": {
     "source_hidden": true
    }
   },
   "outputs": [],
   "source": [
    "from CAMUNDA_login import SAI_camunda\n",
    "\n",
    "download_directory = os.path.join(folder_root,'Implementación', 'CAMUNDA', 'Descargas')\n",
    "\n",
    "# Initialize the Chrome driver with your custom settings\n",
    "driver = load_chrome(download_directory)\n",
    "\n",
    "if driver:\n",
    "    # Execute the Camunda login and initial automation00\n",
    "    CAMUNDA_password = data_access.get(\"CAMUNDA_password\")\n",
    "    CAMUNDA_user = data_access.get(\"CAMUNDA_user\")\n",
    "    SAI_camunda(driver, CAMUNDA_user, CAMUNDA_password)\n",
    "    driver.quit()"
   ]
  },
  {
   "cell_type": "code",
   "execution_count": null,
   "id": "01e8fe43-c177-4fc6-85c7-4296db29d950",
   "metadata": {
    "jupyter": {
     "source_hidden": true
    }
   },
   "outputs": [],
   "source": [
    "from CAMUNDA_merging import CAMUNDA_merging\n",
    "download_directory = os.path.join(folder_root,'Implementación', 'CAMUNDA', 'Descargas')\n",
    "# Create the full path to your YAML file.\n",
    "yaml_file = os.path.join(folder_root, \"df_headers.yaml\")\n",
    "# Open and load the YAML file.\n",
    "with open(yaml_file, \"r\", encoding=\"utf-8\") as file:\n",
    "    data = yaml.load(file, Loader=yaml.FullLoader)\n",
    "INSABI_headers = data.get(\"columns_INSABI\")\n",
    "duplicados = \"NÚMERO DE ORDEN DE SUMINISTRO\"\n",
    "archivo_final = \"Camunda 2023-2025.xlsx\"\n",
    "CAMUNDA_merging(download_directory, INSABI_headers, duplicados, archivo_final)\n"
   ]
  },
  {
   "cell_type": "markdown",
   "id": "8cc56e5a-9ed7-4f57-8c24-904a59b6dc34",
   "metadata": {},
   "source": [
    "### Camunda - Remisiones"
   ]
  },
  {
   "cell_type": "code",
   "execution_count": null,
   "id": "06065f02-d525-4374-b3f0-6a926e84ac41",
   "metadata": {
    "jupyter": {
     "source_hidden": true
    }
   },
   "outputs": [],
   "source": [
    "## Aquí debemos pasar el CSV maestro de la extracción, si no existe skip function entera. \n",
    "## La dirección del output\n",
    "## El webdriver es el mismo"
   ]
  },
  {
   "cell_type": "markdown",
   "id": "fe54e74b-5e80-484b-915a-fe672608b7d2",
   "metadata": {},
   "source": [
    "### SAGi\n"
   ]
  },
  {
   "cell_type": "code",
   "execution_count": 14,
   "id": "c8547426-f593-4955-a6bc-a58d9bd5b0b0",
   "metadata": {
    "jupyter": {
     "source_hidden": true
    }
   },
   "outputs": [
    {
     "name": "stdin",
     "output_type": "stream",
     "text": [
      "\n",
      "Descargamos facturas \n",
      "1)2023-2024 o \n",
      "2)2024?\n",
      " 2\n"
     ]
    },
    {
     "name": "stdout",
     "output_type": "stream",
     "text": [
      "\n",
      "*******************************\n",
      "Navega a la sección elegida: 2024\n",
      "El script va a seleccionar 50 resultados por página y continuar...\n",
      "\n"
     ]
    },
    {
     "name": "stdin",
     "output_type": "stream",
     "text": [
      "Please navigate to the 2024 section and press Enter to continue. \n"
     ]
    },
    {
     "name": "stdout",
     "output_type": "stream",
     "text": [
      "Data extracted and added to output.\n"
     ]
    },
    {
     "name": "stdin",
     "output_type": "stream",
     "text": [
      "Next page button not found or not clickable. Is there only one page of results? (yes/no):  YES\n"
     ]
    },
    {
     "name": "stdout",
     "output_type": "stream",
     "text": [
      "Data for 2024 saved to C:\\Users\\arman\\Dropbox\\3. Armando Cuaxospa\\Adjudicaciones\\Licitaciones 2025\\E115 360\\Implementación\\Descarga de bases\\04 22 2024.xlsx\n",
      "Extraction process completed.\n"
     ]
    }
   ],
   "source": [
    "from SAGI_download import SAGI_download\n",
    "# Initialize Chrome with your custom settings\n",
    "download_directory = os.path.join(folder_root,'Implementación', 'Descarga de bases')\n",
    "driver = load_chrome(download_directory)\n",
    "if driver:\n",
    "    # Call the function with your login credentials (username and password)\n",
    "    SAGI_password = data_access.get(\"SAGI_password\")\n",
    "    SAGI_user = data_access.get(\"SAGI_user\")    \n",
    "    SAGI_download(driver, SAGI_user, SAGI_password, download_directory)\n",
    "    driver.quit()"
   ]
  },
  {
   "cell_type": "code",
   "execution_count": 15,
   "id": "081d6828-1baa-41c6-90f3-3ef3c8eaa094",
   "metadata": {
    "jupyter": {
     "source_hidden": true
    },
    "scrolled": true
   },
   "outputs": [
    {
     "name": "stdout",
     "output_type": "stream",
     "text": [
      "INSABI cargado desde el google sheet\n",
      "\n",
      " DATAFRAME PREVIO\n",
      "<class 'pandas.core.frame.DataFrame'>\n",
      "Index: 1120 entries, 0 to 2473\n",
      "Data columns (total 13 columns):\n",
      " #   Column                Non-Null Count  Dtype  \n",
      "---  ------                --------------  -----  \n",
      " 0   Unnamed: 0            0 non-null      float64\n",
      " 1   Número de oficio      0 non-null      float64\n",
      " 2   Proveedor             1120 non-null   object \n",
      " 3   RFC                   1120 non-null   object \n",
      " 4   Número de contrato    1120 non-null   object \n",
      " 5   Orden de suministro   977 non-null    object \n",
      " 6   Número de factura     1120 non-null   int64  \n",
      " 7   Folio fiscal          1120 non-null   object \n",
      " 8   Total                 1120 non-null   object \n",
      " 9   CLUES                 977 non-null    object \n",
      " 10  Estado de la factura  1120 non-null   object \n",
      " 11  Opciones              1120 non-null   object \n",
      " 12  Factura               1120 non-null   object \n",
      "dtypes: float64(2), int64(1), object(10)\n",
      "memory usage: 122.5+ KB\n",
      "None\n",
      "\n",
      " *******\n",
      "Row 822: Filled 'Orden de suministro' using pivot: Folio fiscal (UUID).\n",
      "Row 822: Filled 'CLUES' using pivot: Folio fiscal (UUID).\n",
      "Row 824: Filled 'Orden de suministro' using pivot: Folio fiscal (UUID).\n",
      "Row 824: Filled 'CLUES' using pivot: Folio fiscal (UUID).\n",
      "Row 826: Filled 'Orden de suministro' using pivot: Folio fiscal (UUID).\n",
      "Row 826: Filled 'CLUES' using pivot: Folio fiscal (UUID).\n",
      "Row 830: Filled 'Orden de suministro' using pivot: Folio fiscal (UUID).\n",
      "Row 830: Filled 'CLUES' using pivot: Folio fiscal (UUID).\n",
      "Row 831: Filled 'Orden de suministro' using pivot: Folio fiscal (UUID).\n",
      "Row 831: Filled 'CLUES' using pivot: Folio fiscal (UUID).\n",
      "Row 835: Filled 'Orden de suministro' using pivot: Folio fiscal (UUID).\n",
      "Row 835: Filled 'CLUES' using pivot: Folio fiscal (UUID).\n",
      "Row 836: Filled 'Orden de suministro' using pivot: Folio fiscal (UUID).\n",
      "Row 836: Filled 'CLUES' using pivot: Folio fiscal (UUID).\n",
      "Row 837: Filled 'Orden de suministro' using pivot: Folio fiscal (UUID).\n",
      "Row 837: Filled 'CLUES' using pivot: Folio fiscal (UUID).\n",
      "Row 838: Filled 'Orden de suministro' using pivot: Folio fiscal (UUID).\n",
      "Row 838: Filled 'CLUES' using pivot: Folio fiscal (UUID).\n",
      "Row 840: Filled 'Orden de suministro' using pivot: Folio fiscal (UUID).\n",
      "Row 840: Filled 'CLUES' using pivot: Folio fiscal (UUID).\n",
      "Row 843: Filled 'Orden de suministro' using pivot: Folio fiscal (UUID).\n",
      "Row 843: Filled 'CLUES' using pivot: Folio fiscal (UUID).\n",
      "Row 845: Filled 'Orden de suministro' using pivot: Folio fiscal (UUID).\n",
      "Row 845: Filled 'CLUES' using pivot: Folio fiscal (UUID).\n",
      "Row 846: Filled 'Orden de suministro' using pivot: Folio fiscal (UUID).\n",
      "Row 846: Filled 'CLUES' using pivot: Folio fiscal (UUID).\n",
      "Row 847: Filled 'Orden de suministro' using pivot: Folio fiscal (UUID).\n",
      "Row 847: Filled 'CLUES' using pivot: Folio fiscal (UUID).\n",
      "Row 897: Filled 'Orden de suministro' using pivot: Folio fiscal (UUID).\n",
      "Row 897: Filled 'CLUES' using pivot: Folio fiscal (UUID).\n",
      "Row 899: Filled 'Orden de suministro' using pivot: Folio fiscal (UUID).\n",
      "Row 899: Filled 'CLUES' using pivot: Folio fiscal (UUID).\n",
      "Row 905: Filled 'Orden de suministro' using pivot: Folio fiscal (UUID).\n",
      "Row 905: Filled 'CLUES' using pivot: Folio fiscal (UUID).\n",
      "Row 906: Filled 'Orden de suministro' using pivot: Folio fiscal (UUID).\n",
      "Row 906: Filled 'CLUES' using pivot: Folio fiscal (UUID).\n",
      "Row 907: Filled 'Orden de suministro' using pivot: Folio fiscal (UUID).\n",
      "Row 907: Filled 'CLUES' using pivot: Folio fiscal (UUID).\n",
      "Row 908: Filled 'Orden de suministro' using pivot: Folio fiscal (UUID).\n",
      "Row 908: Filled 'CLUES' using pivot: Folio fiscal (UUID).\n",
      "Row 909: Filled 'Orden de suministro' using pivot: Folio fiscal (UUID).\n",
      "Row 909: Filled 'CLUES' using pivot: Folio fiscal (UUID).\n",
      "Row 910: Filled 'Orden de suministro' using pivot: Folio fiscal (UUID).\n",
      "Row 910: Filled 'CLUES' using pivot: Folio fiscal (UUID).\n",
      "Row 911: Filled 'Orden de suministro' using pivot: Folio fiscal (UUID).\n",
      "Row 911: Filled 'CLUES' using pivot: Folio fiscal (UUID).\n",
      "Row 915: Filled 'Orden de suministro' using pivot: Folio fiscal (UUID).\n",
      "Row 915: Filled 'CLUES' using pivot: Folio fiscal (UUID).\n",
      "Row 947: Filled 'Orden de suministro' using pivot: Folio fiscal (UUID).\n",
      "Row 947: Filled 'CLUES' using pivot: Folio fiscal (UUID).\n",
      "Row 979: Filled 'Orden de suministro' using pivot: Folio fiscal (UUID).\n",
      "Row 979: Filled 'CLUES' using pivot: Folio fiscal (UUID).\n",
      "Row 984: Filled 'Orden de suministro' using pivot: Folio fiscal (UUID).\n",
      "Row 984: Filled 'CLUES' using pivot: Folio fiscal (UUID).\n",
      "Row 985: Filled 'Orden de suministro' using pivot: Folio fiscal (UUID).\n",
      "Row 985: Filled 'CLUES' using pivot: Folio fiscal (UUID).\n",
      "Row 987: Filled 'Orden de suministro' using pivot: Folio fiscal (UUID).\n",
      "Row 987: Filled 'CLUES' using pivot: Folio fiscal (UUID).\n",
      "Row 988: Filled 'Orden de suministro' using pivot: Folio fiscal (UUID).\n",
      "Row 988: Filled 'CLUES' using pivot: Folio fiscal (UUID).\n",
      "Row 1015: Filled 'Orden de suministro' using pivot: Folio fiscal (UUID).\n",
      "Row 1015: Filled 'CLUES' using pivot: Folio fiscal (UUID).\n",
      "Row 1016: Filled 'Orden de suministro' using pivot: Folio fiscal (UUID).\n",
      "Row 1016: Filled 'CLUES' using pivot: Folio fiscal (UUID).\n",
      "Row 1017: Filled 'Orden de suministro' using pivot: Folio fiscal (UUID).\n",
      "Row 1017: Filled 'CLUES' using pivot: Folio fiscal (UUID).\n",
      "Row 1028: Filled 'Orden de suministro' using pivot: Folio fiscal (UUID).\n",
      "Row 1028: Filled 'CLUES' using pivot: Folio fiscal (UUID).\n",
      "Row 1030: Filled 'Orden de suministro' using pivot: Folio fiscal (UUID).\n",
      "Row 1030: Filled 'CLUES' using pivot: Folio fiscal (UUID).\n",
      "Row 1032: Filled 'Orden de suministro' using pivot: Folio fiscal (UUID).\n",
      "Row 1032: Filled 'CLUES' using pivot: Folio fiscal (UUID).\n",
      "Row 1053: Filled 'Orden de suministro' using pivot: Folio fiscal (UUID).\n",
      "Row 1053: Filled 'CLUES' using pivot: Folio fiscal (UUID).\n",
      "Row 1086: Filled 'Orden de suministro' using pivot: Folio fiscal (UUID).\n",
      "Row 1086: Filled 'CLUES' using pivot: Folio fiscal (UUID).\n",
      "Row 1087: Filled 'Orden de suministro' using pivot: Folio fiscal (UUID).\n",
      "Row 1087: Filled 'CLUES' using pivot: Folio fiscal (UUID).\n",
      "Row 1088: Filled 'Orden de suministro' using pivot: Folio fiscal (UUID).\n",
      "Row 1088: Filled 'CLUES' using pivot: Folio fiscal (UUID).\n",
      "Row 1091: Filled 'Orden de suministro' using pivot: Folio fiscal (UUID).\n",
      "Row 1091: Filled 'CLUES' using pivot: Folio fiscal (UUID).\n",
      "Row 1092: Filled 'Orden de suministro' using pivot: Folio fiscal (UUID).\n",
      "Row 1092: Filled 'CLUES' using pivot: Folio fiscal (UUID).\n",
      "Row 1093: Filled 'Orden de suministro' using pivot: Folio fiscal (UUID).\n",
      "Row 1093: Filled 'CLUES' using pivot: Folio fiscal (UUID).\n",
      "Row 1094: Filled 'Orden de suministro' using pivot: Folio fiscal (UUID).\n",
      "Row 1094: Filled 'CLUES' using pivot: Folio fiscal (UUID).\n",
      "Row 1104: Filled 'Orden de suministro' using pivot: Folio fiscal (UUID).\n",
      "Row 1104: Filled 'CLUES' using pivot: Folio fiscal (UUID).\n",
      "Row 1105: Filled 'Orden de suministro' using pivot: Folio fiscal (UUID).\n",
      "Row 1105: Filled 'CLUES' using pivot: Folio fiscal (UUID).\n",
      "Row 1109: Filled 'Orden de suministro' using pivot: Folio fiscal (UUID).\n",
      "Row 1109: Filled 'CLUES' using pivot: Folio fiscal (UUID).\n",
      "Row 1111: Filled 'Orden de suministro' using pivot: Folio fiscal (UUID).\n",
      "Row 1111: Filled 'CLUES' using pivot: Folio fiscal (UUID).\n",
      "Row 1114: Filled 'Orden de suministro' using pivot: Folio fiscal (UUID).\n",
      "Row 1114: Filled 'CLUES' using pivot: Folio fiscal (UUID).\n",
      "Row 1115: Filled 'Orden de suministro' using pivot: Folio fiscal (UUID).\n",
      "Row 1115: Filled 'CLUES' using pivot: Folio fiscal (UUID).\n",
      "Row 1116: Filled 'Orden de suministro' using pivot: Folio fiscal (UUID).\n",
      "Row 1116: Filled 'CLUES' using pivot: Folio fiscal (UUID).\n",
      "Row 1117: Filled 'Orden de suministro' using pivot: Folio fiscal (UUID).\n",
      "Row 1117: Filled 'CLUES' using pivot: Folio fiscal (UUID).\n",
      "Row 1131: Filled 'Orden de suministro' using pivot: Folio fiscal (UUID).\n",
      "Row 1131: Filled 'CLUES' using pivot: Folio fiscal (UUID).\n",
      "Row 1132: Filled 'Orden de suministro' using pivot: Folio fiscal (UUID).\n",
      "Row 1132: Filled 'CLUES' using pivot: Folio fiscal (UUID).\n",
      "Row 1133: Filled 'Orden de suministro' using pivot: Folio fiscal (UUID).\n",
      "Row 1133: Filled 'CLUES' using pivot: Folio fiscal (UUID).\n",
      "Row 1134: Filled 'Orden de suministro' using pivot: Folio fiscal (UUID).\n",
      "Row 1134: Filled 'CLUES' using pivot: Folio fiscal (UUID).\n",
      "Row 1135: Filled 'Orden de suministro' using pivot: Folio fiscal (UUID).\n",
      "Row 1135: Filled 'CLUES' using pivot: Folio fiscal (UUID).\n",
      "Row 1136: Filled 'Orden de suministro' using pivot: Folio fiscal (UUID).\n",
      "Row 1136: Filled 'CLUES' using pivot: Folio fiscal (UUID).\n",
      "Row 1137: Filled 'Orden de suministro' using pivot: Folio fiscal (UUID).\n",
      "Row 1137: Filled 'CLUES' using pivot: Folio fiscal (UUID).\n",
      "Row 1138: Filled 'Orden de suministro' using pivot: Folio fiscal (UUID).\n",
      "Row 1138: Filled 'CLUES' using pivot: Folio fiscal (UUID).\n",
      "Row 1139: Filled 'Orden de suministro' using pivot: Folio fiscal (UUID).\n",
      "Row 1139: Filled 'CLUES' using pivot: Folio fiscal (UUID).\n",
      "Row 1140: Filled 'Orden de suministro' using pivot: Folio fiscal (UUID).\n",
      "Row 1140: Filled 'CLUES' using pivot: Folio fiscal (UUID).\n",
      "Row 1141: Filled 'Orden de suministro' using pivot: Folio fiscal (UUID).\n",
      "Row 1141: Filled 'CLUES' using pivot: Folio fiscal (UUID).\n",
      "Row 1142: Filled 'Orden de suministro' using pivot: Folio fiscal (UUID).\n",
      "Row 1142: Filled 'CLUES' using pivot: Folio fiscal (UUID).\n",
      "Row 1144: Filled 'Orden de suministro' using pivot: Folio fiscal (UUID).\n",
      "Row 1144: Filled 'CLUES' using pivot: Folio fiscal (UUID).\n",
      "Row 1146: Filled 'Orden de suministro' using pivot: Folio fiscal (UUID).\n",
      "Row 1146: Filled 'CLUES' using pivot: Folio fiscal (UUID).\n",
      "Row 1161: Filled 'Orden de suministro' using pivot: Folio fiscal (UUID).\n",
      "Row 1161: Filled 'CLUES' using pivot: Folio fiscal (UUID).\n",
      "Row 1354: Filled 'Orden de suministro' using pivot: Folio fiscal (UUID).\n",
      "Row 1354: Filled 'CLUES' using pivot: Folio fiscal (UUID).\n",
      "Row 1355: Filled 'Orden de suministro' using pivot: Folio fiscal (UUID).\n",
      "Row 1355: Filled 'CLUES' using pivot: Folio fiscal (UUID).\n",
      "Row 1356: Filled 'Orden de suministro' using pivot: Folio fiscal (UUID).\n",
      "Row 1356: Filled 'CLUES' using pivot: Folio fiscal (UUID).\n",
      "Row 1357: Filled 'Orden de suministro' using pivot: Folio fiscal (UUID).\n",
      "Row 1357: Filled 'CLUES' using pivot: Folio fiscal (UUID).\n",
      "Row 1358: Filled 'Orden de suministro' using pivot: Folio fiscal (UUID).\n",
      "Row 1358: Filled 'CLUES' using pivot: Folio fiscal (UUID).\n",
      "Row 1391: Filled 'Orden de suministro' using pivot: Folio fiscal (UUID).\n",
      "Row 1391: Filled 'CLUES' using pivot: Folio fiscal (UUID).\n",
      "Row 1392: Filled 'Orden de suministro' using pivot: Folio fiscal (UUID).\n",
      "Row 1392: Filled 'CLUES' using pivot: Folio fiscal (UUID).\n",
      "Row 1519: Filled 'Orden de suministro' using pivot: Folio fiscal (UUID).\n",
      "Row 1519: Filled 'CLUES' using pivot: Folio fiscal (UUID).\n",
      "Row 1520: Filled 'Orden de suministro' using pivot: Folio fiscal (UUID).\n",
      "Row 1520: Filled 'CLUES' using pivot: Folio fiscal (UUID).\n",
      "Row 1521: Filled 'Orden de suministro' using pivot: Folio fiscal (UUID).\n",
      "Row 1521: Filled 'CLUES' using pivot: Folio fiscal (UUID).\n",
      "Row 1523: Filled 'Orden de suministro' using pivot: Folio fiscal (UUID).\n",
      "Row 1523: Filled 'CLUES' using pivot: Folio fiscal (UUID).\n",
      "Row 1524: Filled 'Orden de suministro' using pivot: Folio fiscal (UUID).\n",
      "Row 1524: Filled 'CLUES' using pivot: Folio fiscal (UUID).\n",
      "Row 1525: Filled 'Orden de suministro' using pivot: Folio fiscal (UUID).\n",
      "Row 1525: Filled 'CLUES' using pivot: Folio fiscal (UUID).\n",
      "Row 1526: Filled 'Orden de suministro' using pivot: Folio fiscal (UUID).\n",
      "Row 1526: Filled 'CLUES' using pivot: Folio fiscal (UUID).\n",
      "Row 1527: Filled 'Orden de suministro' using pivot: Folio fiscal (UUID).\n",
      "Row 1527: Filled 'CLUES' using pivot: Folio fiscal (UUID).\n",
      "Row 1528: Filled 'Orden de suministro' using pivot: Folio fiscal (UUID).\n",
      "Row 1528: Filled 'CLUES' using pivot: Folio fiscal (UUID).\n",
      "Row 1529: Filled 'Orden de suministro' using pivot: Folio fiscal (UUID).\n",
      "Row 1529: Filled 'CLUES' using pivot: Folio fiscal (UUID).\n",
      "Row 1530: Filled 'Orden de suministro' using pivot: Folio fiscal (UUID).\n",
      "Row 1530: Filled 'CLUES' using pivot: Folio fiscal (UUID).\n",
      "Row 1531: Filled 'Orden de suministro' using pivot: Folio fiscal (UUID).\n",
      "Row 1531: Filled 'CLUES' using pivot: Folio fiscal (UUID).\n",
      "Row 1546: Filled 'Orden de suministro' using pivot: Folio fiscal (UUID).\n",
      "Row 1546: Filled 'CLUES' using pivot: Folio fiscal (UUID).\n",
      "Row 1564: Filled 'Orden de suministro' using pivot: Folio fiscal (UUID).\n",
      "Row 1564: Filled 'CLUES' using pivot: Folio fiscal (UUID).\n",
      "Row 1566: Filled 'Orden de suministro' using pivot: Folio fiscal (UUID).\n",
      "Row 1566: Filled 'CLUES' using pivot: Folio fiscal (UUID).\n",
      "Row 1567: Filled 'Orden de suministro' using pivot: Folio fiscal (UUID).\n",
      "Row 1567: Filled 'CLUES' using pivot: Folio fiscal (UUID).\n",
      "Row 1582: Filled 'Orden de suministro' using pivot: Folio fiscal (UUID).\n",
      "Row 1582: Filled 'CLUES' using pivot: Folio fiscal (UUID).\n",
      "Row 1583: Filled 'Orden de suministro' using pivot: Folio fiscal (UUID).\n",
      "Row 1583: Filled 'CLUES' using pivot: Folio fiscal (UUID).\n",
      "Row 1584: Filled 'Orden de suministro' using pivot: Folio fiscal (UUID).\n",
      "Row 1584: Filled 'CLUES' using pivot: Folio fiscal (UUID).\n",
      "Row 1585: Filled 'Orden de suministro' using pivot: Folio fiscal (UUID).\n",
      "Row 1585: Filled 'CLUES' using pivot: Folio fiscal (UUID).\n",
      "Row 1586: Filled 'Orden de suministro' using pivot: Folio fiscal (UUID).\n",
      "Row 1586: Filled 'CLUES' using pivot: Folio fiscal (UUID).\n",
      "Row 1587: Filled 'Orden de suministro' using pivot: Folio fiscal (UUID).\n",
      "Row 1587: Filled 'CLUES' using pivot: Folio fiscal (UUID).\n",
      "Row 1588: Filled 'Orden de suministro' using pivot: Folio fiscal (UUID).\n",
      "Row 1588: Filled 'CLUES' using pivot: Folio fiscal (UUID).\n",
      "Row 1599: Filled 'Orden de suministro' using pivot: Folio fiscal (UUID).\n",
      "Row 1599: Filled 'CLUES' using pivot: Folio fiscal (UUID).\n",
      "Row 1600: Filled 'Orden de suministro' using pivot: Folio fiscal (UUID).\n",
      "Row 1600: Filled 'CLUES' using pivot: Folio fiscal (UUID).\n",
      "Row 1601: Filled 'Orden de suministro' using pivot: Folio fiscal (UUID).\n",
      "Row 1601: Filled 'CLUES' using pivot: Folio fiscal (UUID).\n",
      "Row 1602: Filled 'Orden de suministro' using pivot: Folio fiscal (UUID).\n",
      "Row 1602: Filled 'CLUES' using pivot: Folio fiscal (UUID).\n",
      "Row 1604: Filled 'Orden de suministro' using pivot: Folio fiscal (UUID).\n",
      "Row 1604: Filled 'CLUES' using pivot: Folio fiscal (UUID).\n",
      "Row 1620: Filled 'Orden de suministro' using pivot: Folio fiscal (UUID).\n",
      "Row 1620: Filled 'CLUES' using pivot: Folio fiscal (UUID).\n",
      "Row 1621: Filled 'Orden de suministro' using pivot: Folio fiscal (UUID).\n",
      "Row 1621: Filled 'CLUES' using pivot: Folio fiscal (UUID).\n",
      "Row 1622: Filled 'Orden de suministro' using pivot: Folio fiscal (UUID).\n",
      "Row 1622: Filled 'CLUES' using pivot: Folio fiscal (UUID).\n",
      "Row 1623: Filled 'Orden de suministro' using pivot: Folio fiscal (UUID).\n",
      "Row 1623: Filled 'CLUES' using pivot: Folio fiscal (UUID).\n",
      "Row 1624: Filled 'Orden de suministro' using pivot: Folio fiscal (UUID).\n",
      "Row 1624: Filled 'CLUES' using pivot: Folio fiscal (UUID).\n",
      "Row 1625: Filled 'Orden de suministro' using pivot: Folio fiscal (UUID).\n",
      "Row 1625: Filled 'CLUES' using pivot: Folio fiscal (UUID).\n",
      "Row 1626: Filled 'Orden de suministro' using pivot: Folio fiscal (UUID).\n",
      "Row 1626: Filled 'CLUES' using pivot: Folio fiscal (UUID).\n",
      "Row 1627: Filled 'Orden de suministro' using pivot: Folio fiscal (UUID).\n",
      "Row 1627: Filled 'CLUES' using pivot: Folio fiscal (UUID).\n",
      "Row 1628: Filled 'Orden de suministro' using pivot: Folio fiscal (UUID).\n",
      "Row 1628: Filled 'CLUES' using pivot: Folio fiscal (UUID).\n",
      "Row 1646: Filled 'Orden de suministro' using pivot: Folio fiscal (UUID).\n",
      "Row 1646: Filled 'CLUES' using pivot: Folio fiscal (UUID).\n",
      "Row 1647: Filled 'Orden de suministro' using pivot: Folio fiscal (UUID).\n",
      "Row 1647: Filled 'CLUES' using pivot: Folio fiscal (UUID).\n",
      "Row 1648: Filled 'Orden de suministro' using pivot: Folio fiscal (UUID).\n",
      "Row 1648: Filled 'CLUES' using pivot: Folio fiscal (UUID).\n",
      "Row 1790: Filled 'Orden de suministro' using pivot: Folio fiscal (UUID).\n",
      "Row 1790: Filled 'CLUES' using pivot: Folio fiscal (UUID).\n",
      "Row 1791: Filled 'Orden de suministro' using pivot: Folio fiscal (UUID).\n",
      "Row 1791: Filled 'CLUES' using pivot: Folio fiscal (UUID).\n",
      "Row 1862: Filled 'Orden de suministro' using pivot: Folio fiscal (UUID).\n",
      "Row 1862: Filled 'CLUES' using pivot: Folio fiscal (UUID).\n",
      "Row 1864: Filled 'Orden de suministro' using pivot: Folio fiscal (UUID).\n",
      "Row 1864: Filled 'CLUES' using pivot: Folio fiscal (UUID).\n",
      "Row 1866: Filled 'Orden de suministro' using pivot: Folio fiscal (UUID).\n",
      "Row 1866: Filled 'CLUES' using pivot: Folio fiscal (UUID).\n",
      "Row 1867: Filled 'Orden de suministro' using pivot: Folio fiscal (UUID).\n",
      "Row 1867: Filled 'CLUES' using pivot: Folio fiscal (UUID).\n",
      "Row 1868: Filled 'Orden de suministro' using pivot: Folio fiscal (UUID).\n",
      "Row 1868: Filled 'CLUES' using pivot: Folio fiscal (UUID).\n",
      "Row 1871: Filled 'Orden de suministro' using pivot: Folio fiscal (UUID).\n",
      "Row 1871: Filled 'CLUES' using pivot: Folio fiscal (UUID).\n",
      "Row 1872: Filled 'Orden de suministro' using pivot: Folio fiscal (UUID).\n",
      "Row 1872: Filled 'CLUES' using pivot: Folio fiscal (UUID).\n",
      "Row 1885: Filled 'Orden de suministro' using pivot: Folio fiscal (UUID).\n",
      "Row 1885: Filled 'CLUES' using pivot: Folio fiscal (UUID).\n",
      "Row 1886: Filled 'Orden de suministro' using pivot: Folio fiscal (UUID).\n",
      "Row 1886: Filled 'CLUES' using pivot: Folio fiscal (UUID).\n",
      "Row 1887: Filled 'Orden de suministro' using pivot: Folio fiscal (UUID).\n",
      "Row 1887: Filled 'CLUES' using pivot: Folio fiscal (UUID).\n",
      "Row 1888: Filled 'Orden de suministro' using pivot: Folio fiscal (UUID).\n",
      "Row 1888: Filled 'CLUES' using pivot: Folio fiscal (UUID).\n",
      "Row 1890: Filled 'Orden de suministro' using pivot: Folio fiscal (UUID).\n",
      "Row 1890: Filled 'CLUES' using pivot: Folio fiscal (UUID).\n",
      "Row 1893: Filled 'Orden de suministro' using pivot: Folio fiscal (UUID).\n",
      "Row 1893: Filled 'CLUES' using pivot: Folio fiscal (UUID).\n",
      "Row 1894: Filled 'Orden de suministro' using pivot: Folio fiscal (UUID).\n",
      "Row 1894: Filled 'CLUES' using pivot: Folio fiscal (UUID).\n",
      "Row 1895: Filled 'Orden de suministro' using pivot: Folio fiscal (UUID).\n",
      "Row 1895: Filled 'CLUES' using pivot: Folio fiscal (UUID).\n",
      "Row 1896: Filled 'Orden de suministro' using pivot: Folio fiscal (UUID).\n",
      "Row 1896: Filled 'CLUES' using pivot: Folio fiscal (UUID).\n",
      "Row 1897: Filled 'Orden de suministro' using pivot: Folio fiscal (UUID).\n",
      "Row 1897: Filled 'CLUES' using pivot: Folio fiscal (UUID).\n",
      "Row 1909: Filled 'Orden de suministro' using pivot: Folio fiscal (UUID).\n",
      "Row 1909: Filled 'CLUES' using pivot: Folio fiscal (UUID).\n",
      "Row 1910: Filled 'Orden de suministro' using pivot: Folio fiscal (UUID).\n",
      "Row 1910: Filled 'CLUES' using pivot: Folio fiscal (UUID).\n",
      "Row 1918: Filled 'Orden de suministro' using pivot: Folio fiscal (UUID).\n",
      "Row 1918: Filled 'CLUES' using pivot: Folio fiscal (UUID).\n",
      "Row 1919: Filled 'Orden de suministro' using pivot: Folio fiscal (UUID).\n",
      "Row 1919: Filled 'CLUES' using pivot: Folio fiscal (UUID).\n",
      "Row 1920: Filled 'Orden de suministro' using pivot: Folio fiscal (UUID).\n",
      "Row 1920: Filled 'CLUES' using pivot: Folio fiscal (UUID).\n",
      "Row 1921: Filled 'Orden de suministro' using pivot: Folio fiscal (UUID).\n",
      "Row 1921: Filled 'CLUES' using pivot: Folio fiscal (UUID).\n",
      "Row 1934: Filled 'Orden de suministro' using pivot: Folio fiscal (UUID).\n",
      "Row 1934: Filled 'CLUES' using pivot: Folio fiscal (UUID).\n",
      "Row 1938: Filled 'Orden de suministro' using pivot: Folio fiscal (UUID).\n",
      "Row 1938: Filled 'CLUES' using pivot: Folio fiscal (UUID).\n",
      "Row 1939: Filled 'Orden de suministro' using pivot: Folio fiscal (UUID).\n",
      "Row 1939: Filled 'CLUES' using pivot: Folio fiscal (UUID).\n",
      "Row 2473: Filled 'Orden de suministro' using pivot: Folio fiscal (UUID).\n",
      "Row 2473: Filled 'CLUES' using pivot: Folio fiscal (UUID).\n",
      "Extra columns merged based on 'Orden de suministro' match:\n",
      "   Unnamed: 0  Número de oficio                          Proveedor  \\\n",
      "0         NaN               NaN  ESEOTRES PHARMA, S.A.P.I. de C.V.   \n",
      "1         NaN               NaN  ESEOTRES PHARMA, S.A.P.I. de C.V.   \n",
      "3         NaN               NaN  ESEOTRES PHARMA, S.A.P.I. de C.V.   \n",
      "4         NaN               NaN  ESEOTRES PHARMA, S.A.P.I. de C.V.   \n",
      "5         NaN               NaN  ESEOTRES PHARMA, S.A.P.I. de C.V.   \n",
      "\n",
      "            RFC                     Número de contrato  \\\n",
      "0  EPH161215NS9  LA-E115-2022-MED-INSABI-122-2023/2024   \n",
      "1  EPH161215NS9  LA-E115-2022-MED-INSABI-122-2023/2024   \n",
      "3  EPH161215NS9  LA-E115-2022-MED-INSABI-034-2023/2024   \n",
      "4  EPH161215NS9  LA-E115-2022-MED-INSABI-034-2023/2024   \n",
      "5  EPH161215NS9  LA-E115-2022-MED-INSABI-034-2023/2024   \n",
      "\n",
      "                Orden de suministro  Número de factura  \\\n",
      "0  U00-22-02-2024-2201078844-SAEPGC               6192   \n",
      "1       HAB-11-02-2024-1104000925-F               6022   \n",
      "3     IMB-32-02-2024-3201096385-ASF               6212   \n",
      "4     IMB-24-02-2024-2401089435-ASF               6210   \n",
      "5     IMB-21-02-2024-2101086046-ASF               6209   \n",
      "\n",
      "                           Folio fiscal       Total        CLUES  \\\n",
      "0  53B4FBA2-FCDC-41B2-A623-B006E6D3C3DA    $3933.00  QTSSA002901   \n",
      "1  15CDF317-7022-42E9-9866-6F051FF84655   $42849.00  GTSSA016796   \n",
      "3  787087CB-F2F1-46E1-A59C-39D13A508E4D   $18975.00  ZSSSA012504   \n",
      "4  6F8C007E-080A-4DED-AA47-F8CC6794940C  $148626.00  SPSSA016870   \n",
      "5  DE97E53F-9D56-4373-9350-E6FABBC18A6C   $34155.00  PLSSA006306   \n",
      "\n",
      "  Estado de la factura Opciones Factura  \n",
      "0     Fechas validadas    error  P-6192  \n",
      "1            Con Penas    error  P-6022  \n",
      "3     Fechas validadas    error  P-6212  \n",
      "4     Fechas validadas    error  P-6210  \n",
      "5     Fechas validadas    error  P-6209  \n",
      "\n",
      " ******* dataframe completado con la función.\n",
      "<class 'pandas.core.frame.DataFrame'>\n",
      "Index: 1120 entries, 0 to 2473\n",
      "Data columns (total 13 columns):\n",
      " #   Column                Non-Null Count  Dtype  \n",
      "---  ------                --------------  -----  \n",
      " 0   Unnamed: 0            0 non-null      float64\n",
      " 1   Número de oficio      0 non-null      float64\n",
      " 2   Proveedor             1120 non-null   object \n",
      " 3   RFC                   1120 non-null   object \n",
      " 4   Número de contrato    1120 non-null   object \n",
      " 5   Orden de suministro   1120 non-null   object \n",
      " 6   Número de factura     1120 non-null   int64  \n",
      " 7   Folio fiscal          1120 non-null   object \n",
      " 8   Total                 1120 non-null   object \n",
      " 9   CLUES                 1120 non-null   object \n",
      " 10  Estado de la factura  1120 non-null   object \n",
      " 11  Opciones              1120 non-null   object \n",
      " 12  Factura               1120 non-null   object \n",
      "dtypes: float64(2), int64(1), object(10)\n",
      "memory usage: 154.8+ KB\n",
      "None\n",
      "File saved as C:\\Users\\arman\\Dropbox\\3. Armando Cuaxospa\\Adjudicaciones\\Licitaciones 2025\\E115 360\\Implementación\\04 22 2024 ESTATUS_SAGI.xlsx\n",
      "Estatus SAGI actualizado en el Google Sheet\n",
      "********** \n",
      " archivo generado\n"
     ]
    }
   ],
   "source": [
    "from SAGI_Join_2023_2024 import join_SAGI_files, worksheet_to_df\n",
    "now = datetime.now()\n",
    "prefix = f\"{now.month:02d} {now.day:02d}\"\n",
    "json_key = os.path.join(folder_root, 'Implementación', 'Key.json')\n",
    "file2023_2024 = os.path.join(folder_root, 'Implementación', 'Descarga de bases', f\"{prefix} 2023-2024.xlsx\")\n",
    "file_2024 = os.path.join(folder_root, 'Implementación', 'Descarga de bases', f\"{prefix} 2024.xlsx\")\n",
    "output_joined_file = os.path.join(folder_root, 'Implementación', f\"{prefix} 2024 ESTATUS_SAGI.xlsx\")\n",
    "\n",
    "join_SAGI_files(json_key, file2023_2024, file_2024, output_joined_file)\n",
    "\n",
    "print(f\"{'*' * 10} \\n archivo generado\")"
   ]
  },
  {
   "cell_type": "code",
   "execution_count": null,
   "id": "b2108969-d065-42a7-a198-ed8a3ea940f0",
   "metadata": {},
   "outputs": [],
   "source": []
  }
 ],
 "metadata": {
  "kernelspec": {
   "display_name": "Python 3 (ipykernel)",
   "language": "python",
   "name": "python3"
  },
  "language_info": {
   "codemirror_mode": {
    "name": "ipython",
    "version": 3
   },
   "file_extension": ".py",
   "mimetype": "text/x-python",
   "name": "python",
   "nbconvert_exporter": "python",
   "pygments_lexer": "ipython3",
   "version": "3.13.3"
  }
 },
 "nbformat": 4,
 "nbformat_minor": 5
}
