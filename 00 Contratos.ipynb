{
 "cells": [
  {
   "cell_type": "markdown",
   "id": "4fe2091f-6315-4d41-a297-16a4d736a8b0",
   "metadata": {},
   "source": [
    "# Orquestador de ventas 360: resumen\n",
    "\n",
    "## Input\n",
    "1. Excel de demanda desagregada: con esta información se genera lista de claves y máximos. \n",
    "## Output\n",
    "1. PDF's con nombre estructurado en folder específico. \n",
    "2. Base de datos con información de los contratos y convenios modificatorios generados con el string. \n",
    "\n",
    "## Notas\n",
    "Diseño esto para, partiendo de la demanda desagregada: \n",
    "- Capturar contratos\n",
    "- Descargar xlsx de sistemas SAI, CAMUNDA, SAGI, ZOHO y PISP. \n",
    "- Consultar exceles internos\n",
    "- Organizar las órdenes descargadas\n",
    "- Generar los pickle de las órdenes\n",
    "Todo lo anterior es la información mínima indispensable para poder generar información de ventas, que será la referencia interna sobre la que desplegaremos el alimentado de reportes y la generación de reglas para dar retro al usuario."
   ]
  },
  {
   "cell_type": "code",
   "execution_count": 1,
   "id": "94378f05-026f-4b07-805d-04e1bf9db789",
   "metadata": {
    "jupyter": {
     "source_hidden": true
    }
   },
   "outputs": [],
   "source": [
    "# Importa librerías y carpetas con funciones\n",
    "import sys\n",
    "import os\n",
    "import yaml\n",
    "import pandas as pd\n",
    "import glob\n",
    "# Define the root and script directory\n",
    "folder_root = os.getcwd()  # Get current directory (where Orquestación.ipynb is)\n",
    "script_folder = os.path.join(folder_root, \"Scripts\")  # Path to 'Scripts'\n",
    "# Ensure the script folder is added to sys.path\n",
    "if script_folder not in sys.path:\n",
    "    sys.path.append(script_folder)\n",
    "contratos_library_scripts = os.path.join(script_folder, \"Libreria_contratos\")\n",
    "if contratos_library_scripts not in sys.path:\n",
    "    sys.path.append(contratos_library_scripts)\n",
    "\n",
    "sanciones_folder = os.path.join(script_folder, \"Libreria_SancionesIMSSB\")\n",
    "if sanciones_folder not in sys.path:\n",
    "    sys.path.append(sanciones_folder)"
   ]
  },
  {
   "cell_type": "code",
   "execution_count": 2,
   "id": "a9db077c-4f81-4568-bbb0-c272ffccd02b",
   "metadata": {
    "jupyter": {
     "source_hidden": true
    }
   },
   "outputs": [],
   "source": [
    "# Cargar librerías internas\n",
    "from folders_files_open import create_directory_if_not_exists\n",
    "from STEP_C_PDFhandling import STEP_C_read_PDF_from_source\n",
    "from dataframes_generation import create_dataframe #(extension, dataframe_name, columns, output_folder)\n",
    "# Generador de carpetas\n",
    "from folders_files_open import create_directory_if_not_exists\n",
    "# Administración de contratos:\n",
    "from administracion_de_contratos import administracion_de_contratos\n",
    "from sanciones_IMSSB_processing import print_columns"
   ]
  },
  {
   "cell_type": "code",
   "execution_count": 3,
   "id": "b4dd5177-7398-45c9-8662-93549380a6fe",
   "metadata": {
    "jupyter": {
     "source_hidden": true
    }
   },
   "outputs": [
    {
     "name": "stdout",
     "output_type": "stream",
     "text": [
      "\tFolder Implementación encontrado.\n",
      "\tFolder Desagregadas encontrado.\n"
     ]
    }
   ],
   "source": [
    "#Cargar los folders requeridos. \n",
    "working_folder = desagregadas_folder = os.path.join(folder_root, \"Implementación\")\n",
    "desagregadas_folder = os.path.join(folder_root, \"Implementación\", \"Desagregadas\")\n",
    "create_directory_if_not_exists(working_folder)\n",
    "create_directory_if_not_exists(desagregadas_folder)"
   ]
  },
  {
   "cell_type": "markdown",
   "id": "21ec8c60-ae4f-4469-80ec-b73e82f8f280",
   "metadata": {},
   "source": [
    "# Procesa inputs\n",
    "Las siguiente será la estructura de la carpeta con la información."
   ]
  },
  {
   "cell_type": "markdown",
   "id": "714cb57b-5ae7-468f-bb72-03b2d8db66c1",
   "metadata": {},
   "source": [
    "### (1) Carga y (2) limpia demanda desagregada\n",
    "En caso de que no tengas aún demanda desagregada por procedimiento ejecuta los siguientes pasos. \n",
    "El objetivo es generar un dataframe estandarizado con Institución, piezas, procedimiento, y precio. "
   ]
  },
  {
   "cell_type": "code",
   "execution_count": 14,
   "id": "7911d24d-5371-4a56-82d8-2ec881971c1b",
   "metadata": {
    "jupyter": {
     "source_hidden": true
    }
   },
   "outputs": [
    {
     "name": "stdout",
     "output_type": "stream",
     "text": [
      "Found 3 files:\n",
      "\t Demanda desagregada global.xlsx\n",
      "\t E115 Raw Demanda desagregada global.xlsx\n",
      "\t desagregada.xlsx\n"
     ]
    },
    {
     "name": "stdin",
     "output_type": "stream",
     "text": [
      "Ingresa el excel de la demanda desagregada: E115 Raw Demanda desagregada global.xlsx\n"
     ]
    },
    {
     "name": "stdout",
     "output_type": "stream",
     "text": [
      "✅ Archivo seleccionado: Implementación/Desagregadas/E115 Raw Demanda desagregada global.xlsx\n"
     ]
    }
   ],
   "source": [
    "# Seleccionar el archivo XLSX de la carpeta para procesar.\n",
    "XLSX_file_list = glob.glob(os.path.join(desagregadas_folder, \"*.xlsx\"))\n",
    "XLSX_file_list.sort()\n",
    "print(f\"Found {len(XLSX_file_list)} files:\")\n",
    "for f in XLSX_file_list:\n",
    "    print(f\"\\t {os.path.basename(f)}\")\n",
    "\n",
    "# prompt until a valid filename is entered\n",
    "while True:\n",
    "    XLSX_input = input(\"Ingresa el excel de la demanda desagregada:\")\n",
    "    # compare against basenames\n",
    "    basenames = [os.path.basename(f) for f in XLSX_file_list]\n",
    "    if XLSX_input in basenames:\n",
    "        selected_path = os.path.join(desagregadas_folder, XLSX_input)\n",
    "        # Using os.path\n",
    "        parts    = os.path.normpath(selected_path).split(os.sep)\n",
    "        folder1, folder2, fname = parts[-3], parts[-2], parts[-1]\n",
    "        print(f\"✅ Archivo seleccionado: {folder1}/{folder2}/{fname}\")\n",
    "        break\n",
    "    else:\n",
    "        print(\"❌ Selección no válida, elije un archivo de la lista. \")\n"
   ]
  },
  {
   "cell_type": "code",
   "execution_count": 15,
   "id": "a1590bf8-863e-4f47-b596-2a0b35048a49",
   "metadata": {
    "jupyter": {
     "source_hidden": true
    },
    "scrolled": true
   },
   "outputs": [
    {
     "name": "stdout",
     "output_type": "stream",
     "text": [
      "Available sheets:\n",
      " • 100%\n",
      " • 40%\n",
      " • Propofol\n",
      " • Global\n",
      " • Sheet2\n",
      " • Sheet1\n"
     ]
    },
    {
     "name": "stdin",
     "output_type": "stream",
     "text": [
      "Select a sheet by name:  Global\n"
     ]
    },
    {
     "name": "stdout",
     "output_type": "stream",
     "text": [
      "✅ E115 Raw Demanda desagregada global.xlsx — Columnas:\n",
      "INSTITUCION                AÑO                        CANT MAX ESEOTRES\n",
      "PROV. 2  PROVEEDOR 2                \n",
      "INSTITUCION HOMOLOGADA     FTE FMTO                   PRECIO ESEOTRES            PROCED.                    \n",
      "UNIDAD                     CLAVE ADJ                  Total                      \n",
      "ENTIDAD                    CANT MIN ESEOTRES          Descripción                \n"
     ]
    }
   ],
   "source": [
    "# Selecciona la hoja e imprime las columnas\n",
    "# 1. load the workbook and list sheets\n",
    "xls = pd.ExcelFile(selected_path)\n",
    "sheets = xls.sheet_names\n",
    "print(\"Available sheets:\")\n",
    "for name in sheets:\n",
    "    print(\" •\", name)\n",
    "\n",
    "# 2. prompt until a valid sheet is chosen\n",
    "while True:\n",
    "    selected_sheet = input(\"Select a sheet by name: \")\n",
    "    if selected_sheet in sheets:\n",
    "        break\n",
    "    print(\"❌ Invalid sheet. Please choose one from the list above.\")\n",
    "\n",
    "# 3. read that sheet and print file path + its columns\n",
    "df_input_xlsx = pd.read_excel(selected_path, sheet_name=selected_sheet)\n",
    "print(f\"✅ {XLSX_input} — Columnas:\", )\n",
    "print_columns(list(df_input_xlsx.columns))"
   ]
  },
  {
   "cell_type": "code",
   "execution_count": 16,
   "id": "4e505998-d6c6-4f4e-b63a-78daa63a9650",
   "metadata": {
    "jupyter": {
     "source_hidden": true
    }
   },
   "outputs": [
    {
     "name": "stdout",
     "output_type": "stream",
     "text": [
      "Raw columns available: ['institucion', 'institucion homologada', 'unidad', 'entidad', 'año', 'fte fmto', 'clave adj', 'cant min eseotres', 'cant max eseotres prov 2', 'precio eseotres', 'total', 'descripción', 'proveedor 2', 'proced']\n"
     ]
    },
    {
     "name": "stdin",
     "output_type": "stream",
     "text": [
      "→ Which raw column maps to 'Institución'?  institucion homologada\n",
      "→ Which raw column maps to 'Procedimiento'?  proced\n",
      "→ Which raw column maps to 'Clave'?  clave adj\n",
      "→ Which raw column maps to 'Descripción'?  descripción\n",
      "→ Which raw column maps to 'Precio'?  precio eseotres\n",
      "→ Which raw column maps to 'Piezas'?  cant max eseotres prov 2\n"
     ]
    }
   ],
   "source": [
    "# Genera un dataframe con columnas adecuadas\n",
    "from PROCESA_DESAGREGADA_input import standarized_dataframe_generation\n",
    "standarized_base_columns = [\"Institución\", \"Procedimiento\", \"Clave\", \"Descripción\", \"Precio\", \"Piezas\"]\n",
    "raw_input_excel_columns = list(df_input_xlsx.columns)\n",
    "#print_columns(list(raw_input_excel_columns.columns), n_cols=3)\n",
    "\n",
    "df_clean = standarized_dataframe_generation(df_input_xlsx, standarized_base_columns)\n"
   ]
  },
  {
   "cell_type": "markdown",
   "id": "328b4376-7347-476c-9563-7ab505818895",
   "metadata": {},
   "source": [
    "### (3) Transformar demanda desagregada\n",
    "Con el dataframe adecuadamente formateado, podemos hacer la agrupación por institución y clave, si se confirma que es lo esperado se exporta a pickle. "
   ]
  },
  {
   "cell_type": "code",
   "execution_count": 19,
   "id": "ebdc814e-a0c9-4941-8927-b68b29faaa21",
   "metadata": {
    "jupyter": {
     "source_hidden": true
    },
    "scrolled": true
   },
   "outputs": [
    {
     "name": "stdin",
     "output_type": "stream",
     "text": [
      "¿El dataframe es adecuado y está listo para ser guardado? (si/no):  si\n"
     ]
    },
    {
     "name": "stdout",
     "output_type": "stream",
     "text": [
      "Se encontraron 1 procedimientos únicos.\n",
      "• Procedimiento: 'LA-012M7B997-E115-2022' ➔ 'LA-012M7B997-E115-2022.pickle' (104 registros)\n",
      "Todos los archivos han sido guardados exitosamente.\n"
     ]
    }
   ],
   "source": [
    "from desagregada_to_pickle import save_to_pickle\n",
    "#print(df_clean.columns)\n",
    "#print(df_clean.info())\n",
    "df_grouped = (\n",
    "    df_clean\n",
    "    .groupby(['Institución','Clave'], as_index=False)\n",
    "    .agg(\n",
    "        Piezas        = ('Piezas',       'sum'),\n",
    "        Procedimiento = ('Procedimiento','first'),\n",
    "        Descripción   = ('Descripción',  'first'),\n",
    "        Precio        = ('Precio',       'first')\n",
    "    )\n",
    ")\n",
    "#print(df_grouped.columns)\n",
    "#print(df_grouped.info())\n",
    "\n",
    "df_grouped.head(20)\n",
    "#print(df_grouped['Procedimiento'].unique())\n",
    "\n",
    "while True:\n",
    "    user_revision = input(\"¿El dataframe es adecuado y está listo para ser guardado? (si/no): \")\n",
    "    respuesta = user_revision.strip().lower()\n",
    "\n",
    "    if respuesta == 'si':\n",
    "        save_to_pickle(df_grouped, desagregadas_folder)\n",
    "        break\n",
    "\n",
    "    elif respuesta == 'no':\n",
    "        print(\"Repite los pasos hasta que estés seguro.\")\n",
    "\n",
    "    else:\n",
    "        print(\"Respuesta no válida. Por favor, responde 'si' o 'no'.\")"
   ]
  },
  {
   "cell_type": "markdown",
   "id": "940871d0-3d41-4376-95de-0c885ad9435f",
   "metadata": {},
   "source": [
    "# Administrador de contratos\n",
    "Aquí empieza todo, la demanda desagregada nos da una lista de instituciones, sus piezas máximas y mínimas"
   ]
  },
  {
   "cell_type": "markdown",
   "id": "4b6adc99-ff2f-44d2-92d7-de1be0239ef3",
   "metadata": {},
   "source": [
    "## Elije el procedimiento\n",
    "En esta sección definimos a qué procedimiento corresponde el contrato que vamos a cargar. "
   ]
  },
  {
   "cell_type": "code",
   "execution_count": 4,
   "id": "0d7eb743-3fa7-43b4-91fc-d1d482fe8d62",
   "metadata": {
    "jupyter": {
     "source_hidden": true
    }
   },
   "outputs": [
    {
     "name": "stdout",
     "output_type": "stream",
     "text": [
      "Encontrados 1 archivos .pickle:\n",
      " - LA-012M7B997-E115-2022.pickle\n"
     ]
    },
    {
     "name": "stdin",
     "output_type": "stream",
     "text": [
      "Por favor pega el nombre del archivo que quieres cargar:  LA-012M7B997-E115-2022.pickle\n"
     ]
    },
    {
     "name": "stdout",
     "output_type": "stream",
     "text": [
      "✔ Archivo 'LA-012M7B997-E115-2022' cargado correctamente (104 filas).\n",
      "<class 'pandas.core.frame.DataFrame'>\n",
      "RangeIndex: 104 entries, 0 to 103\n",
      "Data columns (total 6 columns):\n",
      " #   Column         Non-Null Count  Dtype \n",
      "---  ------         --------------  ----- \n",
      " 0   Institución    104 non-null    object\n",
      " 1   Clave          104 non-null    object\n",
      " 2   Piezas         104 non-null    int64 \n",
      " 3   Procedimiento  104 non-null    object\n",
      " 4   Descripción    104 non-null    object\n",
      " 5   Precio         104 non-null    int64 \n",
      "dtypes: int64(2), object(4)\n",
      "memory usage: 5.0+ KB\n"
     ]
    },
    {
     "data": {
      "text/html": [
       "<div>\n",
       "<style scoped>\n",
       "    .dataframe tbody tr th:only-of-type {\n",
       "        vertical-align: middle;\n",
       "    }\n",
       "\n",
       "    .dataframe tbody tr th {\n",
       "        vertical-align: top;\n",
       "    }\n",
       "\n",
       "    .dataframe thead th {\n",
       "        text-align: right;\n",
       "    }\n",
       "</style>\n",
       "<table border=\"1\" class=\"dataframe\">\n",
       "  <thead>\n",
       "    <tr style=\"text-align: right;\">\n",
       "      <th></th>\n",
       "      <th>Institución</th>\n",
       "      <th>Clave</th>\n",
       "      <th>Piezas</th>\n",
       "      <th>Procedimiento</th>\n",
       "      <th>Descripción</th>\n",
       "      <th>Precio</th>\n",
       "    </tr>\n",
       "  </thead>\n",
       "  <tbody>\n",
       "    <tr>\n",
       "      <th>43</th>\n",
       "      <td>HOSPITAL REGIONAL DE ALTA ESPECIALIDAD DEL BAJÍO</td>\n",
       "      <td>010.000.0246.00</td>\n",
       "      <td>2304</td>\n",
       "      <td>LA-012M7B997-E115-2022</td>\n",
       "      <td>Propofol. Emulsion inyectable cada ampolleta o...</td>\n",
       "      <td>69</td>\n",
       "    </tr>\n",
       "    <tr>\n",
       "      <th>18</th>\n",
       "      <td>HOSPITAL INFANTIL DE MÉXICO FEDERICO GÓMEZ</td>\n",
       "      <td>010.000.4242.00</td>\n",
       "      <td>2360</td>\n",
       "      <td>LA-012M7B997-E115-2022</td>\n",
       "      <td>Enoxaparina. Solución Inyectable Cada jeringa ...</td>\n",
       "      <td>111</td>\n",
       "    </tr>\n",
       "    <tr>\n",
       "      <th>93</th>\n",
       "      <td>INSTITUTO NACIONAL DE REHABILITACIÓN</td>\n",
       "      <td>010.000.4154.00</td>\n",
       "      <td>720</td>\n",
       "      <td>LA-012M7B997-E115-2022</td>\n",
       "      <td>Vasopresina. Solución Inyectable Cada ampollet...</td>\n",
       "      <td>207</td>\n",
       "    </tr>\n",
       "    <tr>\n",
       "      <th>71</th>\n",
       "      <td>INSTITUTO NACIONAL DE CARDIOLOGÍA IGNACIO CHÁVEZ</td>\n",
       "      <td>010.000.4154.00</td>\n",
       "      <td>16200</td>\n",
       "      <td>LA-012M7B997-E115-2022</td>\n",
       "      <td>Vasopresina. Solución Inyectable Cada ampollet...</td>\n",
       "      <td>207</td>\n",
       "    </tr>\n",
       "  </tbody>\n",
       "</table>\n",
       "</div>"
      ],
      "text/plain": [
       "                                         Institución            Clave  Piezas  \\\n",
       "43  HOSPITAL REGIONAL DE ALTA ESPECIALIDAD DEL BAJÍO  010.000.0246.00    2304   \n",
       "18        HOSPITAL INFANTIL DE MÉXICO FEDERICO GÓMEZ  010.000.4242.00    2360   \n",
       "93              INSTITUTO NACIONAL DE REHABILITACIÓN  010.000.4154.00     720   \n",
       "71  INSTITUTO NACIONAL DE CARDIOLOGÍA IGNACIO CHÁVEZ  010.000.4154.00   16200   \n",
       "\n",
       "             Procedimiento                                        Descripción  \\\n",
       "43  LA-012M7B997-E115-2022  Propofol. Emulsion inyectable cada ampolleta o...   \n",
       "18  LA-012M7B997-E115-2022  Enoxaparina. Solución Inyectable Cada jeringa ...   \n",
       "93  LA-012M7B997-E115-2022  Vasopresina. Solución Inyectable Cada ampollet...   \n",
       "71  LA-012M7B997-E115-2022  Vasopresina. Solución Inyectable Cada ampollet...   \n",
       "\n",
       "    Precio  \n",
       "43      69  \n",
       "18     111  \n",
       "93     207  \n",
       "71     207  "
      ]
     },
     "execution_count": 4,
     "metadata": {},
     "output_type": "execute_result"
    }
   ],
   "source": [
    "# Carga la demanda desagregada que aplique\n",
    "from desagregada_to_pickle import load_pickles\n",
    "\n",
    "df_proccedure, procedimiento = load_pickles(desagregadas_folder)\n",
    "df_proccedure.info()\n",
    "df_proccedure.sample(4)\n"
   ]
  },
  {
   "cell_type": "markdown",
   "id": "a40ac2e9-2c58-4dd6-be23-9326608775e2",
   "metadata": {},
   "source": [
    "## Capturar contrato - Exportar base de contratos\n",
    "1) Captura de contrato: te va haciendo preguntas hasta que tienes un PDF con la leyenda que necesitamos en su cuerpo.\n",
    "2) Extrae la información de los diccionarios del PDF y genera un archivo .pickle con la información.\n",
    "3) Exporta pickle a excel para consulta de los usuarios."
   ]
  },
  {
   "cell_type": "code",
   "execution_count": 8,
   "id": "4aa50e15-82e1-45d0-a1d9-c9ba79378c05",
   "metadata": {
    "editable": true,
    "scrolled": true,
    "slideshow": {
     "slide_type": ""
    },
    "tags": []
   },
   "outputs": [
    {
     "name": "stdout",
     "output_type": "stream",
     "text": [
      "LA-012M7B997-E115-2022\n",
      "\tFolder LA-012M7B997-E115-2022 encontrado.\n",
      "✔ No se encontró 'LA-012M7B997-E115-2022.pickle'. Se creó un DataFrame vacío con columnas ['Institución', 'Procedimiento', 'Contrato', 'Fecha Inicio', 'Fecha Fin', 'Productos y precio', 'Total', 'Nombre del archivo', 'Estatus', 'Convenio modificatorio', 'Objeto del convenio'].\n"
     ]
    }
   ],
   "source": [
    "from folders_files_open import create_directory_if_not_exists\n",
    "from desagregada_to_pickle import base_procedimiento_pickle\n",
    "Columnas = ['Institución', 'Procedimiento', 'Contrato', 'Fecha Inicio', 'Fecha Fin', 'Productos y precio', 'Total', 'Nombre del archivo', 'Estatus', 'Convenio modificatorio', 'Objeto del convenio']\n",
    "print(procedimiento)\n",
    "Folder_procedimiento = os.path.join(folder_root, \"Implementación\", \"Contratos\", f\"{procedimiento}\")\n",
    "create_directory_if_not_exists(Folder_procedimiento)\n",
    "base_procedimiento = base_procedimiento_pickle(Folder_procedimiento, procedimiento, Columnas) \n",
    "\n",
    "\n",
    "# Capturar un nuevo contato\n",
    "#administracion_de_contratos(data_warehouse, working_folder, libreria_contratos)"
   ]
  },
  {
   "cell_type": "code",
   "execution_count": 6,
   "id": "b9f440e6-7088-4478-a79c-65c1adee6e53",
   "metadata": {},
   "outputs": [
    {
     "name": "stdout",
     "output_type": "stream",
     "text": [
      "Empty DataFrame\n",
      "Columns: [Institución, Procedimiento, Contrato, Fecha inicio, Fecha Fin, Productos y precio, Total, Nombre del archivo, Estatus, Convenio modificatorio, Objeto del convenio]\n",
      "Index: []\n"
     ]
    }
   ],
   "source": [
    "print(base_procedimiento.head(1))\n",
    "#STEP_C_read_PDF_from_source(libreria_contratos)"
   ]
  },
  {
   "cell_type": "code",
   "execution_count": null,
   "id": "ed1f442c-8b35-4a30-8122-15dc9341a4f6",
   "metadata": {},
   "outputs": [],
   "source": []
  },
  {
   "cell_type": "code",
   "execution_count": null,
   "id": "a8dbe0f2-c087-44dd-8fa2-24194da8997b",
   "metadata": {},
   "outputs": [],
   "source": []
  }
 ],
 "metadata": {
  "kernelspec": {
   "display_name": "Eseotres",
   "language": "python",
   "name": "venv"
  },
  "language_info": {
   "codemirror_mode": {
    "name": "ipython",
    "version": 3
   },
   "file_extension": ".py",
   "mimetype": "text/x-python",
   "name": "python",
   "nbconvert_exporter": "python",
   "pygments_lexer": "ipython3",
   "version": "3.13.3"
  }
 },
 "nbformat": 4,
 "nbformat_minor": 5
}
