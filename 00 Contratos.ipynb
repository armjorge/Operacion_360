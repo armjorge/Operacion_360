{
 "cells": [
  {
   "cell_type": "markdown",
   "id": "0",
   "metadata": {},
   "source": [
    "# Administración de Contratos\n",
    "**Input**\n",
    "1. Excel de demanda desagregada: con esta información se genera lista de claves y máximos.\n",
    "\n",
    "**Output**\n",
    "\n",
    "1. PDF's con nombre estructurado en folder específico. \n",
    "2. Base de datos con información de los contratos y convenios modificatorios generados con el string. \n",
    "\n",
    "**Notas**\n",
    "\n",
    "Diseño esto para, partiendo de la demanda desagregada: \n",
    "- Capturar contratos\n",
    "- Descargar xlsx de sistemas SAI, CAMUNDA, SAGI, ZOHO y PISP. \n",
    "- Consultar exceles internos\n",
    "- Organizar las órdenes descargadas\n",
    "- Generar los pickle de las órdenes\n",
    "Todo lo anterior es la información mínima indispensable para poder generar información de ventas, que será la referencia interna sobre la que desplegaremos el alimentado de reportes y la generación de reglas para dar retro al usuario."
   ]
  },
  {
   "cell_type": "code",
   "execution_count": null,
   "id": "1",
   "metadata": {
    "jupyter": {
     "source_hidden": true
    }
   },
   "outputs": [],
   "source": [
    "# Importa librerías y carpetas con funciones\n",
    "import sys\n",
    "import os\n",
    "import yaml\n",
    "import pandas as pd\n",
    "import glob\n",
    "# Define the root and script directory\n",
    "folder_root = os.getcwd()  # Get current directory (where Orquestación.ipynb is)\n",
    "script_folder = os.path.join(folder_root, \"Scripts\")  # Path to 'Scripts'\n",
    "# Ensure the script folder is added to sys.path\n",
    "if script_folder not in sys.path:\n",
    "    sys.path.append(script_folder)\n",
    "contratos_library_scripts = os.path.join(script_folder, \"Libreria_contratos\")\n",
    "if contratos_library_scripts not in sys.path:\n",
    "    sys.path.append(contratos_library_scripts)\n",
    "comunes_library_scripts = os.path.join(script_folder, \"Libreria_comunes\")\n",
    "if comunes_library_scripts not in sys.path:\n",
    "    sys.path.append(comunes_library_scripts)"
   ]
  },
  {
   "cell_type": "code",
   "execution_count": null,
   "id": "2",
   "metadata": {
    "jupyter": {
     "source_hidden": true
    }
   },
   "outputs": [],
   "source": [
    "# Cargar librerías internas\n",
    "from folders_files_open import create_directory_if_not_exists\n",
    "#from STEP_C_PDFhandling import STEP_C_read_PDF_from_source\n",
    "from dataframes_generation import create_dataframe #(extension, dataframe_name, columns, output_folder)\n",
    "# Generador de carpetas\n",
    "from folders_files_open import create_directory_if_not_exists\n",
    "# Administración de contratos:\n",
    "from administracion_de_contratos import administracion_de_contratos\n",
    "from print_columns import print_columns"
   ]
  },
  {
   "cell_type": "code",
   "execution_count": null,
   "id": "3",
   "metadata": {
    "jupyter": {
     "source_hidden": true
    }
   },
   "outputs": [],
   "source": [
    "#Cargar los folders requeridos. \n",
    "working_folder = desagregadas_folder = os.path.join(folder_root, \"Implementación\")\n",
    "desagregadas_folder = os.path.join(folder_root, \"Implementación\", \"Desagregadas\")\n",
    "create_directory_if_not_exists(working_folder)\n",
    "create_directory_if_not_exists(desagregadas_folder)\n",
    "\n",
    "# Cargar librerías internas\n",
    "from folders_files_open import create_directory_if_not_exists\n",
    "#from STEP_C_PDFhandling import STEP_C_read_PDF_from_source\n",
    "from dataframes_generation import create_dataframe #(extension, dataframe_name, columns, output_folder)\n",
    "# Generador de carpetas\n",
    "from folders_files_open import create_directory_if_not_exists\n",
    "# Administración de contratos:\n",
    "from administracion_de_contratos import administracion_de_contratos\n",
    "from print_columns import print_columns"
   ]
  },
  {
   "cell_type": "markdown",
   "id": "4",
   "metadata": {
    "jp-MarkdownHeadingCollapsed": true
   },
   "source": [
    "## Procesa inputs\n",
    "Las siguiente será la estructura de la carpeta con la información."
   ]
  },
  {
   "cell_type": "markdown",
   "id": "5",
   "metadata": {},
   "source": [
    "### (1) Carga y (2) limpia demanda desagregada\n",
    "En caso de que no tengas aún demanda desagregada por procedimiento ejecuta los siguientes pasos. \n",
    "El objetivo es generar un dataframe estandarizado con Institución, piezas, procedimiento, y precio. "
   ]
  },
  {
   "cell_type": "code",
   "execution_count": null,
   "id": "6",
   "metadata": {
    "jupyter": {
     "source_hidden": true
    }
   },
   "outputs": [],
   "source": [
    "# Seleccionar el archivo XLSX de la carpeta para procesar.\n",
    "XLSX_file_list = glob.glob(os.path.join(desagregadas_folder, \"*.xlsx\"))\n",
    "XLSX_file_list.sort()\n",
    "print(f\"Found {len(XLSX_file_list)} files:\")\n",
    "for f in XLSX_file_list:\n",
    "    print(f\"\\t {os.path.basename(f)}\")\n",
    "\n",
    "# prompt until a valid filename is entered\n",
    "while True:\n",
    "    XLSX_input = input(\"Ingresa el excel de la demanda desagregada:\")\n",
    "    # compare against basenames\n",
    "    basenames = [os.path.basename(f) for f in XLSX_file_list]\n",
    "    if XLSX_input in basenames:\n",
    "        selected_path = os.path.join(desagregadas_folder, XLSX_input)\n",
    "        # Using os.path\n",
    "        parts    = os.path.normpath(selected_path).split(os.sep)\n",
    "        folder1, folder2, fname = parts[-3], parts[-2], parts[-1]\n",
    "        print(f\"✅ Archivo seleccionado: {folder1}/{folder2}/{fname}\")\n",
    "        break\n",
    "    else:\n",
    "        print(\"❌ Selección no válida, elije un archivo de la lista. \")\n"
   ]
  },
  {
   "cell_type": "code",
   "execution_count": null,
   "id": "7",
   "metadata": {
    "jupyter": {
     "source_hidden": true
    }
   },
   "outputs": [],
   "source": [
    "# Selecciona la hoja e imprime las columnas\n",
    "# 1. load the workbook and list sheets\n",
    "xls = pd.ExcelFile(selected_path)\n",
    "sheets = xls.sheet_names\n",
    "print(\"Available sheets:\")\n",
    "for name in sheets:\n",
    "    print(\" •\", name)\n",
    "\n",
    "# 2. prompt until a valid sheet is chosen\n",
    "while True:\n",
    "    selected_sheet = input(\"Select a sheet by name: \")\n",
    "    if selected_sheet in sheets:\n",
    "        break\n",
    "    print(\"❌ Invalid sheet. Please choose one from the list above.\")\n",
    "\n",
    "# 3. read that sheet and print file path + its columns\n",
    "df_input_xlsx = pd.read_excel(selected_path, sheet_name=selected_sheet)\n",
    "print(f\"✅ {XLSX_input} — Columnas:\", )\n",
    "print_columns(list(df_input_xlsx.columns))"
   ]
  },
  {
   "cell_type": "code",
   "execution_count": null,
   "id": "8",
   "metadata": {
    "jupyter": {
     "source_hidden": true
    }
   },
   "outputs": [],
   "source": [
    "# Genera un dataframe con columnas adecuadas\n",
    "from PROCESA_DESAGREGADA_input import standarized_dataframe_generation\n",
    "standarized_base_columns = [\"Institución\", \"Procedimiento\", \"Clave\", \"Descripción\", \"Precio\", \"Piezas\"]\n",
    "raw_input_excel_columns = list(df_input_xlsx.columns)\n",
    "#print_columns(list(raw_input_excel_columns.columns), n_cols=3)\n",
    "\n",
    "df_clean = standarized_dataframe_generation(df_input_xlsx, standarized_base_columns)\n"
   ]
  },
  {
   "cell_type": "markdown",
   "id": "9",
   "metadata": {},
   "source": [
    "### (3) Transformar demanda desagregada\n",
    "Con el dataframe adecuadamente formateado, podemos hacer la agrupación por institución y clave, si se confirma que es lo esperado se exporta a pickle. "
   ]
  },
  {
   "cell_type": "code",
   "execution_count": null,
   "id": "10",
   "metadata": {
    "jupyter": {
     "source_hidden": true
    }
   },
   "outputs": [],
   "source": [
    "# Agregamos por institución y procedemos a guardar el pickle. \n",
    "from desagregada_to_pickle import save_to_pickle\n",
    "#print(df_clean.columns)\n",
    "#print(df_clean.info())\n",
    "df_grouped = (\n",
    "    df_clean\n",
    "    .groupby(['Institución','Clave'], as_index=False)\n",
    "    .agg(\n",
    "        Piezas        = ('Piezas',       'sum'),\n",
    "        Procedimiento = ('Procedimiento','first'),\n",
    "        Descripción   = ('Descripción',  'first'),\n",
    "        Precio        = ('Precio',       'first')\n",
    "    )\n",
    ")\n",
    "#print(df_grouped.columns)\n",
    "#print(df_grouped.info())\n",
    "\n",
    "df_grouped.head(20)\n",
    "#print(df_grouped['Procedimiento'].unique())\n",
    "\n",
    "while True:\n",
    "    user_revision = input(\"¿El dataframe es adecuado y está listo para ser guardado? (si/no): \")\n",
    "    respuesta = user_revision.strip().lower()\n",
    "\n",
    "    if respuesta == 'si':\n",
    "        save_to_pickle(df_grouped, desagregadas_folder)\n",
    "        break\n",
    "\n",
    "    elif respuesta == 'no':\n",
    "        print(\"Repite los pasos hasta que estés seguro.\")\n",
    "\n",
    "    else:\n",
    "        print(\"Respuesta no válida. Por favor, responde 'si' o 'no'.\")"
   ]
  },
  {
   "cell_type": "markdown",
   "id": "11",
   "metadata": {},
   "source": [
    "## Generación de outputs\n",
    "Aquí empieza todo, la demanda desagregada nos da una lista de instituciones, sus piezas máximas y mínimas"
   ]
  },
  {
   "cell_type": "markdown",
   "id": "12",
   "metadata": {},
   "source": [
    "### Elije el procedimiento y carga su demanda desagregada. \n",
    "En esta sección definimos a qué procedimiento corresponde el contrato que vamos a cargar. "
   ]
  },
  {
   "cell_type": "code",
   "execution_count": null,
   "id": "13",
   "metadata": {},
   "outputs": [],
   "source": [
    "# Carga la demanda desagregada que aplique\n",
    "from desagregada_to_pickle import load_pickles\n",
    "\n",
    "df_proccedure, procedimiento = load_pickles(desagregadas_folder)\n",
    "df_proccedure.info()\n",
    "df_proccedure.sample(4)\n"
   ]
  },
  {
   "cell_type": "markdown",
   "id": "14",
   "metadata": {},
   "source": [
    "### Capturar contrato - Exportar base de contratos\n",
    "1) Captura de contrato: te va haciendo preguntas hasta que tienes un PDF con la leyenda que necesitamos en su cuerpo.\n",
    "2) Extrae la información de los diccionarios del PDF y genera un archivo .pickle con la información.\n",
    "3) Exporta pickle a excel para consulta de los usuarios."
   ]
  },
  {
   "cell_type": "code",
   "execution_count": null,
   "id": "15",
   "metadata": {
    "editable": true,
    "slideshow": {
     "slide_type": ""
    },
    "tags": []
   },
   "outputs": [],
   "source": [
    "# Genera o carga la base de contratos capturados. \n",
    "from folders_files_open import create_directory_if_not_exists\n",
    "from desagregada_to_pickle import base_contratos_convenios_pickle\n",
    "Columnas_captura = ['Institución', 'Procedimiento', 'Contrato', 'Fecha Inicio', 'Fecha Fin', 'Productos y precio', 'Total', 'Nombre del archivo', 'Estatus', 'Convenio modificatorio', 'Objeto del convenio', 'Tipo']\n",
    "Folder_procedimiento = os.path.join(folder_root, \"Implementación\", \"Contratos\", f\"{procedimiento}\")\n",
    "create_directory_if_not_exists(Folder_procedimiento)\n",
    "base_contratos_convenios = base_contratos_convenios_pickle(Folder_procedimiento, procedimiento, Columnas_captura) \n",
    "print(f\"\\nprocedimiento:{procedimiento}\")\n",
    "\n",
    "# Capturar un nuevo contato\n",
    "#administracion_de_contratos(data_warehouse, working_folder, libreria_contratos)"
   ]
  },
  {
   "cell_type": "code",
   "execution_count": null,
   "id": "16",
   "metadata": {},
   "outputs": [],
   "source": [
    "# Comienza la captura. \n",
    "from STEP_A_orchestration import STEP_A_orchestration\n",
    "STEP_A_orchestration(df_proccedure, procedimiento, Folder_procedimiento)"
   ]
  },
  {
   "cell_type": "code",
   "execution_count": null,
   "id": "17",
   "metadata": {},
   "outputs": [],
   "source": [
    "# Exporta la base a excel en caso de necesitarla\n",
    "contratos_base_pickle = os.path.join(Folder_procedimiento, f\"{procedimiento}.pickle\")\n",
    "# Definir la ruta base del pickle\n",
    "contratos_base_pickle = os.path.join(Folder_procedimiento, f\"{procedimiento}.pickle\")\n",
    "\n",
    "def export_to_excel(pickle_path):\n",
    "    # 1. Cargar el DataFrame desde el pickle\n",
    "    df = pd.read_pickle(pickle_path)\n",
    "    \n",
    "    # 2. Construir la ruta de salida .xlsx\n",
    "    carpeta = os.path.dirname(pickle_path)\n",
    "    nombre = os.path.splitext(os.path.basename(pickle_path))[0] + \".xlsx\"\n",
    "    excel_path = os.path.join(carpeta, nombre)\n",
    "    \n",
    "    # 3. Guardar a Excel\n",
    "    df.to_excel(excel_path, index=False)\n",
    "    \n",
    "    print(f\"✅ Exportado a Excel: {excel_path}\")\n",
    "export_to_excel(contratos_base_pickle)"
   ]
  },
  {
   "cell_type": "code",
   "execution_count": null,
   "id": "18",
   "metadata": {
    "jupyter": {
     "source_hidden": true
    }
   },
   "outputs": [],
   "source": [
    "# Eliminar registros y archivos pickle\n",
    "from desagregada_to_pickle import handle_pickle\n",
    "contratos_base_pickle = os.path.join(Folder_procedimiento, f\"{procedimiento}.pickle\")\n",
    "handle_pickle(contratos_base_pickle, Folder_procedimiento)"
   ]
  },
  {
   "cell_type": "markdown",
   "id": "19",
   "metadata": {},
   "source": [
    "## Gestión de las copias físicas\n",
    "Tenemos una base homogénea y sólida con información de los contratos y convenios. Para aquellos casos en que contemos con copias físicas necesitamos especificar su posición en la carpeta donde se encuentren archivados. "
   ]
  },
  {
   "cell_type": "code",
   "execution_count": null,
   "id": "20",
   "metadata": {
    "jupyter": {
     "source_hidden": true
    }
   },
   "outputs": [],
   "source": [
    "# Genera la carpeta con contratos\n",
    "from STEP_D_Hard_Copy_Handling import STEP_D_Hard_Copy_Handling\n",
    "carpeta_contratos = os.path.join(folder_root, \"Implementación\", \"Contratos\")\n",
    "STEP_D_Hard_Copy_Handling(carpeta_contratos)"
   ]
  },
  {
   "cell_type": "code",
   "execution_count": null,
   "id": "21",
   "metadata": {},
   "outputs": [],
   "source": []
  }
 ],
 "metadata": {
  "kernelspec": {
   "display_name": "Eseotres",
   "language": "python",
   "name": "venv"
  },
  "language_info": {
   "codemirror_mode": {
    "name": "ipython",
    "version": 3
   },
   "file_extension": ".py",
   "mimetype": "text/x-python",
   "name": "python",
   "nbconvert_exporter": "python",
   "pygments_lexer": "ipython3",
   "version": "3.13.5"
  }
 },
 "nbformat": 4,
 "nbformat_minor": 5
}
