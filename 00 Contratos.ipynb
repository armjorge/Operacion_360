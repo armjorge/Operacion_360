{
 "cells": [
  {
   "cell_type": "markdown",
   "id": "4fe2091f-6315-4d41-a297-16a4d736a8b0",
   "metadata": {},
   "source": [
    "# Orquestador de ventas 360: resumen\n",
    "\n",
    "## Input\n",
    "1. Excel de demanda desagregada: con esta información se genera lista de claves y máximos. \n",
    "## Output\n",
    "1. PDF's con nombre estructurado en folder específico. \n",
    "2. Base de datos con información de los contratos y convenios modificatorios generados con el string. \n",
    "\n",
    "## Notas\n",
    "Diseño esto para, partiendo de la demanda desagregada: \n",
    "- Capturar contratos\n",
    "- Descargar xlsx de sistemas SAI, CAMUNDA, SAGI, ZOHO y PISP. \n",
    "- Consultar exceles internos\n",
    "- Organizar las órdenes descargadas\n",
    "- Generar los pickle de las órdenes\n",
    "Todo lo anterior es la información mínima indispensable para poder generar información de ventas, que será la referencia interna sobre la que desplegaremos el alimentado de reportes y la generación de reglas para dar retro al usuario."
   ]
  },
  {
   "cell_type": "code",
   "execution_count": 1,
   "id": "94378f05-026f-4b07-805d-04e1bf9db789",
   "metadata": {
    "jupyter": {
     "source_hidden": true
    }
   },
   "outputs": [],
   "source": [
    "# Importa librerías y carpetas con funciones\n",
    "import sys\n",
    "import os\n",
    "import yaml\n",
    "import pandas as pd\n",
    "import glob\n",
    "# Define the root and script directory\n",
    "folder_root = os.getcwd()  # Get current directory (where Orquestación.ipynb is)\n",
    "script_folder = os.path.join(folder_root, \"Scripts\")  # Path to 'Scripts'\n",
    "# Ensure the script folder is added to sys.path\n",
    "if script_folder not in sys.path:\n",
    "    sys.path.append(script_folder)\n",
    "contratos_library_scripts = os.path.join(script_folder, \"Libreria_contratos\")\n",
    "if contratos_library_scripts not in sys.path:\n",
    "    sys.path.append(contratos_library_scripts)\n",
    "\n",
    "sanciones_folder = os.path.join(script_folder, \"Libreria_SancionesIMSSB\")\n",
    "if sanciones_folder not in sys.path:\n",
    "    sys.path.append(sanciones_folder)"
   ]
  },
  {
   "cell_type": "code",
   "execution_count": 2,
   "id": "a9db077c-4f81-4568-bbb0-c272ffccd02b",
   "metadata": {
    "jupyter": {
     "source_hidden": true
    }
   },
   "outputs": [],
   "source": [
    "# Cargar librerías internas\n",
    "from folders_files_open import create_directory_if_not_exists\n",
    "from STEP_C_PDFhandling import STEP_C_read_PDF_from_source\n",
    "from dataframes_generation import create_dataframe #(extension, dataframe_name, columns, output_folder)\n",
    "# Generador de carpetas\n",
    "from folders_files_open import create_directory_if_not_exists\n",
    "# Administración de contratos:\n",
    "from administracion_de_contratos import administracion_de_contratos\n",
    "from sanciones_IMSSB_processing import print_columns"
   ]
  },
  {
   "cell_type": "code",
   "execution_count": 3,
   "id": "b4dd5177-7398-45c9-8662-93549380a6fe",
   "metadata": {
    "jupyter": {
     "source_hidden": true
    }
   },
   "outputs": [
    {
     "name": "stdout",
     "output_type": "stream",
     "text": [
      "\tFolder Implementación encontrado.\n",
      "\tFolder Desagregadas encontrado.\n"
     ]
    }
   ],
   "source": [
    "#Cargar los folders requeridos. \n",
    "working_folder = desagregadas_folder = os.path.join(folder_root, \"Implementación\")\n",
    "desagregadas_folder = os.path.join(folder_root, \"Implementación\", \"Desagregadas\")\n",
    "create_directory_if_not_exists(working_folder)\n",
    "create_directory_if_not_exists(desagregadas_folder)"
   ]
  },
  {
   "cell_type": "markdown",
   "id": "21ec8c60-ae4f-4469-80ec-b73e82f8f280",
   "metadata": {},
   "source": [
    "# Procesa inputs\n",
    "Las siguiente será la estructura de la carpeta con la información."
   ]
  },
  {
   "cell_type": "markdown",
   "id": "714cb57b-5ae7-468f-bb72-03b2d8db66c1",
   "metadata": {},
   "source": [
    "### Procesa archivos de desagregada raw"
   ]
  },
  {
   "cell_type": "code",
   "execution_count": 4,
   "id": "7911d24d-5371-4a56-82d8-2ec881971c1b",
   "metadata": {
    "jupyter": {
     "source_hidden": true
    }
   },
   "outputs": [
    {
     "name": "stdout",
     "output_type": "stream",
     "text": [
      "Found 3 files:\n",
      "\t Demanda desagregada global.xlsx\n",
      "\t E115 Raw Demanda desagregada global.xlsx\n",
      "\t desagregada.xlsx\n"
     ]
    },
    {
     "name": "stdin",
     "output_type": "stream",
     "text": [
      "Ingresa el excel de la demanda desagregada: E115 Raw Demanda desagregada global.xlsx\n"
     ]
    },
    {
     "name": "stdout",
     "output_type": "stream",
     "text": [
      "✅ Archivo seleccionado: Implementación/Desagregadas/E115 Raw Demanda desagregada global.xlsx\n"
     ]
    }
   ],
   "source": [
    "# Seleccionar el archivo XLSX de la carpeta para procesar.\n",
    "XLSX_file_list = glob.glob(os.path.join(desagregadas_folder, \"*.xlsx\"))\n",
    "XLSX_file_list.sort()\n",
    "print(f\"Found {len(XLSX_file_list)} files:\")\n",
    "for f in XLSX_file_list:\n",
    "    print(f\"\\t {os.path.basename(f)}\")\n",
    "\n",
    "# prompt until a valid filename is entered\n",
    "while True:\n",
    "    XLSX_input = input(\"Ingresa el excel de la demanda desagregada:\")\n",
    "    # compare against basenames\n",
    "    basenames = [os.path.basename(f) for f in XLSX_file_list]\n",
    "    if XLSX_input in basenames:\n",
    "        selected_path = os.path.join(desagregadas_folder, XLSX_input)\n",
    "        # Using os.path\n",
    "        parts    = os.path.normpath(selected_path).split(os.sep)\n",
    "        folder1, folder2, fname = parts[-3], parts[-2], parts[-1]\n",
    "        print(f\"✅ Archivo seleccionado: {folder1}/{folder2}/{fname}\")\n",
    "        break\n",
    "    else:\n",
    "        print(\"❌ Selección no válida, elije un archivo de la lista. \")\n"
   ]
  },
  {
   "cell_type": "code",
   "execution_count": 5,
   "id": "a1590bf8-863e-4f47-b596-2a0b35048a49",
   "metadata": {
    "jupyter": {
     "source_hidden": true
    },
    "scrolled": true
   },
   "outputs": [
    {
     "name": "stdout",
     "output_type": "stream",
     "text": [
      "Available sheets:\n",
      " • 100%\n",
      " • 40%\n",
      " • Propofol\n",
      " • Global\n",
      " • Sheet2\n",
      " • Sheet1\n"
     ]
    },
    {
     "name": "stdin",
     "output_type": "stream",
     "text": [
      "Select a sheet by name:  Global\n"
     ]
    },
    {
     "name": "stdout",
     "output_type": "stream",
     "text": [
      "✅ E115 Raw Demanda desagregada global.xlsx — Columnas:\n",
      "INSTITUCION                AÑO                        CANT MAX ESEOTRES\n",
      "PROV. 2  PROVEEDOR 2                \n",
      "INSTITUCION HOMOLOGADA     FTE FMTO                   PRECIO ESEOTRES            PROCED.                    \n",
      "UNIDAD                     CLAVE ADJ                  Total                      \n",
      "ENTIDAD                    CANT MIN ESEOTRES          Descripción                \n"
     ]
    }
   ],
   "source": [
    "# Selecciona la hoja e imprime las columnas\n",
    "# 1. load the workbook and list sheets\n",
    "xls = pd.ExcelFile(selected_path)\n",
    "sheets = xls.sheet_names\n",
    "print(\"Available sheets:\")\n",
    "for name in sheets:\n",
    "    print(\" •\", name)\n",
    "\n",
    "# 2. prompt until a valid sheet is chosen\n",
    "while True:\n",
    "    selected_sheet = input(\"Select a sheet by name: \")\n",
    "    if selected_sheet in sheets:\n",
    "        break\n",
    "    print(\"❌ Invalid sheet. Please choose one from the list above.\")\n",
    "\n",
    "# 3. read that sheet and print file path + its columns\n",
    "df_input_xlsx = pd.read_excel(selected_path, sheet_name=selected_sheet)\n",
    "print(f\"✅ {XLSX_input} — Columnas:\", )\n",
    "print_columns(list(df_input_xlsx.columns))"
   ]
  },
  {
   "cell_type": "code",
   "execution_count": 6,
   "id": "4e505998-d6c6-4f4e-b63a-78daa63a9650",
   "metadata": {
    "jupyter": {
     "source_hidden": true
    }
   },
   "outputs": [
    {
     "name": "stdout",
     "output_type": "stream",
     "text": [
      "INSTITUCION                FTE FMTO                   Total                      \n",
      "INSTITUCION HOMOLOGADA     CLAVE ADJ                  Descripción                \n",
      "UNIDAD                     CANT MIN ESEOTRES          PROVEEDOR 2                \n",
      "ENTIDAD                    CANT MAX ESEOTRES\n",
      "PROV. 2  PROCED.                    \n",
      "AÑO                        PRECIO ESEOTRES            \n",
      "Raw columns available: ['institucion', 'institucion homologada', 'unidad', 'entidad', 'año', 'fte fmto', 'clave adj', 'cant min eseotres', 'cant max eseotres prov 2', 'precio eseotres', 'total', 'descripción', 'proveedor 2', 'proced']\n"
     ]
    },
    {
     "name": "stdin",
     "output_type": "stream",
     "text": [
      "→ Which raw column maps to 'Institución'?  institucion homologada\n",
      "→ Which raw column maps to 'Procedimiento'?  proced\n",
      "→ Which raw column maps to 'Clave'?  clave adj\n",
      "→ Which raw column maps to 'Descripción'?  descripción\n",
      "→ Which raw column maps to 'Precio'?  precio eseotres\n",
      "→ Which raw column maps to 'Piezas'?  cant max eseotres prov 2\n"
     ]
    }
   ],
   "source": [
    "# Genera un dataframe con columnas adecuadas\n",
    "from PROCESA_DESAGREGADA_input import standarized_dataframe_generation\n",
    "print_columns(list(df_input_xlsx.columns), n_cols=3)\n",
    "standarized_base_columns = [\"Institución\", \"Procedimiento\", \"Clave\", \"Descripción\", \"Precio\", \"Piezas\"]\n",
    "raw_input_excel_columns = list(df_input_xlsx.columns)\n",
    "\n",
    "df_clean = standarized_dataframe_generation(df_input_xlsx, standarized_base_columns)\n"
   ]
  },
  {
   "cell_type": "code",
   "execution_count": 9,
   "id": "ebdc814e-a0c9-4941-8927-b68b29faaa21",
   "metadata": {
    "scrolled": true
   },
   "outputs": [
    {
     "name": "stdout",
     "output_type": "stream",
     "text": [
      "Index(['Institución', 'Procedimiento', 'Clave', 'Descripción', 'Precio',\n",
      "       'Piezas'],\n",
      "      dtype='object')\n",
      "<class 'pandas.core.frame.DataFrame'>\n",
      "RangeIndex: 618 entries, 0 to 617\n",
      "Data columns (total 6 columns):\n",
      " #   Column         Non-Null Count  Dtype \n",
      "---  ------         --------------  ----- \n",
      " 0   Institución    618 non-null    object\n",
      " 1   Procedimiento  618 non-null    object\n",
      " 2   Clave          618 non-null    object\n",
      " 3   Descripción    618 non-null    object\n",
      " 4   Precio         618 non-null    int64 \n",
      " 5   Piezas         618 non-null    int64 \n",
      "dtypes: int64(2), object(4)\n",
      "memory usage: 29.1+ KB\n",
      "None\n",
      "Index(['Institución', 'Clave', 'Piezas', 'Procedimiento', 'Descripción',\n",
      "       'Precio'],\n",
      "      dtype='object')\n",
      "<class 'pandas.core.frame.DataFrame'>\n",
      "RangeIndex: 104 entries, 0 to 103\n",
      "Data columns (total 6 columns):\n",
      " #   Column         Non-Null Count  Dtype \n",
      "---  ------         --------------  ----- \n",
      " 0   Institución    104 non-null    object\n",
      " 1   Clave          104 non-null    object\n",
      " 2   Piezas         104 non-null    int64 \n",
      " 3   Procedimiento  104 non-null    object\n",
      " 4   Descripción    104 non-null    object\n",
      " 5   Precio         104 non-null    int64 \n",
      "dtypes: int64(2), object(4)\n",
      "memory usage: 5.0+ KB\n",
      "None\n",
      "                                   Institución            Clave  Piezas  \\\n",
      "0       HOSPITAL DE ESPECIALIDADES PEDIÁTRICAS  010.000.0246.00      52   \n",
      "1       HOSPITAL DE ESPECIALIDADES PEDIÁTRICAS  010.000.4154.00     100   \n",
      "2       HOSPITAL DE ESPECIALIDADES PEDIÁTRICAS  010.000.4242.00     240   \n",
      "3       HOSPITAL DE ESPECIALIDADES PEDIÁTRICAS  010.000.4411.00      40   \n",
      "4                         HOSPITAL DE LA MUJER  010.000.0246.00     268   \n",
      "5                         HOSPITAL DE LA MUJER  010.000.4154.00      56   \n",
      "6                         HOSPITAL DE LA MUJER  010.000.4224.00    2002   \n",
      "7                         HOSPITAL DE LA MUJER  010.000.4242.00       4   \n",
      "8                   HOSPITAL GENERAL DE MÉXICO  010.000.4154.00   12728   \n",
      "9                   HOSPITAL GENERAL DE MÉXICO  010.000.4224.00    4860   \n",
      "10                  HOSPITAL GENERAL DE MÉXICO  010.000.4242.00    1880   \n",
      "11    HOSPITAL GENERAL DR. MANUEL GEA GONZÁLEZ  010.000.0246.00     505   \n",
      "12    HOSPITAL GENERAL DR. MANUEL GEA GONZÁLEZ  010.000.4154.00    6760   \n",
      "13    HOSPITAL GENERAL DR. MANUEL GEA GONZÁLEZ  010.000.4224.00      20   \n",
      "14    HOSPITAL GENERAL DR. MANUEL GEA GONZÁLEZ  010.000.4411.00    4600   \n",
      "15    HOSPITAL GENERAL DR. MANUEL GEA GONZÁLEZ  010.000.5319.01     524   \n",
      "16  HOSPITAL INFANTIL DE MÉXICO FEDERICO GÓMEZ  010.000.0246.00     404   \n",
      "17  HOSPITAL INFANTIL DE MÉXICO FEDERICO GÓMEZ  010.000.4154.00    2344   \n",
      "18  HOSPITAL INFANTIL DE MÉXICO FEDERICO GÓMEZ  010.000.4242.00    2360   \n",
      "19  HOSPITAL INFANTIL DE MÉXICO FEDERICO GÓMEZ  010.000.4411.00    1746   \n",
      "\n",
      "             Procedimiento                                        Descripción  \\\n",
      "0   LA-012M7B997-E115-2022  Propofol. Emulsion inyectable cada ampolleta o...   \n",
      "1   LA-012M7B997-E115-2022  Vasopresina. Solución Inyectable Cada ampollet...   \n",
      "2   LA-012M7B997-E115-2022  Enoxaparina. Solución Inyectable Cada jeringa ...   \n",
      "3   LA-012M7B997-E115-2022  Latanoprost. Solución Oftálmica Cada ml contie...   \n",
      "4   LA-012M7B997-E115-2022  Propofol. Emulsion inyectable cada ampolleta o...   \n",
      "5   LA-012M7B997-E115-2022  Vasopresina. Solución Inyectable Cada ampollet...   \n",
      "6   LA-012M7B997-E115-2022  Enoxaparina. Solución Inyectable Cada jeringa ...   \n",
      "7   LA-012M7B997-E115-2022  Enoxaparina. Solución Inyectable Cada jeringa ...   \n",
      "8   LA-012M7B997-E115-2022  Vasopresina. Solución Inyectable Cada ampollet...   \n",
      "9   LA-012M7B997-E115-2022  Enoxaparina. Solución Inyectable Cada jeringa ...   \n",
      "10  LA-012M7B997-E115-2022  Enoxaparina. Solución Inyectable Cada jeringa ...   \n",
      "11  LA-012M7B997-E115-2022  Propofol. Emulsion inyectable cada ampolleta o...   \n",
      "12  LA-012M7B997-E115-2022  Vasopresina. Solución Inyectable Cada ampollet...   \n",
      "13  LA-012M7B997-E115-2022  Enoxaparina. Solución Inyectable Cada jeringa ...   \n",
      "14  LA-012M7B997-E115-2022  Latanoprost. Solución Oftálmica Cada ml contie...   \n",
      "15  LA-012M7B997-E115-2022  Dutasterida. Cápsula Cada Cápsula contiene: Du...   \n",
      "16  LA-012M7B997-E115-2022  Propofol. Emulsion inyectable cada ampolleta o...   \n",
      "17  LA-012M7B997-E115-2022  Vasopresina. Solución Inyectable Cada ampollet...   \n",
      "18  LA-012M7B997-E115-2022  Enoxaparina. Solución Inyectable Cada jeringa ...   \n",
      "19  LA-012M7B997-E115-2022  Latanoprost. Solución Oftálmica Cada ml contie...   \n",
      "\n",
      "    Precio  \n",
      "0       69  \n",
      "1      207  \n",
      "2      111  \n",
      "3       83  \n",
      "4       69  \n",
      "5      207  \n",
      "6      207  \n",
      "7      111  \n",
      "8      207  \n",
      "9      207  \n",
      "10     111  \n",
      "11      69  \n",
      "12     207  \n",
      "13     207  \n",
      "14      83  \n",
      "15     327  \n",
      "16      69  \n",
      "17     207  \n",
      "18     111  \n",
      "19      83  \n"
     ]
    }
   ],
   "source": [
    "print(df_clean.columns)\n",
    "print(df_clean.info())\n",
    "df_grouped = (\n",
    "    df_clean\n",
    "    .groupby(['Institución','Clave'], as_index=False)\n",
    "    .agg(\n",
    "        Piezas        = ('Piezas',       'sum'),\n",
    "        Procedimiento = ('Procedimiento','first'),\n",
    "        Descripción   = ('Descripción',  'first'),\n",
    "        Precio        = ('Precio',       'first')\n",
    "    )\n",
    ")\n",
    "print(df_grouped.columns)\n",
    "print(df_grouped.info())\n",
    "print(df_grouped.head(20))\n",
    "#print(df_grouped['Procedimiento'].unique())"
   ]
  },
  {
   "cell_type": "markdown",
   "id": "4b6adc99-ff2f-44d2-92d7-de1be0239ef3",
   "metadata": {},
   "source": [
    "## Procesa y elije demanda desagregada"
   ]
  },
  {
   "cell_type": "code",
   "execution_count": 40,
   "id": "0d7eb743-3fa7-43b4-91fc-d1d482fe8d62",
   "metadata": {},
   "outputs": [],
   "source": [
    "# Carga la demanda desagregada que aplique\n"
   ]
  },
  {
   "cell_type": "code",
   "execution_count": null,
   "id": "12f17f16-2bc5-4731-b465-e45941cf069f",
   "metadata": {},
   "outputs": [],
   "source": [
    "#Genera la estructura de carpetas. \n",
    "create_directory_if_not_exists(bases_folder)\n",
    "create_directory_if_not_exists(archivos_internos)\n",
    "create_directory_if_not_exists(data_warehouse)\n",
    "create_directory_if_not_exists(organizador_archivos)\n",
    "create_directory_if_not_exists(sai_archivos)\n",
    "create_directory_if_not_exists(camunda_archivos)\n",
    "create_directory_if_not_exists(pisp_archivos)\n",
    "create_directory_if_not_exists(sagi_archivos)\n",
    "create_directory_if_not_exists(libreria_contratos)"
   ]
  },
  {
   "cell_type": "markdown",
   "id": "9647b3db-88a5-4e46-a80e-eec440fb9733",
   "metadata": {},
   "source": [
    "## Generador de dataframes"
   ]
  },
  {
   "cell_type": "code",
   "execution_count": null,
   "id": "72ccdc6a-0a21-4772-bd13-7c31d67b1ade",
   "metadata": {},
   "outputs": [],
   "source": [
    "#Carga las columnas del archivo YAML\n",
    "yaml_file_path = os.path.join(folder_root, \"df_headers.yaml\")\n",
    "with open(yaml_file_path, \"r\") as f:\n",
    "    columns_data = yaml.safe_load(f)\n",
    "\n",
    "columnas_desagregada = columns_data[\"Desagregada_columns\"]\n",
    "df_desagregada = create_dataframe(\"xlsx\", \"desagregada\", columns_data[\"Desagregada_columns\"], data_warehouse)\n",
    "#print(df_desagregada.head())"
   ]
  },
  {
   "cell_type": "markdown",
   "id": "940871d0-3d41-4376-95de-0c885ad9435f",
   "metadata": {},
   "source": [
    "# Administrador de contratos\n",
    "Aquí empieza todo, la demanda desagregada nos da una lista de instituciones a las que debemos de visitar. "
   ]
  },
  {
   "cell_type": "markdown",
   "id": "a40ac2e9-2c58-4dd6-be23-9326608775e2",
   "metadata": {},
   "source": [
    "## Capturar y Exportar base de contratos\n",
    "1) Captura de contrato: te va haciendo preguntas hasta que tienes un PDF con la leyenda que necesitamos en su cuerpo.\n",
    "2) Extrae la información de los diccionarios del PDF y genera un archivo .pickle con la información.\n",
    "3) Exporta pickle a excel para consulta de los usuarios."
   ]
  },
  {
   "cell_type": "code",
   "execution_count": null,
   "id": "4aa50e15-82e1-45d0-a1d9-c9ba79378c05",
   "metadata": {
    "editable": true,
    "scrolled": true,
    "slideshow": {
     "slide_type": ""
    },
    "tags": []
   },
   "outputs": [],
   "source": [
    "# Capturar un nuevo contato\n",
    "administracion_de_contratos(data_warehouse, working_folder, libreria_contratos)"
   ]
  },
  {
   "cell_type": "code",
   "execution_count": null,
   "id": "b9f440e6-7088-4478-a79c-65c1adee6e53",
   "metadata": {},
   "outputs": [],
   "source": [
    "STEP_C_read_PDF_from_source(libreria_contratos)"
   ]
  },
  {
   "cell_type": "code",
   "execution_count": null,
   "id": "ed1f442c-8b35-4a30-8122-15dc9341a4f6",
   "metadata": {},
   "outputs": [],
   "source": []
  },
  {
   "cell_type": "code",
   "execution_count": null,
   "id": "a8dbe0f2-c087-44dd-8fa2-24194da8997b",
   "metadata": {},
   "outputs": [],
   "source": []
  }
 ],
 "metadata": {
  "kernelspec": {
   "display_name": "Eseotres",
   "language": "python",
   "name": "venv"
  },
  "language_info": {
   "codemirror_mode": {
    "name": "ipython",
    "version": 3
   },
   "file_extension": ".py",
   "mimetype": "text/x-python",
   "name": "python",
   "nbconvert_exporter": "python",
   "pygments_lexer": "ipython3",
   "version": "3.13.3"
  }
 },
 "nbformat": 4,
 "nbformat_minor": 5
}
