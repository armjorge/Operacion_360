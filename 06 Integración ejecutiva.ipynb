{
 "cells": [
  {
   "cell_type": "code",
   "execution_count": null,
   "id": "0",
   "metadata": {
    "jupyter": {
     "source_hidden": true
    }
   },
   "outputs": [],
   "source": [
    "# Importa librerías y chromedriver\n",
    "import sys\n",
    "import os\n",
    "import glob\n",
    "import yaml\n",
    "import pandas as pd\n",
    "from datetime import datetime\n",
    "import shutil\n",
    "import time\n",
    "\n",
    "# Define the root and script directory\n",
    "folder_root = os.getcwd()  # Get current directory (where Orquestación.ipynb is)\n",
    "script_folder = os.path.join(folder_root, \"Scripts\")  # Path to 'Scripts'\n",
    "# Ensure the script folder is added to sys.path\n",
    "if script_folder not in sys.path:\n",
    "    sys.path.append(script_folder)\n",
    "Libreria_facturas = os.path.join(script_folder, \"Libreria_facturas\")\n",
    "if Libreria_facturas not in sys.path:\n",
    "    sys.path.append(Libreria_facturas)\n",
    "Libreria_comunes = os.path.join(script_folder, \"Libreria_comunes\")\n",
    "if Libreria_comunes not in sys.path:\n",
    "    sys.path.append(Libreria_comunes)\n",
    "\n",
    "Libreria_integracion = os.path.join(script_folder, \"Libreria_integracion\")\n",
    "if Libreria_integracion not in sys.path:\n",
    "    sys.path.append(Libreria_integracion)"
   ]
  },
  {
   "cell_type": "markdown",
   "id": "1",
   "metadata": {},
   "source": [
    "# Integración Ejecutiva IMSS\n",
    "Esta script puebla el archivo de altas con la información de facturas y prei. \n",
    "Se recomenda: \n",
    "- Descargar PREI, SAI\n",
    "- Correr Facturas IMSS\n",
    "- "
   ]
  },
  {
   "cell_type": "code",
   "execution_count": null,
   "id": "2",
   "metadata": {},
   "outputs": [],
   "source": [
    "# Cargar integración IMSS\n",
    "from df_multi_match import multi_column_lookup\n",
    "from integracion_imss import integracion_IMSS\n",
    "IMSS_PREI = os.path.join(folder_root, \"Implementación\", \"PREI\", 'PREI.xlsx')\n",
    "IMSS_altas = os.path.join(folder_root, \"Implementación\", 'SAI', 'Ordenes_altas.xlsx')\n",
    "IMSS_Facturas = os.path.join(folder_root, \"Implementación\", \"Facturas\", 'IMSS', 'IMSS.xlsx')\n",
    "xlsx_database = os.path.join(folder_root, \"Implementación\", \"Facturas\", 'xmls_extraidos.xlsx')\n",
    "\n",
    "integracion_IMSS(IMSS_PREI, IMSS_altas, IMSS_Facturas, xlsx_database, multi_column_lookup)"
   ]
  },
  {
   "cell_type": "code",
   "execution_count": null,
   "id": "3",
   "metadata": {},
   "outputs": [],
   "source": []
  }
 ],
 "metadata": {
  "kernelspec": {
   "display_name": "Eseotres",
   "language": "python",
   "name": "venv"
  },
  "language_info": {
   "codemirror_mode": {
    "name": "ipython",
    "version": 3
   },
   "file_extension": ".py",
   "mimetype": "text/x-python",
   "name": "python",
   "nbconvert_exporter": "python",
   "pygments_lexer": "ipython3",
   "version": "3.13.5"
  }
 },
 "nbformat": 4,
 "nbformat_minor": 5
}
