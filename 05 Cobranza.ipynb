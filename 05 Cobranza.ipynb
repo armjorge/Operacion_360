{
 "cells": [
  {
   "cell_type": "markdown",
   "id": "0",
   "metadata": {},
   "source": [
    "# INSABI - IMSS Bienestar\n",
    "Esta institución a través de la Oficina Única de Atención a Proveedores nos solicita un excel con datos de: \n",
    "- Camunda\n",
    "- SAGI\n",
    "- Sanciones\n",
    "- Pagos\n",
    "Para dar estatus del pago.\n",
    "Usaremos una función iloc clásica para poblar cada fila con su valor correspondiente en otro dataframe.\n"
   ]
  },
  {
   "cell_type": "code",
   "execution_count": null,
   "id": "1",
   "metadata": {},
   "outputs": [],
   "source": [
    "# Importa librerías\n",
    "import sys\n",
    "import os\n",
    "import yaml\n",
    "import pandas as pd\n",
    "import glob\n",
    "# Define the root and script directory\n",
    "folder_root = os.getcwd()  # Get current directory (where Orquestación.ipynb is)\n",
    "script_folder = os.path.join(folder_root, \"Scripts\")  # Path to 'Scripts'\n",
    "# Ensure the script folder is added to sys.path\n",
    "if script_folder not in sys.path:\n",
    "    sys.path.append(script_folder)\n",
    "libreria_cobranza = os.path.join(script_folder, \"Libreria_cobranza\")\n",
    "if libreria_cobranza not in sys.path:\n",
    "    sys.path.append(libreria_cobranza)\n",
    "comunes_library_scripts = os.path.join(script_folder, \"Libreria_comunes\")\n",
    "if comunes_library_scripts not in sys.path:\n",
    "    sys.path.append(comunes_library_scripts)\n",
    "from folders_files_open import create_directory_if_not_exists\n"
   ]
  },
  {
   "cell_type": "code",
   "execution_count": null,
   "id": "2",
   "metadata": {},
   "outputs": [],
   "source": [
    "#Cargar los folders requeridos. \n",
    "working_folder = desagregadas_folder = os.path.join(folder_root, \"Implementación\")\n",
    "atencion_proveedores_path = os.path.join(folder_root, \"Implementación\", \"IMSS-Bienestar Atención Proveedores\")\n",
    "create_directory_if_not_exists(working_folder)\n",
    "create_directory_if_not_exists(atencion_proveedores)\n",
    "\n"
   ]
  },
  {
   "cell_type": "code",
   "execution_count": null,
   "id": "3",
   "metadata": {},
   "outputs": [],
   "source": [
    "from INSABI_OUA import base_pagos_atencion_proveedores, generacion_xlsx_atencion_proveedores\n",
    "\n",
    "SAGI_path = os.path.join(folder_root, \"Implementación\", 'SAGI', '03 07 2024 ESTATUS_SAGI.xlsx') # cambiar dinámicamente\n",
    "sanciones_path = os.path.join(folder_root, \"Implementación\", 'Sanciones IMSSB', 'Penas-Oficios-Ordenes.xlsx')\n",
    "sheet_sanciones = 'Desglose'\n",
    "camunda_path = os.path.join(folder_root, \"Implementación\", 'CAMUNDA', 'Camunda v2025.xlsx')\n",
    "columnas_layout = ['Contrato', 'Proveedor', 'Factura', 'Folio Fiscal', 'Orden suministro', 'Importe', 'Importe Sanción', 'Importe Deductiva', 'Cédula', 'Fte Fmto ', 'Año Contrato', 'Fecha ingreso factura', 'Estatus']\n",
    "xlsx_atencion_proveedores = os.path.join(folder_root, \"Implementación\", \"IMSS-Bienestar Atención Proveedores\", \"Atencion proveedores raw\")\n",
    "base_pagos_atencion_proveedores(xlsx_atencion_proveedores)\n",
    "\n",
    "generacion_xlsx_atencion_proveedores(SAGI_path,sanciones_path, sheet_sanciones, camunda_path, atencion_proveedores_path, columnas_layout)"
   ]
  },
  {
   "cell_type": "code",
   "execution_count": null,
   "id": "4",
   "metadata": {},
   "outputs": [],
   "source": []
  }
 ],
 "metadata": {
  "kernelspec": {
   "display_name": "Eseotres",
   "language": "python",
   "name": "venv"
  },
  "language_info": {
   "codemirror_mode": {
    "name": "ipython",
    "version": 3
   },
   "file_extension": ".py",
   "mimetype": "text/x-python",
   "name": "python",
   "nbconvert_exporter": "python",
   "pygments_lexer": "ipython3",
   "version": "3.13.5"
  }
 },
 "nbformat": 4,
 "nbformat_minor": 5
}
